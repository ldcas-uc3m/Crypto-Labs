{
 "cells": [
  {
   "attachments": {},
   "cell_type": "markdown",
   "id": "2bf79cee-adfc-4906-9455-c92a6b12d43f",
   "metadata": {},
   "source": [
    "# Notebook for Lab 1 - Symmetric Encryption\n",
    "By Luis Daniel Casais Mezquida  \n",
    "Cryptography 22/23  \n",
    "Bachelor's degree in Applied Mathematics and Computing, grp. 121  \n",
    "Universidad Carlos III de Madrid"
   ]
  },
  {
   "cell_type": "markdown",
   "id": "11410c69-5d78-4494-b3e7-e1d71124e849",
   "metadata": {},
   "source": [
    "## General goal\n",
    "In this lab you’ll get familiarized with programming (*using*) symmetric encryption algorithms using a modern library. The lab makes use of Python language but it could also be done with Java or C-like languages. \n",
    "\n",
    "## Specific goals\n",
    "- Make use of different data representation formats (byte/ascii, string, hexadecimal, b64). Students should be able to recognize each of the formats and translate from one format to another.\n",
    "- Make use of the pyca/cryptography library to encrypt and decrypt simple messages (strings) with block ciphers (AES, Camellia) operated under different modes (ECB, CBC and CTR) and considering padding issues.\n",
    "- Make use of a robust pseudo random number generator function/algorithm to generate keys, initialization vectors and nonces.\n",
    "- Understand how modifications in the ciphertext affect the decryption result when different operation modes are used.\n",
    "- Make use of the pyca/cryptography library to encrypt and decrypt simple messages with stream ciphers (ChaCha20).\n",
    "- Make use of the pylfsr library to generate a keystream from a LFSR."
   ]
  },
  {
   "attachments": {},
   "cell_type": "markdown",
   "id": "251612b4-0062-48eb-8001-4ff9834ca032",
   "metadata": {},
   "source": [
    "## Modules\n",
    "Cryptography library includes both high level recipes and low-level interfaces to common cryptographic algorithms such as symmetric ciphers, message digests, and key derivation functions. For more details you can consult [the following link](https://pypi.org/project/cryptography).  \n",
    "For the moment, we are going to directly use the primitives, forgetting about Fernet constructions. You’ll may find useful to have these links as reference:\n",
    "- [Symmetric encryption](https://cryptography.io/en/latest/hazmat/primitives/symmetric-encryption/)\n",
    "- [Symmetric padding](https://cryptography.io/en/latest/hazmat/primitives/padding/)\n",
    "- [Link to info about os library](https://docs.python.org/3/library/os.html)\n",
    "- [Link to info about base64 library](https://docs.python.org/3/library/base64.html)\n",
    "- [Link info about pylfsr library](https://pypi.org/project/pylfsr/)\n",
    "- [Link to your very first encryption/decryption code snippet example](https://cryptography.io/en/latest/hazmat/primitives/symmetric-encryption/#cryptography.hazmat.primitives.ciphers.Cipher)"
   ]
  },
  {
   "cell_type": "markdown",
   "id": "6edc10a8-9941-41c3-9082-c40299e7b934",
   "metadata": {},
   "source": [
    "## Lab assignment and assessment\n",
    "You are given one Python script/notebook, that contains the headers of all the functions you should develop at the end of this lab. Next, you’ll be guided through several tasks you’ll have to complete in order to do so.\n",
    "\n",
    "Lab 1 assessment will be performed with a test/quiz/exam at the end of the course (along the other lab assessments)."
   ]
  },
  {
   "cell_type": "markdown",
   "id": "4a61e4e4-d5d0-4f6c-b195-9af155a85efb",
   "metadata": {},
   "source": [
    "# 0. Modules installation and imports"
   ]
  },
  {
   "cell_type": "code",
   "execution_count": null,
   "id": "b85a509f-3c33-4eb4-ad6a-0af5f1677ad9",
   "metadata": {},
   "outputs": [],
   "source": [
    "!pip install cryptography\n",
    "!pip install pylfsr"
   ]
  },
  {
   "cell_type": "code",
   "execution_count": 2,
   "id": "cab7834a-1fe4-4426-9ae2-a40e1eacea29",
   "metadata": {},
   "outputs": [],
   "source": [
    "from cryptography.hazmat.primitives.ciphers import Cipher, algorithms, modes\n",
    "\n",
    "from cryptography.hazmat.primitives import padding\n",
    "\n",
    "from pylfsr import LFSR\n",
    "\n",
    "import base64\n",
    "\n",
    "import os \n",
    "\n",
    "import secrets"
   ]
  },
  {
   "attachments": {},
   "cell_type": "markdown",
   "id": "38f046a6-0a05-4e2d-bbbc-e9e990b44597",
   "metadata": {},
   "source": [
    "# 1. Symmetric Block Ciphers\n",
    "\n",
    "Next, you’ll learn how to encrypt a simple text with symmetric block ciphers. First, you’ll use AES cipher operated under several confidentiality operation modes, and then you’ll be prompted to use other symmetric ciphers (CAMELLIA).\n",
    "Read AND USE AS REFERENCE the information provided in the documentation web page of the pyca/cryptography library for symmetric encryption [here](https://cryptography.io/en/latest/hazmat/primitives/symmetric-encryption/).\n",
    "\n",
    "## 1.1 BYTE-LIKE DATA\n",
    "\n",
    "### Task 1.1.1 From byte-like to hex and b64\n",
    "\n",
    "First, let’s see a primer in dealing with binary data in Python, as it is a very frequent data format when using cryptography. The code lines for defining the key, the initialization vector and the text that you’ll use in your first encryption are given next:"
   ]
  },
  {
   "cell_type": "code",
   "execution_count": 3,
   "id": "782a6805-da1d-4a8f-af28-fa990adf4d23",
   "metadata": {},
   "outputs": [],
   "source": [
    "key = b'MN\\\\\\xde\\xa1\\xf7\\x9c\\xcf\\x10A\\xa8\\x1e\\x00\\x0eeq\\xe86\\x1c\\x12\\x18\\xa6\\x10\\xfb\\xb9^\\n,0\\xa2kj'\n",
    "iv = b'\\x7f\\xb3W\\x84\\x1a9KN~\\xafs\\xfc\\x9f\\xb6\\xcc\\xb8'\n",
    "message = b'a secret message'"
   ]
  },
  {
   "attachments": {},
   "cell_type": "markdown",
   "id": "ba71328d-7a1f-4499-bc25-102e9a6eaaa5",
   "metadata": {},
   "source": [
    "Notice the preceding “b” in the previous data in single quotes. It is used to transform the provided (“text”-like) data into binary format (following [ASCII codification](https://en.wikipedia.org/wiki/ASCII)). That is, the code will treat these data as binary. Each byte can be specified by:\n",
    "- the ASCII character corresponding to that byte if it is printable, \n",
    "- the hexadecimal representation of the byte, preceding the 2-hex digits by “\\x”.\n",
    "\n",
    "Some examples: \n",
    "- b’MN’ corresponds to binary data 4d4e <sub>(16</sub> = 0100 1101 0100 1110 <sub>(2</sub> \n",
    "- b’\\xa1\\xf7’ corresponds to binary data a1f7 <sub>(16</sub> = 1010 0001 1111 0111 <sub>(2</sub>\n",
    "\n",
    "You can get the hexadecimal representation of binary data using the built-in Python function <code>hex()</code> as follows:\n",
    "\n",
    "_Note: <code>hex()</code> belongs to the set of [Python built-in functions](https://docs.python.org/3/library/functions.html)._"
   ]
  },
  {
   "cell_type": "code",
   "execution_count": 4,
   "id": "d0e3c4cc-2538-4287-93d2-a729cb5e3de3",
   "metadata": {},
   "outputs": [
    {
     "name": "stdout",
     "output_type": "stream",
     "text": [
      "hex_binarydata = 4d4e5cdea1\n"
     ]
    }
   ],
   "source": [
    "binarydata = b'MN\\\\\\xde\\xa1' \n",
    "hex_binarydata = binarydata.hex() \n",
    "print(\"hex_binarydata =\", hex_binarydata)"
   ]
  },
  {
   "attachments": {},
   "cell_type": "markdown",
   "id": "29cc8ece-75e8-4bbf-80fa-a8ac8ac6b639",
   "metadata": {},
   "source": [
    "You can get back your bytes from their hex representation as follows using [<code>bytes.fromhex()</code>](https://docs.python.org/3/library/stdtypes.html?highlight=fromhex#bytes.fromhex):"
   ]
  },
  {
   "cell_type": "code",
   "execution_count": 5,
   "id": "0cb47636-ee4c-4368-8139-ce66d720faa3",
   "metadata": {},
   "outputs": [
    {
     "name": "stdout",
     "output_type": "stream",
     "text": [
      "retrieved_binarydata = b'MN\\\\\\xde\\xa1'\n"
     ]
    }
   ],
   "source": [
    "retrieved_binarydata = bytes.fromhex(hex_binarydata) \n",
    "print(\"retrieved_binarydata =\", retrieved_binarydata)"
   ]
  },
  {
   "attachments": {},
   "cell_type": "markdown",
   "id": "40ee93e9-3b05-45fc-964a-aab4f3275c07",
   "metadata": {},
   "source": [
    "Other codification that can be used to deal in a print-friendly manner with binary data is [B64](https://en.wikipedia.org/wiki/Base64). \n",
    "\n",
    "An option is to use the Python module [base64](https://docs.python.org/3/library/base64.html). In order to use it you have to import the module in your code (you should have done it in section 0) and use <code>base64.b64encode()</code> as follows:"
   ]
  },
  {
   "cell_type": "code",
   "execution_count": 6,
   "id": "2c7e8932-2f6c-478c-8fa9-8afdecafe8f5",
   "metadata": {},
   "outputs": [
    {
     "name": "stdout",
     "output_type": "stream",
     "text": [
      "b64_binarydata = b'TU5c3qE='\n"
     ]
    }
   ],
   "source": [
    "# import base64 \n",
    "\n",
    "b64_binarydata = base64.b64encode(binarydata)\n",
    "print(\"b64_binarydata =\",b64_binarydata)"
   ]
  },
  {
   "cell_type": "markdown",
   "id": "fad3bc95-c673-410f-a775-9532b937989e",
   "metadata": {},
   "source": [
    "As before, you can get your bytes back from B64 as follows using <code>base64.b64decode()</code>:"
   ]
  },
  {
   "cell_type": "code",
   "execution_count": 7,
   "id": "f2669b60-2a20-472b-9dd0-9e9f51ba9862",
   "metadata": {},
   "outputs": [
    {
     "name": "stdout",
     "output_type": "stream",
     "text": [
      "retrieved_binarydata = b'MN\\\\\\xde\\xa1'\n"
     ]
    }
   ],
   "source": [
    "retrieved_binarydata = base64.b64decode(b64_binarydata)\n",
    "print(\"retrieved_binarydata =\", retrieved_binarydata)"
   ]
  },
  {
   "attachments": {},
   "cell_type": "markdown",
   "id": "b6771b2d-067d-47b5-a5df-0857f89ba3ba",
   "metadata": {},
   "source": [
    "Represent the given key, IV and message text in hexadecimal and B64 and check that you understand how binary data is provided and represented. Undo the hex and B64 representations by retrieving back the bytes and print the results."
   ]
  },
  {
   "cell_type": "code",
   "execution_count": 8,
   "id": "31027415-69a0-401b-b64d-7783ea5018cd",
   "metadata": {},
   "outputs": [
    {
     "name": "stdout",
     "output_type": "stream",
     "text": [
      "key_hex = 4d4e5cdea1f79ccf1041a81e000e6571e8361c1218a610fbb95e0a2c30a26b6a\n",
      "key_b64 = b'TU5c3qH3nM8QQageAA5lceg2HBIYphD7uV4KLDCia2o='\n",
      "key_hex_dec = b'MN\\\\\\xde\\xa1\\xf7\\x9c\\xcf\\x10A\\xa8\\x1e\\x00\\x0eeq\\xe86\\x1c\\x12\\x18\\xa6\\x10\\xfb\\xb9^\\n,0\\xa2kj'\n",
      "key_b64_dec = b'MN\\\\\\xde\\xa1\\xf7\\x9c\\xcf\\x10A\\xa8\\x1e\\x00\\x0eeq\\xe86\\x1c\\x12\\x18\\xa6\\x10\\xfb\\xb9^\\n,0\\xa2kj'\n"
     ]
    }
   ],
   "source": [
    "key_hex = key.hex()\n",
    "key_b64 = base64.b64encode(key)\n",
    "\n",
    "print(\"key_hex =\", key_hex)\n",
    "print(\"key_b64 =\", key_b64)\n",
    "\n",
    "key_hex_dec = bytes.fromhex(key_hex)\n",
    "key_b64_dec = base64.b64decode(key_b64)\n",
    "\n",
    "print(\"key_hex_dec =\", key_hex_dec)\n",
    "print(\"key_b64_dec =\", key_b64_dec)"
   ]
  },
  {
   "attachments": {},
   "cell_type": "markdown",
   "id": "fd59a844-9c57-4ba4-969b-42daededd4d7",
   "metadata": {},
   "source": [
    "## 1.2 AES256 - CBC MODE\n",
    "\n",
    "### Task 1.2.1 Encrypt/decrypt with AES 256 CBC\n",
    "\n",
    "Now, let’s encrypt a simple text (message) using the AES cipher with a 256-bit key and operating the cipher under CBC mode.\n",
    "\n",
    "Read the information and take the code provided as example [here](https://cryptography.io/en/latest/hazmat/primitives/symmetric-encryption/#cryptography.hazmat.primitives.ciphers.Cipher). \n",
    "\n",
    "Notice that Cipher is a general construction that can be instantiated with a specific algorithm, mode and backend.\n",
    "\n",
    "_Note: We will rely on the default backend but if you want to know more about backends, read [this web page](https://cryptography.io/en/latest/hazmat/backends/)._\n",
    "\n",
    "In this case we’ll use the classes <code>algorithms.AES(..)</code> and <code>modes.CBC(..)</code> for the first two parameters.\n",
    "\n",
    "Notice also that in the example [in this web page](https://cryptography.io/en/latest/hazmat/primitives/symmetric-encryption/#cryptography.hazmat.primitives.ciphers.Cipher) the key and iv data are randomly obtained.\n",
    "\n",
    "Copy and change the code of the example (given at the web page of the library) so you use the key, iv and message given in Section 1.1. Leave the rest of the code unchanged. Additionally, insert calls to the <code>print()</code> function so the message, key, iv and the results of the encryption and decryption processes are printed."
   ]
  },
  {
   "cell_type": "code",
   "execution_count": 15,
   "id": "f4503e8c-8f0d-4827-b92b-fdade188bf22",
   "metadata": {},
   "outputs": [
    {
     "name": "stdout",
     "output_type": "stream",
     "text": [
      "ciphertext = b';\\xa6\\xe5\\x85;^\\xc2&\\xec\\x07|\\x03\\xcc\\r\\xaeN'\n",
      "plaintext = b'a secret message'\n"
     ]
    }
   ],
   "source": [
    "## encryption code\n",
    "cipher = Cipher(algorithms.AES256(key), mode = modes.CBC(iv))\n",
    "encryptor = cipher.encryptor()\n",
    "ct = encryptor.update(message) + encryptor.finalize()\n",
    "\n",
    "print(\"ciphertext =\", ct)\n",
    "\n",
    "## decryption code\n",
    "decryptor = cipher.decryptor()\n",
    "pt = decryptor.update(ct) + decryptor.finalize()\n",
    "\n",
    "print(\"plaintext =\", pt)"
   ]
  },
  {
   "attachments": {},
   "cell_type": "markdown",
   "id": "93aea727-e639-46b3-b7f9-d4db0d98a0fa",
   "metadata": {},
   "source": [
    "Check your results with the following values:\n",
    "```\n",
    "message = b'a secret message'\n",
    "key = b'MN\\\\\\xde\\xa1\\xf7\\x9c\\xcf\\x10A\\xa8\\x1e\\x00\\x0eeq\\xe86\\x1c\\x12\\x18\\xa6\\x10\\xfb\\xb9^\\n,0\\xa2kj'\n",
    "ciphertext = b';\\xa6\\xe5\\x85;^\\xc2&\\xec\\x07|\\x03\\xcc\\r\\xaeN'\n",
    "hex_ciphertext = 3ba6e5853b5ec226ec077c03cc0dae4e\n",
    "b64_ciphertext = b'O6blhTtewibsB3wDzA2uTg=='\n",
    "plaintext = b'a secret message'\n",
    "hex_plaintext = 6120736563726574206d657373616765\n",
    "b64_plaintext = b'YSBzZWNyZXQgbWVzc2FnZQ=='\n",
    "```"
   ]
  },
  {
   "attachments": {},
   "cell_type": "markdown",
   "id": "9e27861f-0725-4df5-907b-9d13728e5a2d",
   "metadata": {},
   "source": [
    "Which length in bytes has the input data to encrypt in Task 1.2.2? And the output ciphertext?\n",
    "\n",
    "Notice that you may use the built-in function [<code>len()</code>](https://docs.python.org/3/library/functions.html#len) to get the length of an object."
   ]
  },
  {
   "cell_type": "code",
   "execution_count": 17,
   "id": "94b14404-a607-4363-9927-95e8ace00548",
   "metadata": {},
   "outputs": [
    {
     "name": "stdout",
     "output_type": "stream",
     "text": [
      "16\n",
      "16\n"
     ]
    }
   ],
   "source": [
    "print(len(message))\n",
    "print(len(ct))"
   ]
  },
  {
   "attachments": {},
   "cell_type": "markdown",
   "id": "90e79028-8877-4503-a6a8-f5522004e18b",
   "metadata": {},
   "source": [
    "\n",
    "### Task 1.2.2 Adding padding to AES 256 CBC\n",
    "\n",
    "Now let’s play with the length of the message to encrypt! In the previous exercise you encrypted a message that has an exact length of 16 characters, that is, the AES block size. Try to encrypt a longer message whose length in characters is not multiple of 16. You’ll get an error for sure! It is because if you need to encrypt a message with length not multiple of the cipher block size and you are using CBC operation mode, you need to add padding to your input so its length satisfies that condition.\n",
    "\n",
    "Read the information provided in the documentation web page of the pyca/cryptography library on how the library deals with symmetric padding [here](https://cryptography.io/en/latest/hazmat/primitives/padding/).\n",
    "\n",
    "Study the code in the example provided to illustrate the PKCS7 padding [here](https://cryptography.io/en/latest/hazmat/primitives/padding/#cryptography.hazmat.primitives.padding.PKCS7).\n",
    "\n",
    "Notice that you have to import the padding module from the pyca/cryptography library (if you have not done it in Section 0). Notice also that the correct order to combine padding-encryption and decryption-unpadding is the following one:\n",
    "1. Pad the data to encrypt to obtain the padded data\n",
    "2. Encrypt the padded data to obtain the encrypted text\n",
    "3. --- (simulation of data exchange) ----\n",
    "4. Decrypt the encrypted text to obtain the padded plaintext\n",
    "5. Unpad the padded plaintext to obtain the original plaintext\n",
    "\n",
    "After studying it, incorporate PKCS7 padding in your previous code."
   ]
  },
  {
   "cell_type": "code",
   "execution_count": 37,
   "id": "1a2ae124-d7ee-4b46-8b3e-f42705c13d05",
   "metadata": {},
   "outputs": [
    {
     "name": "stdout",
     "output_type": "stream",
     "text": [
      "padded_message = b'a secret message\\x10\\x10\\x10\\x10\\x10\\x10\\x10\\x10\\x10\\x10\\x10\\x10\\x10\\x10\\x10\\x10' len = 32\n",
      "ciphertext = b';\\xa6\\xe5\\x85;^\\xc2&\\xec\\x07|\\x03\\xcc\\r\\xaeNq\\xb6\\xb8\\xb5\\x06\\xeeJ\\xd9\\xfb\\x004\\xb5\\xac\\x9e}\\xf0'\n",
      "padded_pt = b'a secret message\\x10\\x10\\x10\\x10\\x10\\x10\\x10\\x10\\x10\\x10\\x10\\x10\\x10\\x10\\x10\\x10'\n",
      "plaintext = b'a secret message'\n"
     ]
    }
   ],
   "source": [
    "block_size = 16*8  # bits\n",
    "message = b'a secret message'\n",
    "\n",
    "# pad\n",
    "padder = padding.PKCS7(block_size).padder()\n",
    "padded_message = padder.update(message) + padder.finalize()\n",
    "print(\"padded_message =\", padded_message, \"len =\", len(padded_message))\n",
    "\n",
    "# encrypt\n",
    "cipher = Cipher(algorithms.AES256(key), mode = modes.CBC(iv))\n",
    "encryptor = cipher.encryptor()\n",
    "ct = encryptor.update(padded_message) + encryptor.finalize()\n",
    "\n",
    "print(\"ciphertext =\", ct)\n",
    "\n",
    "## decrypt\n",
    "decryptor = cipher.decryptor()\n",
    "padded_pt = decryptor.update(ct) + decryptor.finalize()\n",
    "\n",
    "print(\"padded_pt =\", padded_pt)\n",
    "\n",
    "unpadder = padding.PKCS7(block_size).unpadder()\n",
    "pt = unpadder.update(padded_pt) + unpadder.finalize()\n",
    "\n",
    "print(\"plaintext =\", pt)\n"
   ]
  },
  {
   "attachments": {},
   "cell_type": "markdown",
   "id": "c2f66779-a265-4f34-89d8-d87097e375fd",
   "metadata": {},
   "source": [
    "Your previous AES256-CBC code, updated to include PKCS7 padding, with the data provided in Section 1.1 (key, iv and message), should provide the result shown next:\n",
    "```\n",
    "message = b'a secret message'\n",
    "padded_message = b'a secret message\\x10\\x10\\x10\\x10\\x10\\x10\\x10\\x10\\x10\\x10\\x10\\x10\\x10\\x10\\x10\\x10' length =  32\n",
    "ciphertext = b';\\xa6\\xe5\\x85;^\\xc2&\\xec\\x07|\\x03\\xcc\\r\\xaeNq\\xb6\\xb8\\xb5\\x06\\xeeJ\\xd9\\xfb\\x004\\xb5\\xac\\x9e}\\xf0'\n",
    "hex_ciphertext = 3ba6e5853b5ec226ec077c03cc0dae4e71b6b8b506ee4ad9fb0034b5ac9e7df0\n",
    "padded_plaintext = b'a secret message\\x10\\x10\\x10\\x10\\x10\\x10\\x10\\x10\\x10\\x10\\x10\\x10\\x10\\x10\\x10\\x10'\n",
    "hex_padded_plaintext = 6120736563726574206d65737361676510101010101010101010101010101010\n",
    "plaintext = b'a secret message'\n",
    "hex_plaintext = 6120736563726574206d657373616765\n",
    "```"
   ]
  },
  {
   "attachments": {},
   "cell_type": "markdown",
   "id": "3cc7a88b",
   "metadata": {},
   "source": [
    "Answer the following questions:\n",
    "- Which length in bytes has the input data to encrypt in Task 1.2.2?\n",
    "- Which length in bytes has the output ciphertext in Task 1.2.2?\n",
    "- How many bytes have been added as PKCS7 padding?\n",
    "- Which value has been used in the bytes added as padding?"
   ]
  },
  {
   "cell_type": "code",
   "execution_count": 38,
   "id": "7ae11153-3351-4c68-9aa3-f57352138efc",
   "metadata": {},
   "outputs": [
    {
     "name": "stdout",
     "output_type": "stream",
     "text": [
      "16\n",
      "32\n",
      "16\n",
      "16\n"
     ]
    }
   ],
   "source": [
    "print(len(message))\n",
    "print(len(ct))\n",
    "print(len(padded_message) - len(message))\n",
    "print(padded_message[-1])"
   ]
  },
  {
   "attachments": {},
   "cell_type": "markdown",
   "id": "1c877bd3-864c-4909-b080-e4bbd2ca001b",
   "metadata": {
    "tags": []
   },
   "source": [
    "### Task 1.2.3 Checking AES 256 CBC PKCS7\n",
    "\n",
    "Check that your code works correctly by encrypting <code>other_message</code>, a message with 25 characters (length not multiple of 16) and provided next, and the same <code>key</code> and <code>iv</code> already used."
   ]
  },
  {
   "cell_type": "code",
   "execution_count": 51,
   "id": "fff53453-54d7-4c49-beb8-b4c848e55c52",
   "metadata": {},
   "outputs": [
    {
     "name": "stdout",
     "output_type": "stream",
     "text": [
      "padded_message = b'This message is important\\x07\\x07\\x07\\x07\\x07\\x07\\x07' len = 32\n",
      "ciphertext = b'\\x89\\x00g\\x1aP4\\xf7W\\x16\\xc1\\xffi\\xbb\\xc8\\x9f\\xcf\\xd3\\x84D\\x1d\\nL\\xcbvb\\xf1^sn\\xfa\\x06Z'\n",
      "padded_pt = b'This message is important\\x07\\x07\\x07\\x07\\x07\\x07\\x07'\n",
      "plaintext = b'This message is important'\n"
     ]
    }
   ],
   "source": [
    "block_size = 16*8  # bits\n",
    "other_message = b'This message is important'\n",
    "\n",
    "# pad\n",
    "padder = padding.PKCS7(block_size).padder()\n",
    "padded_message = padder.update(other_message) + padder.finalize()\n",
    "print(\"padded_message =\", padded_message, \"len =\", len(padded_message))\n",
    "\n",
    "# encrypt\n",
    "cipher = Cipher(algorithms.AES256(key), mode = modes.CBC(iv))\n",
    "encryptor = cipher.encryptor()\n",
    "ct = encryptor.update(padded_message) + encryptor.finalize()\n",
    "\n",
    "print(\"ciphertext =\", ct)\n",
    "\n",
    "# decrypt\n",
    "decryptor = cipher.decryptor()\n",
    "padded_pt = decryptor.update(ct) + decryptor.finalize()\n",
    "\n",
    "print(\"padded_pt =\", padded_pt)\n",
    "\n",
    "# unpad\n",
    "unpadder = padding.PKCS7(block_size).unpadder()\n",
    "pt = unpadder.update(padded_pt) + unpadder.finalize()\n",
    "\n",
    "print(\"plaintext =\", pt)"
   ]
  },
  {
   "attachments": {},
   "cell_type": "markdown",
   "id": "51843fba-b668-49ec-b384-edd142892108",
   "metadata": {},
   "source": [
    "You should get the following results:\n",
    "```\n",
    "other_message = b'This message is important'\n",
    "padded_other_message = b'This message is important\\x07\\x07\\x07\\x07\\x07\\x07\\x07'\n",
    "length =  32\n",
    "ciphertext = b';\\xa6\\xe5\\x85;^\\xc2&\\xec\\x07|\\x03\\xcc\\r\\xaeNq\\xb6\\xb8\\xb5\\x06\\xeeJ\\xd9\\xfb\\x004\\xb5\\xac\\x9e}\\xf0'\n",
    "hex_ciphertext = 3ba6e5853b5ec226ec077c03cc0dae4e71b6b8b506ee4ad9fb0034b5ac9e7df0\n",
    "padded_plaintext = b'a secret message\\x10\\x10\\x10\\x10\\x10\\x10\\x10\\x10\\x10\\x10\\x10\\x10\\x10\\x10\\x10\\x10'\n",
    "hex_padded_plaintext = 6120736563726574206d65737361676510101010101010101010101010101010\n",
    "plaintext = b'a secret message'\n",
    "hex_plaintext = 6120736563726574206d657373616765\n",
    "```"
   ]
  },
  {
   "attachments": {},
   "cell_type": "markdown",
   "id": "bac36ce9-3c4e-4bd1-b3d2-1bbaf8be36f0",
   "metadata": {},
   "source": [
    "Answer the following questions:\n",
    "- Which length in bytes has the input data to encrypt in Task 1.2.3?\n",
    "- Which length in bytes has the output ciphertext in Task 1.2.3?\n",
    "- How many bytes have been added as PKCS7 padding?\n",
    "- Which value has been used in the bytes added as padding?"
   ]
  },
  {
   "cell_type": "code",
   "execution_count": 52,
   "id": "6d524ada-9296-4f62-8e91-42f52ca14f6a",
   "metadata": {},
   "outputs": [
    {
     "name": "stdout",
     "output_type": "stream",
     "text": [
      "25\n",
      "32\n",
      "7\n",
      "7\n"
     ]
    }
   ],
   "source": [
    "print(len(other_message))\n",
    "print(len(ct))\n",
    "print(len(padded_message) - len(other_message))\n",
    "print(padded_message[-1])"
   ]
  },
  {
   "attachments": {},
   "cell_type": "markdown",
   "id": "94750388-89d7-4af5-b4d3-74ce2cb092b3",
   "metadata": {
    "tags": []
   },
   "source": [
    "### Task 1.2.4 Wrapping AES 256 CBC PKCS7 encryption/decryption in functions\n",
    "\n",
    "Let’s wrap your AES256-CBC-PKCS7 code in two functions, one for encryption and another one for decryption. Next you have the headers that you should use for these two functions."
   ]
  },
  {
   "cell_type": "code",
   "execution_count": 63,
   "id": "5956bf40-d675-4133-aa55-4075c6984894",
   "metadata": {},
   "outputs": [],
   "source": [
    "def aes256_cbc_pkcs7_encrypt(data_to_encrypt, key, iv):\n",
    "    BLOCK_SIZE = 16*8  # bits\n",
    "    \n",
    "    # pad\n",
    "    padder = padding.PKCS7(BLOCK_SIZE).padder()\n",
    "    padded_message = padder.update(data_to_encrypt) + padder.finalize()\n",
    "\n",
    "    # encrypt\n",
    "    cipher = Cipher(algorithms.AES256(key), mode = modes.CBC(iv))\n",
    "    encryptor = cipher.encryptor()\n",
    "    ct = encryptor.update(padded_message) + encryptor.finalize()\n",
    "    \n",
    "    return ct\n",
    "\n",
    "def aes256_cbc_pkcs7_decrypt(encrypted_data, key, iv):\n",
    "    BLOCK_SIZE = 16*8  # bits\n",
    "    \n",
    "    # decrypt\n",
    "    cipher = Cipher(algorithms.AES256(key), mode = modes.CBC(iv))\n",
    "    decryptor = cipher.decryptor()\n",
    "    padded_pt = decryptor.update(encrypted_data) + decryptor.finalize()\n",
    "\n",
    "    # unpad\n",
    "    unpadder = padding.PKCS7(BLOCK_SIZE).unpadder()\n",
    "    pt = unpadder.update(padded_pt) + unpadder.finalize()\n",
    "    \n",
    "    return pt"
   ]
  },
  {
   "cell_type": "markdown",
   "id": "52ab9bc9-63f2-4096-9b6a-82f8772ee00d",
   "metadata": {},
   "source": [
    "Test your functions with the data and results of Task 1.2.3"
   ]
  },
  {
   "cell_type": "code",
   "execution_count": 53,
   "id": "f98e8758",
   "metadata": {},
   "outputs": [
    {
     "name": "stdout",
     "output_type": "stream",
     "text": [
      "ct = b';\\xa6\\xe5\\x85;^\\xc2&\\xec\\x07|\\x03\\xcc\\r\\xaeNq\\xb6\\xb8\\xb5\\x06\\xeeJ\\xd9\\xfb\\x004\\xb5\\xac\\x9e}\\xf0'\n",
      "pt = b'a secret message'\n"
     ]
    }
   ],
   "source": [
    "ct = aes256_cbc_pkcs7_encrypt(message, key, iv)\n",
    "print(\"ct =\", ct)\n",
    "\n",
    "pt = aes256_cbc_pkcs7_decrypt(ct, key, iv)\n",
    "print(\"pt =\", pt)"
   ]
  },
  {
   "attachments": {},
   "cell_type": "markdown",
   "id": "87b21eed-6371-44ad-b4e9-81337f9669f7",
   "metadata": {
    "tags": []
   },
   "source": [
    "### Task 1.2.5 Checking AES 256 CBC PKCS7 against CyberChef\n",
    "\n",
    "Test again your AES256-CBC-PKCS7 function but this time check your results using the web page tool [CyberChef](https://gchq.github.io/CyberChef/).  \n",
    "You have to select, in the left sidebar, 'AES Encrypt' from 'Encryption / Encoding' and CBC mode."
   ]
  },
  {
   "attachments": {},
   "cell_type": "markdown",
   "id": "863da11e-419b-4b31-a11e-160cbbfa2bd9",
   "metadata": {},
   "source": [
    "## 1.3 AES256 - ECB MODE\n",
    "\n",
    "Let’s now use the ECB operation mode. It is the simplest of all the confidentiality operation modes and does not need any parameter. You can consult the library documentation for this mode [here](https://cryptography.io/en/latest/hazmat/primitives/symmetric-encryption/#cryptography.hazmat.primitives.ciphers.modes.ECB).\n",
    "\n",
    "### Task 1.3.1 Encrypt/decrypt with AES 256 ECB PKCS7\n",
    "\n",
    "Write a new encryption and decryption code based on your AES256-CBC-PKCS7 code but that makes use of the ECB mode instead of the CBC one. Wrap the code in two functions (headers given below)."
   ]
  },
  {
   "cell_type": "code",
   "execution_count": 61,
   "id": "9ab31628-cb46-4ef0-af2e-53cfca13c364",
   "metadata": {},
   "outputs": [],
   "source": [
    "def aes256_ecb_pkcs7_encrypt(data_to_encrypt, key):\n",
    "    BLOCK_SIZE = 16*8  # bits\n",
    "    \n",
    "    # pad\n",
    "    padder = padding.PKCS7(BLOCK_SIZE).padder()\n",
    "    padded_message = padder.update(data_to_encrypt) + padder.finalize()\n",
    "\n",
    "    # encrypt\n",
    "    cipher = Cipher(algorithms.AES256(key), mode = modes.ECB())\n",
    "    encryptor = cipher.encryptor()\n",
    "    ct = encryptor.update(padded_message) + encryptor.finalize()\n",
    "    \n",
    "    return ct\n",
    "\n",
    "def aes256_ecb_pkcs7_decrypt(encrypted_data, key):\n",
    "    BLOCK_SIZE = 16*8  # bits\n",
    "    \n",
    "    # decrypt\n",
    "    cipher = Cipher(algorithms.AES256(key), mode = modes.ECB())\n",
    "    decryptor = cipher.decryptor()\n",
    "    padded_pt = decryptor.update(encrypted_data) + decryptor.finalize()\n",
    "\n",
    "    # unpad\n",
    "    unpadder = padding.PKCS7(BLOCK_SIZE).unpadder()\n",
    "    pt = unpadder.update(padded_pt) + unpadder.finalize()\n",
    "    \n",
    "    return pt"
   ]
  },
  {
   "cell_type": "code",
   "execution_count": 62,
   "id": "7c61ce45",
   "metadata": {},
   "outputs": [
    {
     "name": "stdout",
     "output_type": "stream",
     "text": [
      "ct = b'i\\xb0a\\x1b\\x95\\x8f\\x16\\xd6\\xed1\\xc6\\xfc\\xa5\\xab\\xd5F|\\x98\\xfa\\x0b\\x8e\\xab\\xd4\\xd7\\x8e\\x8f\\xf5\\n!&\\xfd\\xbb'\n",
      "pt = b'a secret message'\n"
     ]
    }
   ],
   "source": [
    "ct = aes256_ecb_pkcs7_encrypt(message, key)\n",
    "print(\"ct =\", ct)\n",
    "\n",
    "pt = aes256_ecb_pkcs7_decrypt(ct, key)\n",
    "print(\"pt =\", pt)"
   ]
  },
  {
   "attachments": {},
   "cell_type": "markdown",
   "id": "6afebaf1-9d7c-496d-8546-e0fd544e2e3d",
   "metadata": {},
   "source": [
    "You should obtain the following results if you encrypt <code>message</code> with the same <code>key</code> previously used.\n",
    "```\n",
    "message = b'a secret message'\n",
    "key = b'MN\\\\\\xde\\xa1\\xf7\\x9c\\xcf\\x10A\\xa8\\x1e\\x00\\x0eeq\\xe86\\x1c\\x12\\x18\\xa6\\x10\\xfb\\xb9^\\n,0\\xa2kj'\n",
    "padded_message = b'a secret message\\x10\\x10\\x10\\x10\\x10\\x10\\x10\\x10\\x10\\x10\\x10\\x10\\x10\\x10\\x10\\x10' \n",
    "length =  32\n",
    "ciphertext = b'i\\xb0a\\x1b\\x95\\x8f\\x16\\xd6\\xed1\\xc6\\xfc\\xa5\\xab\\xd5F|\\x98\\xfa\\x0b\\x8e\\xab\\xd4\\xd7\\x8e\\x8f\\xf5\\n!&\\xfd\\xbb'\n",
    "hex_ciphertext = 69b0611b958f16d6ed31c6fca5abd5467c98fa0b8eabd4d78e8ff50a2126fdbb\n",
    "padded_plaintext = b'a secret message\\x10\\x10\\x10\\x10\\x10\\x10\\x10\\x10\\x10\\x10\\x10\\x10\\x10\\x10\\x10\\x10'\n",
    "hex_padded_plaintext = 6120736563726574206d65737361676510101010101010101010101010101010\n",
    "plaintext = b'a secret message'\n",
    "hex_plaintext = 6120736563726574206d657373616765\n",
    "```"
   ]
  },
  {
   "attachments": {},
   "cell_type": "markdown",
   "id": "00be4e91-67a8-43a0-b92b-90c1587f79d0",
   "metadata": {
    "tags": []
   },
   "source": [
    "### Task 1.3.2 Checking AES 256 ECB PKCS7 \n",
    "\n",
    "Test your code now with the message <code>other_message</code>, with a length in char not multiple of 16."
   ]
  },
  {
   "cell_type": "code",
   "execution_count": 54,
   "id": "ada3d61f-c27f-475e-860c-9f3edeb00968",
   "metadata": {},
   "outputs": [
    {
     "name": "stdout",
     "output_type": "stream",
     "text": [
      "ct = b'i\\xb0a\\x1b\\x95\\x8f\\x16\\xd6\\xed1\\xc6\\xfc\\xa5\\xab\\xd5F|\\x98\\xfa\\x0b\\x8e\\xab\\xd4\\xd7\\x8e\\x8f\\xf5\\n!&\\xfd\\xbb'\n",
      "pt = b'a secret message'\n"
     ]
    }
   ],
   "source": [
    "ct = aes256_ecb_pkcs7_encrypt(other_message, key)\n",
    "print(\"ct =\", ct)\n",
    "\n",
    "pt = aes256_ecb_pkcs7_decrypt(ct, key)\n",
    "print(\"pt =\", pt)"
   ]
  },
  {
   "attachments": {},
   "cell_type": "markdown",
   "id": "ca33ac6e-8f54-44ae-b3d6-d5cd325d6ecd",
   "metadata": {},
   "source": [
    "You should obtain the following results:\n",
    "```\n",
    "other_message = b'This message is important'\n",
    "padded_other_message = b'This message is important\\x07\\x07\\x07\\x07\\x07\\x07\\x07' \n",
    "length =  32\n",
    "ciphertext = b'\\xb8{\\xe1\\x8e\\x9fc\\xfb\\xaa\\x13y\\xb6\\xf5VQW\\xc4\\xa1\\xd0\\xc1! .\\xff\\x9a\\xb4\\xc9X\\x01\\xc2\\xc9\\xf9\\xd0'\n",
    "hex_ciphertext = b87be18e9f63fbaa1379b6f5565157c4a1d0c121202eff9ab4c95801c2c9f9d0\n",
    "padded_plaintext = b'This message is important\\x07\\x07\\x07\\x07\\x07\\x07\\x07'\n",
    "hex_padded_plaintext = 54686973206d65737361676520697320696d706f7274616e7407070707070707\n",
    "plaintext = b'This message is important'\n",
    "hex_plaintext = 54686973206d65737361676520697320696d706f7274616e74\n",
    "```"
   ]
  },
  {
   "attachments": {},
   "cell_type": "markdown",
   "id": "46897429-bb2d-45c9-a258-bf7fc5c905f0",
   "metadata": {
    "tags": []
   },
   "source": [
    "### Task 1.3.3 Checking AES 256 ECB PKCS7 against CyberChef\n",
    "\n",
    "Test again your AES256-ECB-PKCS7 function but this time check your results using the web page tool [CyberChef](https://gchq.github.io/CyberChef/). You have to select, in the left sidebar, 'AES Encrypt' from 'Encryption / Encoding' and ECB mode."
   ]
  },
  {
   "attachments": {},
   "cell_type": "markdown",
   "id": "3da05d35",
   "metadata": {},
   "source": [
    "### Task 1.3.4 Generating cryptographically secure random bytes\n",
    "\n",
    "Till now you have used fixed and given key and iv in your AES256 code. However, ideally, you should randomly generate these parameters each time you need them, at least in the first encryption step. Notice that it is not the same case in the decryption step, as here you must use the same parameters used in the encryption step if you want to correctly recover the plaintext.\n",
    "\n",
    "Let’s learn first how to generate <ins>cryptographically secure</ins> random bytes.\n",
    "\n",
    "Read the information provided in the [web page](https://cryptography.io/en/latest/random-numbers/#random-number-generation)\n",
    "\n",
    "Two possibilities are highlighted:\n",
    "\n",
    "- Using the function [<code>urandom()</code>](https://docs.python.org/3/library/os.html#os.urandom) from the `os` module \n",
    "\n",
    "- Using the function [<code>token_bytes()</code>](https://docs.python.org/3/library/secrets.html#secrets.token_bytes) from the `secrets` module\n",
    "\n",
    "You should have imported both in Section 0.\n",
    "\n",
    "Try both ways with the code shown next. Notice that each time you execute the code, new bytes are obtained."
   ]
  },
  {
   "cell_type": "code",
   "execution_count": 55,
   "id": "27c4dac9-0073-4a45-980a-64e56d6ce2c9",
   "metadata": {},
   "outputs": [
    {
     "name": "stdout",
     "output_type": "stream",
     "text": [
      "b'$\\xe2\\xf5\\xd2\\xbe\\xce\\x8fR\\xe4\\x19+v\\x82\\x84T\\xd3'\n",
      "b'\\xa9\\xcd\\xcb\\xec\\xef\\xea\\xac\\xb6\\xabSr\\x03\\xffBS\\xe5\\xb67\\xb5O\\xd3k\\xf7%\\xfc\\xeb\\xda\\tFuf\\x14'\n"
     ]
    }
   ],
   "source": [
    "# import os \n",
    "# import secrets\n",
    "\n",
    "print(os.urandom(16))            # generating 16 random bytes\n",
    "print(secrets.token_bytes(32))   # generating 32 random bytes"
   ]
  },
  {
   "attachments": {},
   "cell_type": "markdown",
   "id": "d5556397-0e94-4ad8-b41a-d5f12025f8fa",
   "metadata": {
    "tags": []
   },
   "source": [
    "### Task 1.3.5 No-key AES 256 ECB PKCS7 and No-key-no-iv AES 256 CBC PKCS7 encryption functions\n",
    "\n",
    "Let’s change the your AES256-ECB-PKCS7 encryption code so if no key is provided, the key is randomly generated. Both the ciphertext and the key should be provided as output. Use the code provided below 14 as guide to write a new function <code>aes256_ecb_pkcs7_encrypt_rnd()</code> that incorporates this functionality. \n",
    "\n",
    "Note that the function expects two parameters but by writing <code>key=None</code> in the function header for the second one, we allow its absence (that is, it is optional to call the function with a second parameter) and at the same time we provide a default value if it is not provided (in this case this default value is the <code>None</code> value). This means also that, if the key value is not provided, we have to provide a key value inside the function code (in the provided code <code>os.urandom()</code> is used to generate this value randomly). As the key value is needed for decryption, notice that we also return it together with the resulting ciphertext. \n",
    "\n",
    "The same happens with the initialization vector <code>iv</code> in the case of the CBC mode. Notice that in the case of AES cipher, the <code>iv</code> size is the same as the block size, that is, 16 bytes.\n",
    "\n",
    "Re-write the encryption functions as explained taking the following headers and code as starting point."
   ]
  },
  {
   "cell_type": "code",
   "execution_count": 64,
   "id": "a69d94f9-a83d-4f5d-8fab-ed7ac7b80ed2",
   "metadata": {},
   "outputs": [],
   "source": [
    "def aes256_ecb_pkcs7_encrypt_rnd(data_to_encrypt, key=None):\n",
    "    if key is None:\n",
    "        key = os.urandom(32) \n",
    "\n",
    "    ct = aes256_ecb_pkcs7_encrypt(data_to_encrypt, key)\n",
    "        \n",
    "    return ct, key\n",
    "\n",
    "def aes256_cbc_pkcs7_encrypt_rnd(data_to_encrypt, key=None, iv=None):\n",
    "    if key is None:\n",
    "        key = os.urandom(32)\n",
    "    if iv is None:\n",
    "        iv = os.urandom(16)\n",
    "        \n",
    "    ct = aes256_cbc_pkcs7_encrypt(data_to_encrypt, key, iv)\n",
    "        \n",
    "    return ct, key, iv"
   ]
  },
  {
   "attachments": {},
   "cell_type": "markdown",
   "id": "89abb6d7-be63-4916-b236-a6bd45ee854a",
   "metadata": {},
   "source": [
    "Once you have the code running, try to encrypt and decrypt the same message and check that different keys and ciphertext are obtained."
   ]
  },
  {
   "cell_type": "code",
   "execution_count": 65,
   "id": "d38fae1c-3d7d-40dc-83ec-21a998b18b1e",
   "metadata": {},
   "outputs": [
    {
     "name": "stdout",
     "output_type": "stream",
     "text": [
      "# ECB FIRST RUN\n",
      "hex_randomkey1 = 740e32ffbbee945043509e4f9e79620ee0e4ec8343b4822d3f745951b98192e4 \n",
      "hex_ciphertext1 = a0fe007127b0e89582b75552818120ecd55dbd7c8b4629a3540c4a6312627a0b\n",
      "plaintext1 =  b'This message is important'\n",
      "\n",
      "# ECB SECOND RUN\n",
      "hex_randomkey2 = 388552279fdc66b07f596cba1aaf2a2ca33fa0b274aee050eaa98f50f901cf5e \n",
      "hex_ciphertext2 = f910e71d4b27b0874e27264e6e5681a0d958fbdb36b02fd1bb9413bd052a5e7d\n",
      "plaintext2 =  b'This message is important'\n"
     ]
    }
   ],
   "source": [
    "# CHECK ECB FUNCTION\n",
    "\n",
    "print(\"# ECB FIRST RUN\")\n",
    "ciphertext1, randomkey1 = aes256_ecb_pkcs7_encrypt_rnd(b\"This message is important\")\n",
    "print(\"hex_randomkey1 =\", randomkey1.hex(), \"\\nhex_ciphertext1 =\", ciphertext1.hex())\n",
    "plaintext1 = aes256_ecb_pkcs7_decrypt(ciphertext1, randomkey1)\n",
    "print(\"plaintext1 = \", plaintext1)\n",
    "\n",
    "print(\"\\n# ECB SECOND RUN\")\n",
    "ciphertext2, randomkey2 = aes256_ecb_pkcs7_encrypt_rnd(b\"This message is important\")\n",
    "print(\"hex_randomkey2 =\", randomkey2.hex(), \"\\nhex_ciphertext2 =\", ciphertext2.hex())\n",
    "plaintext2 = aes256_ecb_pkcs7_decrypt(ciphertext2, randomkey2)\n",
    "print(\"plaintext2 = \", plaintext2)"
   ]
  },
  {
   "cell_type": "code",
   "execution_count": 66,
   "id": "80b988a5-d99b-4edf-af0e-2ec3677c37cf",
   "metadata": {},
   "outputs": [
    {
     "name": "stdout",
     "output_type": "stream",
     "text": [
      "# CBC FIRST RUN\n",
      "hex_randomkey1 = 082194e1fd21208c6612202b3f38d2ea6f1aeb729925cbe42505520bad07ced1 \n",
      "hex_ciphertext1 = 433a773465f43e57743de5fe59339b0931d6f298dfd53a568bdb067399474d1e \n",
      "hex_randomiv1 = 52fd96ee5387595072139c954dcad097\n",
      "plaintext1 =  b'This message is important'\n",
      "\n",
      "# CBC SECOND RUN\n",
      "hex_randomkey2 = 73f3fc0e9cb4ec9df4218dc33cd531becf8f3bd2fa85514615517c1088eea19e \n",
      "hex_ciphertext2 = 1cc92577b7a67f60722dcd1121954fe0ee21a60e2f34ffd1ff8c45a878f6a35a \n",
      "hex_randomiv2 = d410d2a64277f8ea162d81cc23c4c70a\n",
      "plaintext2 =  b'This message is important'\n"
     ]
    }
   ],
   "source": [
    "# CHECK CBC FUNCTION\n",
    "\n",
    "print(\"# CBC FIRST RUN\")\n",
    "ciphertext1, randomkey1, randomiv1= aes256_cbc_pkcs7_encrypt_rnd(b\"This message is important\")\n",
    "print(\"hex_randomkey1 =\", randomkey1.hex(), \"\\nhex_ciphertext1 =\", ciphertext1.hex(), \"\\nhex_randomiv1 =\", randomiv1.hex())\n",
    "plaintext1 = aes256_cbc_pkcs7_decrypt(ciphertext1, randomkey1, randomiv1)\n",
    "print(\"plaintext1 = \", plaintext1)\n",
    "\n",
    "print(\"\\n# CBC SECOND RUN\")\n",
    "ciphertext2, randomkey2, randomiv2 = aes256_cbc_pkcs7_encrypt_rnd(b\"This message is important\")\n",
    "print(\"hex_randomkey2 =\", randomkey2.hex(), \"\\nhex_ciphertext2 =\", ciphertext2.hex(), \"\\nhex_randomiv2 =\", randomiv2.hex())\n",
    "plaintext2 = aes256_cbc_pkcs7_decrypt(ciphertext2, randomkey2, randomiv2)\n",
    "print(\"plaintext2 = \", plaintext2)"
   ]
  },
  {
   "attachments": {},
   "cell_type": "markdown",
   "id": "4a161a27-eb7a-4e48-b6bd-e85ef8518bc7",
   "metadata": {
    "tags": []
   },
   "source": [
    "## 1.4 AES256 - CTR MODE\n",
    "\n",
    "Let’s now use the CTR operation mode. You can consult the library documentation for this mode [here](https://cryptography.io/en/latest/hazmat/primitives/symmetric-encryption/#cryptography.hazmat.primitives.ciphers.modes.CTR).\n",
    "Notice that in this case you do not need an initialization vector, but you need a nonce to initialize the counter. "
   ]
  },
  {
   "attachments": {},
   "cell_type": "markdown",
   "id": "a3c9a1f4-06c9-4514-a720-a143f9319ec7",
   "metadata": {
    "tags": []
   },
   "source": [
    "### Task 1.4.1 Encrypt/decrypt with AES 256 CTR\n",
    "\n",
    "Review your notes on CTR operation mode.  \n",
    "\n",
    "**Q:** Does CTR operation mode need padding? That is, is a requirement that the length of the data to encrypt in bytes is multiple of the cipher block size?\n",
    "\n",
    "**A:** No."
   ]
  },
  {
   "attachments": {},
   "cell_type": "markdown",
   "id": "13bdafb8",
   "metadata": {},
   "source": [
    "Write two new encryption and one decryption functions based on your AES256-CBC code but that makes use of the CTR mode instead of the CBC one. Notice that PKCS7 padding will NOT be applied."
   ]
  },
  {
   "cell_type": "code",
   "execution_count": 75,
   "id": "12df94b3-76df-48de-86cb-cf8d1f4bb316",
   "metadata": {},
   "outputs": [],
   "source": [
    "nonce = b'\\xf4$\\x89\\xab{\\xa4-`:\\xdeq\\xb5m\\x1b\\xd3\\x98'  # 16B\n",
    "\n",
    "def aes256_ctr_encrypt(data_to_encrypt, key, nonce):\n",
    "    \n",
    "    cipher = Cipher(algorithms.AES256(key), modes.CTR(nonce))\n",
    "    encryptor = cipher.encryptor()\n",
    "    ct = encryptor.update(data_to_encrypt) + encryptor.finalize()\n",
    "    \n",
    "    return ct\n",
    "\n",
    "\n",
    "def aes256_ctr_decrypt(encrypted_data, key, nonce):\n",
    "    \n",
    "    cipher = Cipher(algorithms.AES256(key), modes.CTR(nonce))\n",
    "    decryptor = cipher.decryptor()\n",
    "    pt = decryptor.update(encrypted_data) + decryptor.finalize()\n",
    "    \n",
    "    return pt\n",
    "\n",
    "\n",
    "def aes256_ctr_encrypt_rnd(data_to_encrypt, key=None, nonce=None):\n",
    "    BLOCK_SIZE = 16  # B\n",
    "    if key is None: key = os.urandom(BLOCK_SIZE)\n",
    "    if nonce is None: nonce = os.urandom(BLOCK_SIZE)\n",
    "\n",
    "    ct = aes256_ctr_encrypt(data_to_encrypt, key, nonce)\n",
    "    \n",
    "    return ct, key, nonce"
   ]
  },
  {
   "cell_type": "code",
   "execution_count": 77,
   "id": "decc1346-07a5-4372-9d76-b469d92cb4ca",
   "metadata": {},
   "outputs": [
    {
     "name": "stdout",
     "output_type": "stream",
     "text": [
      "other_message : b'This message is important'\n",
      "key = b'MN\\\\\\xde\\xa1\\xf7\\x9c\\xcf\\x10A\\xa8\\x1e\\x00\\x0eeq\\xe86\\x1c\\x12\\x18\\xa6\\x10\\xfb\\xb9^\\n,0\\xa2kj'\n",
      "hex_key = 4d4e5cdea1f79ccf1041a81e000e6571e8361c1218a610fbb95e0a2c30a26b6a\n",
      "nonce = b'\\xf4$\\x89\\xab{\\xa4-`:\\xdeq\\xb5m\\x1b\\xd3\\x98'\n",
      "hex_nonce = f42489ab7ba42d603ade71b56d1bd398\n",
      "ciphertext1 = a79a1e04ca64996bb6a2644692ec77449d189e30177d2992d8 \n",
      "length ciphertext1 = 25\n",
      "ciphertext2 = a79a1e04ca64996bb6a2644692ec77449d189e30177d2992d8e6e3ceba38e8690d5be581bbd93f69a7236edf40d9d900ae96 \n",
      "length ciphertext2 = 50\n",
      "plaintext1 = b'This message is important'\n",
      "plaintext2 = b'This message is importantThis message is important'\n"
     ]
    }
   ],
   "source": [
    "# CHECK YOUR CODE\n",
    "\n",
    "nonce = b'\\xf4$\\x89\\xab{\\xa4-`:\\xdeq\\xb5m\\x1b\\xd3\\x98'\n",
    "\n",
    "print(\"other_message :\", other_message)\n",
    "print(\"key =\", key)\n",
    "print(\"hex_key =\", key.hex())\n",
    "print(\"nonce =\", nonce)\n",
    "print(\"hex_nonce =\", nonce.hex())\n",
    "\n",
    "ciphertext1 = aes256_ctr_encrypt(other_message, key, nonce)\n",
    "ciphertext2 = aes256_ctr_encrypt(other_message + other_message, key, nonce)\n",
    "\n",
    "print(\"ciphertext1 =\", ciphertext1.hex(), \"\\nlength ciphertext1 =\", len(ciphertext1))\n",
    "print(\"ciphertext2 =\", ciphertext2.hex(), \"\\nlength ciphertext2 =\", len(ciphertext2))\n",
    "\n",
    "plaintext1 = aes256_ctr_decrypt(ciphertext1, key, nonce)\n",
    "plaintext2 = aes256_ctr_decrypt(ciphertext2, key, nonce)\n",
    "\n",
    "print(\"plaintext1 =\", plaintext1)\n",
    "print(\"plaintext2 =\", plaintext2)"
   ]
  },
  {
   "attachments": {},
   "cell_type": "markdown",
   "id": "1646a4b0-299e-440a-8d19-254a81d98681",
   "metadata": {},
   "source": [
    "You should obtain the following results if you encrypt <code>other_message</code> and two times <code>other_message</code> with the same <code>key</code> previously used and the provided <code>nonce</code>.\n",
    "```\n",
    "other_message : b'This message is important'\n",
    "key = b'MN\\\\\\xde\\xa1\\xf7\\x9c\\xcf\\x10A\\xa8\\x1e\\x00\\x0eeq\\xe86\\x1c\\x12\\x18\\xa6\\x10\\xfb\\xb9^\\n,0\\xa2kj'\n",
    "hex_key = 4d4e5cdea1f79ccf1041a81e000e6571e8361c1218a610fbb95e0a2c30a26b6a\n",
    "nonce = b'\\xf4$\\x89\\xab{\\xa4-`:\\xdeq\\xb5m\\x1b\\xd3\\x98'\n",
    "hex_nonce = f42489ab7ba42d603ade71b56d1bd398\n",
    "ciphertext1 = a79a1e04ca64996bb6a2644692ec77449d189e30177d2992d8 \n",
    "length ciphertext1 = 25\n",
    "ciphertext2 = a79a1e04ca64996bb6a2644692ec77449d189e30177d2992d8e6e3ceba38e8690d5be581bbd93f69a7236edf40d9d900ae96 \n",
    "length  ciphertext2 = 50\n",
    "plaintext1 = b'This message is important'\n",
    "plaintext2 = b'This message is importantThis message is important'\n",
    "```"
   ]
  },
  {
   "attachments": {},
   "cell_type": "markdown",
   "id": "b2fb2ef9-69a3-4b17-8122-1641cfab83fe",
   "metadata": {},
   "source": [
    "**Q:** Which length in bytes has the input data to encrypt in Task 1.4.1? And the output ciphertext? Is the length of the output ciphertext multiple of the cipher block size or not and why?\n",
    "\n",
    "**A:** No."
   ]
  },
  {
   "attachments": {},
   "cell_type": "markdown",
   "id": "234a2d39-dd70-49d4-b6f8-5efc33e3cbdb",
   "metadata": {
    "tags": []
   },
   "source": [
    "### Task 1.4.2 Checking AES 256 CTR against CyberChef\n",
    "\n",
    "Test again your AES256-CTR code but this time check your results using the web page tool [CyberChef](https://gchq.github.io/CyberChef/)."
   ]
  },
  {
   "cell_type": "markdown",
   "id": "1e1e7b9d-2812-46f6-b431-4683f0439075",
   "metadata": {},
   "source": [
    "## 1.5 ADDITIONAL ASPECTS OF OPERATION MODES"
   ]
  },
  {
   "attachments": {},
   "cell_type": "markdown",
   "id": "284ddf2f-f57b-4bc6-af7e-e9a813ad1a13",
   "metadata": {
    "tags": []
   },
   "source": [
    "### Task 1.5.1 No-padding AES 256 ECB and CBC functions\n",
    "\n",
    "You have already been questioned about the difference in the output lengths when different operation modes are used and when padding is added or not. Now you’ll study what happens when you intentionally modify one bit (or octet) of a ciphertext and then decrypt the modified ciphertext. \n",
    "\n",
    "In order to play with modifications in the ciphertext, it is better to avoid PKCS7 padding, as if modifications affect the padding, it will probably raise an error and you’ll not be able to study the effects of the modifications in the plaintext after decryption.  \n",
    "\n",
    "After all, padding is not _explicitely required_ in these modes, if the size of the message is a multiple of the block size."
   ]
  },
  {
   "attachments": {},
   "cell_type": "markdown",
   "id": "4d17240f-899e-41ed-b938-eadc7d0ae276",
   "metadata": {
    "tags": []
   },
   "source": [
    "Write a new set of functions for AES256-CBC and AES256-ECB encryption and decryption that do not apply padding."
   ]
  },
  {
   "cell_type": "code",
   "execution_count": 80,
   "id": "8872c1a2-0c06-475f-b917-3ed6bbd6e72f",
   "metadata": {},
   "outputs": [],
   "source": [
    "def aes256_cbc_encrypt(data_to_encrypt, key, iv):\n",
    "\n",
    "    cipher = Cipher(algorithms.AES256(key), modes.CBC(iv))\n",
    "    encryptor = cipher.encryptor()\n",
    "    ct = encryptor.update(data_to_encrypt) + encryptor.finalize()\n",
    "\n",
    "    return ct\n",
    "    \n",
    "\n",
    "def aes256_cbc_decrypt(encrypted_data, key, iv):\n",
    "    \n",
    "    cipher = Cipher(algorithms.AES256(key), modes.CBC(iv))\n",
    "    decryptor = cipher.decryptor()\n",
    "    pt = decryptor.update(encrypted_data) + decryptor.finalize()\n",
    "\n",
    "    return pt\n",
    "\n",
    "def aes256_ecb_encrypt(data_to_encrypt, key):\n",
    "    \n",
    "    cipher = Cipher(algorithms.AES256(key), modes.ECB())\n",
    "    encryptor = cipher.encryptor()\n",
    "    ct = encryptor.update(data_to_encrypt) + encryptor.finalize()\n",
    "\n",
    "    return ct\n",
    "\n",
    "def aes256_ecb_decrypt(encrypted_data, key):\n",
    "    \n",
    "    cipher = Cipher(algorithms.AES256(key), modes.ECB())\n",
    "    decryptor = cipher.decryptor()\n",
    "    pt = decryptor.update(encrypted_data) + decryptor.finalize()\n",
    "\n",
    "    return pt"
   ]
  },
  {
   "attachments": {},
   "cell_type": "markdown",
   "id": "69823b9e-e0bd-4ec8-967a-9e8b78222e4c",
   "metadata": {
    "tags": []
   },
   "source": [
    "Test your functions by encrypting messages with length in chars multiple of 16 and then decrypting the resulting ciphertext."
   ]
  },
  {
   "cell_type": "code",
   "execution_count": 79,
   "id": "b05929ba-f407-4ffa-b2c0-4435b98711ed",
   "metadata": {},
   "outputs": [
    {
     "name": "stdout",
     "output_type": "stream",
     "text": [
      "message : b'a secret message'\n",
      "key : b'MN\\\\\\xde\\xa1\\xf7\\x9c\\xcf\\x10A\\xa8\\x1e\\x00\\x0eeq\\xe86\\x1c\\x12\\x18\\xa6\\x10\\xfb\\xb9^\\n,0\\xa2kj'\n",
      "hex_key : 4d4e5cdea1f79ccf1041a81e000e6571e8361c1218a610fbb95e0a2c30a26b6a\n",
      "iv : b'\\x7f\\xb3W\\x84\\x1a9KN~\\xafs\\xfc\\x9f\\xb6\\xcc\\xb8'\n",
      "hex_iv : 7fb357841a394b4e7eaf73fc9fb6ccb8\n",
      "AES256-CBC ciphertext:  b';\\xa6\\xe5\\x85;^\\xc2&\\xec\\x07|\\x03\\xcc\\r\\xaeN'\n",
      "AES256-CBC plaintext:  b'a secret message'\n",
      "AES256-ECB ciphertext:  b'i\\xb0a\\x1b\\x95\\x8f\\x16\\xd6\\xed1\\xc6\\xfc\\xa5\\xab\\xd5F'\n",
      "AES256-ECB plaintext:  b'a secret message'\n"
     ]
    }
   ],
   "source": [
    "# CHECKING YOUR CODE\n",
    "\n",
    "print(\"message :\", message)\n",
    "print(\"key :\", key)\n",
    "print(\"hex_key :\", key.hex())\n",
    "print(\"iv :\", iv)\n",
    "print(\"hex_iv :\", iv.hex())\n",
    "\n",
    "print(\"AES256-CBC ciphertext: \", aes256_cbc_encrypt(message, key, iv))\n",
    "print(\"AES256-CBC plaintext: \", aes256_cbc_decrypt(aes256_cbc_encrypt(message, key, iv), key, iv))\n",
    "\n",
    "print(\"AES256-ECB ciphertext: \", aes256_ecb_encrypt(message, key))\n",
    "print(\"AES256-ECB plaintext: \", aes256_ecb_decrypt(aes256_ecb_encrypt(message, key), key))"
   ]
  },
  {
   "attachments": {},
   "cell_type": "markdown",
   "id": "acfc26c3-41b5-4408-b88e-5874dcc0284a",
   "metadata": {},
   "source": [
    "With the previously used values for <code>message</code>, <code>key</code> and <code>iv</code>, you should obtain the following results:\n",
    "```\n",
    "message : b'a secret message'\n",
    "key : b'MN\\\\\\xde\\xa1\\xf7\\x9c\\xcf\\x10A\\xa8\\x1e\\x00\\x0eeq\\xe86\\x1c\\x12\\x18\\xa6\\x10\\xfb\\xb9^\\n,0\\xa2kj'\n",
    "hex_key : 4d4e5cdea1f79ccf1041a81e000e6571e8361c1218a610fbb95e0a2c30a26b6a\n",
    "iv : b'\\x7f\\xb3W\\x84\\x1a9KN~\\xafs\\xfc\\x9f\\xb6\\xcc\\xb8'\n",
    "hex_iv : 7fb357841a394b4e7eaf73fc9fb6ccb8\n",
    "AES256-CBC ciphertext:  b';\\xa6\\xe5\\x85;^\\xc2&\\xec\\x07|\\x03\\xcc\\r\\xaeN'\n",
    "AES256-CBC plaintext:  b'a secret message'\n",
    "AES256-ECB ciphertext:  b'i\\xb0a\\x1b\\x95\\x8f\\x16\\xd6\\xed1\\xc6\\xfc\\xa5\\xab\\xd5F'\n",
    "AES256-ECB plaintext:  b'a secret message'\n",
    "```"
   ]
  },
  {
   "attachments": {},
   "cell_type": "markdown",
   "id": "48543eba-f832-4b05-9efc-65dd88e1cc3a",
   "metadata": {
    "tags": []
   },
   "source": [
    "### Task 1.5.2 Effects of modifying ciphertext under different operation modes\n",
    "\n",
    "Now, analyse how the decrypted plaintext changes after modifying one bit of the ciphertext at different positions (one in the first block, another in the second block…).\n",
    "\n",
    "Suggested steps:\n",
    "- Select a message with at least 48-char length (remember that the length in char has to be multiple of 16)\n",
    "- Select a key, and iv and nonce if necessary\n",
    "- Encrypt the message operating the cipher with the selected mode\n",
    "- Save the ciphertext in one variable (`ciphertext`)\n",
    "- Modify the previous ciphertext in one bit and save the result in another variable (modified_ciphertext)\n",
    "- Decrypt both the ciphertext and its modified version, saving the decryptions, respectively, in two variables: `plaintext` and `modified_plaintext`\n",
    "- Analyse how the ciphertext modification has affected the plaintext"
   ]
  },
  {
   "cell_type": "code",
   "execution_count": 127,
   "id": "de823411-336a-4bd1-82af-8cfe5ff77d37",
   "metadata": {},
   "outputs": [
    {
     "name": "stdout",
     "output_type": "stream",
     "text": [
      "key = b'\\x1e\\xac\\x1a\\x1dK#\\x8c\\x0ebp7`\\x0c\\xe0\\xf7\\xf2\\xad\\x98K\\x08}\\x16LiZ\\xe1.j\\xbc\\xc2\\xc9Z'\n",
      "iv = b'0\\xf0\\x99\\xcem\\xef\\xbb\\x98:\\xf8x<<\\x91ae'\n",
      "nonce = b'\\xd6\\xb2N\\xf7\\xa7S\\n\\xd6C\\x02\\xff\\xd2T\\xfef\\xdc'\n",
      "message = b'a secret message'\n",
      "\n",
      "ct_cbc = b'e\\xecO\\x92\\x98\\x155\\xca\\x1c\\xc6`I9\\xee\\x86\\xad'\n",
      "ct_ecb = b'\\xc4\\x9a#\\xf6G#\\xcf\\xec+\\xc2\\xf4&\\xfd%\\xba\\xd3'\n",
      "ct_ctr = b'\\xb7\\x18\\x10&\\xd2\\xa5\\xed\\xf5\\xba-,W\\xda9\\xcf)'\n",
      "\n",
      "mod_ct_cbc = b'e\\xecO\\x92\\x98\\x155\\xca\\x1c\\xc6`I9\\xee\\x86\\xae'\n",
      "mod_ct_ecb = b'\\xc4\\x9a#\\xf6G#\\xcf\\xec+\\xc2\\xf4&\\xfd%\\xba\\xd4'\n",
      "mod_ct_ctr = b'\\xb7\\x18\\x10&\\xd2\\xa5\\xed\\xf5\\xba-,W\\xda9\\xcf*'\n",
      "\n",
      "mod_pt_cbc = b'v\\xa5\\xf5z@\\xect\\xd3!\\x18\\x8b5^\\xd4p\\x95'\n",
      "mod_pt_ecb = b'FUl\\xb4-\\x03\\xcfK\\x1b\\xe0\\xf3\\tbE\\x11\\xf0'\n",
      "mod_pt_ctr = b'\\xb3\\xd4,\\xd1)\\xc2\\xbdK\\x86\\x86)m\\x90\\xb6.\\xe2'\n"
     ]
    }
   ],
   "source": [
    "# THIS SHIT DOESN'T WORK FOR SOME FUCKING REASON\n",
    "\n",
    "KEY_SIZE = 32\n",
    "BLOCK_SIZE = 16\n",
    "\n",
    "key = os.urandom(KEY_SIZE)\n",
    "iv = os.urandom(BLOCK_SIZE)\n",
    "nonce = os.urandom(BLOCK_SIZE)\n",
    "message = b'a secret message'\n",
    "\n",
    "print(\"key =\", key)\n",
    "print(\"iv =\", iv)\n",
    "print(\"nonce =\", nonce)\n",
    "print(\"message =\", message)\n",
    "\n",
    "# encrypt\n",
    "ct_cbc = aes256_cbc_encrypt(message, key, iv)\n",
    "ct_ecb = aes256_ecb_encrypt(message, key)\n",
    "ct_ctr = aes256_ctr_encrypt(message, key, nonce)\n",
    "\n",
    "print(\"\")\n",
    "print(\"ct_cbc =\", ct_cbc)\n",
    "print(\"ct_ecb =\", ct_ecb)\n",
    "print(\"ct_ctr =\", ct_ctr)\n",
    "\n",
    "# add 1\n",
    "\n",
    "mod_ct_cbc = (int.from_bytes(ct_cbc, \"big\") + 1).to_bytes(len(ct_cbc), \"big\")\n",
    "mod_ct_ecb = (int.from_bytes(ct_ecb, \"big\") + 1).to_bytes(len(ct_ecb), \"big\")\n",
    "mod_ct_ctr = (int.from_bytes(ct_ctr, \"big\") + 1).to_bytes(len(ct_ctr), \"big\")\n",
    "\n",
    "\n",
    "print(\"\")\n",
    "print(\"mod_ct_cbc =\", mod_ct_cbc)\n",
    "print(\"mod_ct_ecb =\", mod_ct_ecb)\n",
    "print(\"mod_ct_ctr =\", mod_ct_ctr)\n",
    "\n",
    "# decrypt\n",
    "\n",
    "mod_pt_cbc = aes256_cbc_decrypt(mod_ct_cbc, key, iv)\n",
    "mod_pt_ecb = aes256_ecb_decrypt(mod_ct_cbc, key)\n",
    "mod_pt_ctr = aes256_ctr_decrypt(mod_ct_cbc, key, nonce)\n",
    "\n",
    "print(\"\")\n",
    "print(\"mod_pt_cbc =\", mod_pt_cbc)\n",
    "print(\"mod_pt_ecb =\", mod_pt_ecb)\n",
    "print(\"mod_pt_ctr =\", mod_pt_ctr)"
   ]
  },
  {
   "attachments": {},
   "cell_type": "markdown",
   "id": "6a971bfc-5d79-4e7b-8e97-c113ce60892a",
   "metadata": {},
   "source": [
    "How many bits (or bytes) are affected in each case (ECB, CBC, CTR)? Which are their positions? Can you explain the reasons in each case considering the course notes on operation modes?  \n",
    "\n",
    "- **CBC and ECB modes:** The entire block of the altered byte is corrupted.\n",
    "- **CTR mode:** Only the affected byte is corrupted."
   ]
  },
  {
   "cell_type": "markdown",
   "id": "bc7dfab1-5113-42e9-a4dc-1c1bac0a94fc",
   "metadata": {},
   "source": [
    "## 1.6 OTHER CIPHERS AND KEY SIZES"
   ]
  },
  {
   "attachments": {},
   "cell_type": "markdown",
   "id": "3132b0d0-618d-4249-a37f-51c11c797713",
   "metadata": {},
   "source": [
    "### Task 1.6.1 Camellia symmetric block cipher\n",
    "\n",
    "Now, create new functions similar to the ones already coded but that in this case use the Camellia cipher and other key sizes. Consult the library documentation to know more about the Camellia cipher and available key sizes for both AES and Camellia."
   ]
  },
  {
   "cell_type": "code",
   "execution_count": 136,
   "id": "6c73bd2a-8e7a-4150-bd17-33317bf86242",
   "metadata": {},
   "outputs": [
    {
     "name": "stdout",
     "output_type": "stream",
     "text": [
      "ct = b')\\x9ct=.\\xaf-\\xcfW]M\\x059F\\x95O'\n",
      "pt = b'a secret message'\n"
     ]
    }
   ],
   "source": [
    "message = b\"a secret message\"\n",
    "key = os.urandom(KEY_SIZE)\n",
    "\n",
    "cipher = Cipher(algorithms.Camellia(key), mode = modes.ECB())\n",
    "\n",
    "encryptor = cipher.encryptor()\n",
    "ct = encryptor.update(message) + encryptor.finalize()\n",
    "\n",
    "print(\"ct =\", ct)\n",
    "\n",
    "decryptor = cipher.decryptor()\n",
    "pt = decryptor.update(ct) + decryptor.finalize()\n",
    "\n",
    "print(\"pt =\", pt)"
   ]
  },
  {
   "attachments": {},
   "cell_type": "markdown",
   "id": "e8e1b2f8-de7d-4d2f-a1fe-3dd0f9914135",
   "metadata": {},
   "source": [
    "## 1.7 EXCHANGING SECRET MESSAGES WITH A PARTNER"
   ]
  },
  {
   "attachments": {},
   "cell_type": "markdown",
   "id": "b25fb5d6",
   "metadata": {},
   "source": [
    "### Task 1.7.1 Exchanging secret messages\n",
    "\n",
    "Choose a partner among your classmates and exchange with him/her secret messages. You’ll need to send the key and other needed parameters along with the ciphertext. The receiver will also need to know the used algorithm, operation mode and key/block size if there are available more than one.\n",
    "\n",
    "**Notice that in real life keys should NEVER be sent UNPROTECTED.**"
   ]
  },
  {
   "attachments": {},
   "cell_type": "markdown",
   "id": "3ec4fb6b-6d69-4c9a-b47a-0b75268b474f",
   "metadata": {},
   "source": [
    "# 2. Symmetric Stream Ciphers\n",
    "\n",
    "Next, you’ll learn how to encrypt a simple text with symmetric stream ciphers. First, you’ll use the CHACHA20 cipher and then you’ll use the `pylfsr` module to generate pseudorandom key streams using LFSRs."
   ]
  },
  {
   "cell_type": "markdown",
   "id": "7ed5d84c-fce4-4d7f-96b4-8a8d8d326757",
   "metadata": {},
   "source": [
    "## 2.1 CHACHA20 STREAM CIPHER"
   ]
  },
  {
   "attachments": {},
   "cell_type": "markdown",
   "id": "976d2f70-56d4-4c66-91a6-df663831f56a",
   "metadata": {},
   "source": [
    "### Task 2.1.1 CHACHA20 encryption/decryption functions\n",
    "\n",
    "Now read the information and take the code provided as example in the following [web page](https://cryptography.io/en/latest/hazmat/primitives/symmetric-encryption/#cryptography.hazmat.primitives.ciphers.algorithms.ChaCha20)\n",
    "\n",
    "Take the code in the example and use it as base to create the functions whose headers are defined next. Test your functions with the data and results of Code Snippet `29` and Code Snippet `30`. "
   ]
  },
  {
   "cell_type": "code",
   "execution_count": 137,
   "id": "0870f01b-4cb4-44cb-851e-1b12f83f3b4a",
   "metadata": {},
   "outputs": [],
   "source": [
    "def chacha20_encrypt(message, key, nonce):\n",
    "    \n",
    "    cipher = Cipher(algorithms.ChaCha20(key, nonce), mode = None)\n",
    "    encryptor = cipher.encryptor()\n",
    "    ct = encryptor.update(message) + encryptor.finalize()\n",
    "\n",
    "    return ct\n",
    "\n",
    "def chacha20_encrypt_rnd(message, key=None, nonce=None):\n",
    "    if key is None:\n",
    "        key = os.urandom(32)    # key must have 256 bits\n",
    "    if nonce is None:\n",
    "       nonce = os.urandom(16)   # nonce must have 128 bits\n",
    "    \n",
    "    ct = chacha20_encrypt(message, key, nonce)\n",
    "    \n",
    "    return ct, key, nonce;\n",
    "\n",
    "def chacha20_decrypt(ciphertext, key, nonce):\n",
    "    \n",
    "    cipher = Cipher(algorithms.ChaCha20(key, nonce), mode = None)\n",
    "    encryptor = cipher.encryptor()\n",
    "    pt = encryptor.update(ciphertext) + encryptor.finalize()\n",
    "\n",
    "    return pt"
   ]
  },
  {
   "cell_type": "code",
   "execution_count": 139,
   "id": "e36d9366-a6e6-4bba-932d-135ce9d8fecb",
   "metadata": {},
   "outputs": [
    {
     "name": "stdout",
     "output_type": "stream",
     "text": [
      "message : b'a secret message'\n",
      "other_message : b'This message is important'\n",
      "key = b'\\xdd\\x15S\\x12\\x83\\r}\\x95\\xfa4\\xd6\\ti\\xcfh\\xf0\\x98\\xedm\\xe3\\xbe\\xd2s\\xf8\\xb5\\xed\\x1f+\\x88\\xb2\\x85\\xaa'\n",
      "hex_key = dd155312830d7d95fa34d60969cf68f098ed6de3bed273f8b5ed1f2b88b285aa\n",
      "nonce = b'\\xd6\\xb2N\\xf7\\xa7S\\n\\xd6C\\x02\\xff\\xd2T\\xfef\\xdc'\n",
      "hex_nonce = d6b24ef7a7530ad64302ffd254fe66dc\n",
      "\n",
      "ciphertext chacha20 message= b'\\x85o\\x1f^1\\xaf\\xa46\\xcfy\\x8e\\xe9P!Y\\xb3'\n",
      "hex_ciphertext chacha20 message= 856f1f5e31afa436cf798ee9502159b3\n",
      "plaintext chacha20 message= b'a secret message'\n",
      "hex_plaintext chacha20 message= 6120736563726574206d657373616765\n",
      "ciphertext chacha20 other_message= b\"\\xb0'\\x05Hr\\xb0\\xa41\\x9cu\\x8c\\xff\\x03)M\\xf6\\xfd^_\\xfc\\x80x \\xc8e\"\n",
      "hex_ciphertext chacha20 other_message= b027054872b0a4319c758cff03294df6fd5e5ffc807820c865\n",
      "plaintext chacha20 other_message= b'This message is important'\n",
      "hex_plaintext chacha20 other_message= 54686973206d65737361676520697320696d706f7274616e74\n"
     ]
    }
   ],
   "source": [
    "# Check your code\n",
    "\n",
    "print(\"message :\", message)\n",
    "print(\"other_message :\", other_message)\n",
    "print(\"key =\", key)\n",
    "print(\"hex_key =\", key.hex())\n",
    "print(\"nonce =\", nonce)\n",
    "print(\"hex_nonce =\", nonce.hex())\n",
    "\n",
    "print(\"\")\n",
    "\n",
    "print(\"ciphertext chacha20 message=\", chacha20_encrypt(message, key, nonce))\n",
    "print(\"hex_ciphertext chacha20 message=\", chacha20_encrypt(message, key, nonce).hex())\n",
    "\n",
    "print(\"plaintext chacha20 message=\", chacha20_decrypt(chacha20_encrypt(message, key, nonce), key, nonce))\n",
    "print(\"hex_plaintext chacha20 message=\", chacha20_decrypt(chacha20_encrypt(message, key, nonce), key, nonce).hex())\n",
    "\n",
    "print(\"ciphertext chacha20 other_message=\", chacha20_encrypt(other_message, key, nonce))\n",
    "print(\"hex_ciphertext chacha20 other_message=\", chacha20_encrypt(other_message, key, nonce).hex())\n",
    "\n",
    "print(\"plaintext chacha20 other_message=\", chacha20_decrypt(chacha20_encrypt(other_message, key, nonce), key, nonce))\n",
    "print(\"hex_plaintext chacha20 other_message=\", chacha20_decrypt(chacha20_encrypt(other_message, key, nonce), key, nonce).hex())\n"
   ]
  },
  {
   "attachments": {},
   "cell_type": "markdown",
   "id": "6e4b1a03-b267-4ddf-b9ef-e6264a6905ea",
   "metadata": {},
   "source": [
    "You should obtain the following result:\n",
    "```\n",
    "message : b'a secret message'\n",
    "other_message : b'This message is important'\n",
    "key = b'MN\\\\\\xde\\xa1\\xf7\\x9c\\xcf\\x10A\\xa8\\x1e\\x00\\x0eeq\\xe86\\x1c\\x12\\x18\\xa6\\x10\\xfb\\xb9^\\n,0\\xa2kj'\n",
    "hex_key = 4d4e5cdea1f79ccf1041a81e000e6571e8361c1218a610fbb95e0a2c30a26b6a\n",
    "nonce = b'\\xf4$\\x89\\xab{\\xa4-`:\\xdeq\\xb5m\\x1b\\xd3\\x98'\n",
    "\n",
    "hex_nonce = f42489ab7ba42d603ade71b56d1bd398\n",
    "ciphertext chacha20 message= b'Q\\x02\\x96\\x92\\xed\\xc1\\x90-\\x97r\\xaa/.\\xb3`\\xfd'\n",
    "hex_ciphertext chacha20 message= 51029692edc1902d9772aa2f2eb360fd\n",
    "plaintext chacha20 message= b'a secret message'\n",
    "hex_plaintext chacha20 message= 6120736563726574206d657373616765\n",
    "ciphertext chacha20 other_message= b'dJ\\x8c\\x84\\xae\\xde\\x90*\\xc4~\\xa89}\\xbbt\\xb8\\x19G\\xa7!\\xac7\\xed8z'\n",
    "hex_ciphertext chacha20 other_message= 644a8c84aede902ac47ea8397dbb74b81947a721ac37ed387a\n",
    "plaintext chacha20 other_message= b'This message is important'\n",
    "hex_plaintext chacha20 other_message= 54686973206d65737361676520697320696d706f7274616e74  \n",
    "```"
   ]
  },
  {
   "attachments": {},
   "cell_type": "markdown",
   "id": "56e2918c-132f-478a-96fd-d574e4341190",
   "metadata": {},
   "source": [
    "## 2.2 GENERATING KEYSTREAMS WITH LFSRS\n",
    "\n",
    "Now you’ll make use of the [`pylfsr`](https://lfsr.readthedocs.io/en/latest/index.html) module. This library generates pseudorandom bit streams using, among other generators, LFSRs. It requires to have installed the `numpy` library, and in the case that you are using pylfsr’s graphical functions, the `matplotlib` library. "
   ]
  },
  {
   "attachments": {},
   "cell_type": "markdown",
   "id": "74b8dc61-f39a-463a-abda-cd4278a5a81f",
   "metadata": {},
   "source": [
    "### Task 2.2.1 Generating a key stream\n",
    "\n",
    "Have a look at the information presented in [this web page](https://lfsr.readthedocs.io/en/latest/index.html).  \n",
    "Consider the example [“Example 2: 5-bit LFSR with custum state and feedback polynomial”](https://lfsr.readthedocs.io/en/latest/LFSR_Examples.html#example-2-5-bit-lfsr-with-custum-state-and-feedback-polynomial).\n",
    "\n",
    "Using the code in the example, generate 10 bits using primitive polynomial $x^5 + x^4 + x^3+ x^2 + 1$"
   ]
  },
  {
   "cell_type": "code",
   "execution_count": 142,
   "id": "40a1d68e-0c1b-4c80-9f9f-d30ebb9e4eb8",
   "metadata": {},
   "outputs": [
    {
     "name": "stdout",
     "output_type": "stream",
     "text": [
      "5-bit LFSR with feedback polynomial  x^5 + x^4 + x^3 + x^2 + 1 with\n",
      "Expected Period (if polynomial is primitive) =  31\n",
      "Computing configuration is set to Fibonacci with output sequence taken from 5-th (-1) register\n",
      "Current :\n",
      " State        :  [0 0 0 1 0]\n",
      " Count        :  0\n",
      " Output bit   :  -1\n",
      " feedback bit :  -1\n",
      "S:  [0 0 0 1 0]\n",
      "S:  [1 0 0 0 1]\n",
      "S:  [1 1 0 0 0]\n",
      "S:  [1 1 1 0 0]\n",
      "S:  [0 1 1 1 0]\n",
      "S:  [1 0 1 1 1]\n",
      "S:  [1 1 0 1 1]\n",
      "S:  [1 1 1 0 1]\n",
      "S:  [1 1 1 1 0]\n",
      "S:  [1 1 1 1 1]\n"
     ]
    }
   ],
   "source": [
    "# from pylfsr import LFSR\n",
    "\n",
    "state = [0, 0, 0, 1, 0]   # seed = S1 S2 S3 S4 S5 \n",
    "fpoly = [5, 4, 3, 2]         # polynomial C5=1 C4=1 C3=1 C2=1 C1=0\n",
    "L = LFSR(fpoly=fpoly, initstate=state, verbose=True)  # LFSR initialization\n",
    "L.info()                  # prints information of the configured LFSR\n",
    "tempseq = L.runKCycle(10) # generation of 10 bits "
   ]
  },
  {
   "cell_type": "markdown",
   "id": "f450a981-a8df-4ecb-b358-09166ca3a2c4",
   "metadata": {},
   "source": [
    "The generated sequence is returned to the variable <code>tempseq</code>. Print its value and check that you obtain the same result as shown next: <code> [0 1 0 0 0 1 1 1 0 1] </code>"
   ]
  },
  {
   "cell_type": "code",
   "execution_count": 143,
   "id": "ef1650b6-5c13-4d06-ba72-d61428cb00c8",
   "metadata": {},
   "outputs": [
    {
     "name": "stdout",
     "output_type": "stream",
     "text": [
      "[0 1 0 0 0 1 1 1 0 1]\n"
     ]
    }
   ],
   "source": [
    "print(tempseq)"
   ]
  },
  {
   "attachments": {},
   "cell_type": "markdown",
   "id": "64936ac7-c797-40c6-9b63-d8f523a19507",
   "metadata": {},
   "source": [
    "### Task 2.2.2 Checking that you generate the same keystream\n",
    "\n",
    "Make sure you understand how the class works by checking by hand that the code obtains the same 10-bit sequence that you compute. Use the same parameters:\n",
    "- poly(x) = $x^5 + x^4 + x^3+ x^2 + 1 $\n",
    "- seed = [S1 S2 S3 S4 S5] = [0, 0, 0, 1, 0]"
   ]
  }
 ],
 "metadata": {
  "kernelspec": {
   "display_name": "Python 3",
   "language": "python",
   "name": "python3"
  },
  "language_info": {
   "codemirror_mode": {
    "name": "ipython",
    "version": 3
   },
   "file_extension": ".py",
   "mimetype": "text/x-python",
   "name": "python",
   "nbconvert_exporter": "python",
   "pygments_lexer": "ipython3",
   "version": "3.10.8"
  },
  "vscode": {
   "interpreter": {
    "hash": "d66e01cde6072322fed9d9621623693bd38d21842437dd24de56a92444191d53"
   }
  }
 },
 "nbformat": 4,
 "nbformat_minor": 5
}
