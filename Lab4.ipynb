{
 "cells": [
  {
   "attachments": {},
   "cell_type": "markdown",
   "id": "d3e11ac6-808a-40e9-be0f-b9b0bfd878cd",
   "metadata": {},
   "source": [
    "# Lab 4 – Public Key Certificates and PKI\n",
    "By Luis Daniel Casais Mezquida  \n",
    "Cryptography 22/23  \n",
    "Bachelor's degree in Applied Mathematics and Computing, grp. 121  \n",
    "Universidad Carlos III de Madrid"
   ]
  },
  {
   "cell_type": "markdown",
   "id": "ac1dd807-cbcb-4a96-9fee-27f983f7e98a",
   "metadata": {},
   "source": [
    "## General goal\n",
    "In this lab you’ll get familiarized with creating and processing X.509 public key certificates and with creating and\n",
    "operating a simple OpenSSL-based PKI. The lab makes use of the Cryptography library for Python and the OpenSSL\n",
    "command tool.\n",
    "\n",
    "## Specific goals\n",
    "- Deploy a simple one-level demo-CA with OpenSSL\n",
    "- Generate an end user Certificate Signing Request with pyca/cryptography\n",
    "- Issue an end user certificate using demo-CA and export it in PEM format with OpenSSL\n",
    "- Load and unserialize an end user PEM certificate using pyca/cryptography and use the associated public key\n",
    "- Export a certificate in PKCS12 format and use it to sign a PDF file with Adobe Reader\n",
    "- See some certificate real world examples  "
   ]
  },
  {
   "attachments": {},
   "cell_type": "markdown",
   "id": "e698e989-ac05-491f-9129-07bbdb53c27c",
   "metadata": {},
   "source": [
    "Modules and tools\n",
    "The documentation of the pyca/cryptography library can be found [here](https://pypi.org/project/cryptography).\n",
    "\n",
    "You’ll may find useful to have these links as reference:\n",
    "- [X.509 Tutorial](https://cryptography.io/en/latest/x509/tutorial.html)\n",
    "- [X.509 CSR (Certificate Signing Request) Object](https://cryptography.io/en/latest/x509/reference.html#x-509-csr-certificate-signing-request-object)\n",
    "- [Loading Certificates](https://cryptography.io/en/latest/x509/reference/#loading-certificates)\n",
    "- [X.509 Certificate Object](https://cryptography.io/en/latest/x509/reference.html#x-509-certificate-object)\n",
    "\n",
    "[OpenSSL](https://www.openssl.org/) documentation (manpages) can be found [here](https://www.openssl.org/docs/man1.1.1/).  \n",
    "\n",
    "We are going to use the command line tool, whose commands can be\n",
    "found [here](https://www.openssl.org/docs/man1.1.1/man1/).  \n",
    "The commands that you’ll have to use in Lab 4 are the following ones:\n",
    "- [ca](https://www.openssl.org/docs/man1.1.1/man1/ca.html) - sample minimal CA application\n",
    "- [x509](https://www.openssl.org/docs/man1.1.1/man1/x509.html) - Certificate display and signing utility\n",
    "- [req](https://www.openssl.org/docs/man1.1.1/man1/req.html) - PKCS#10 certificate request and certificate generating utility\n",
    "- [verify](https://www.openssl.org/docs/man1.1.1/man1/verify.html) - Utility to verify certificates"
   ]
  },
  {
   "attachments": {},
   "cell_type": "markdown",
   "id": "2e2b512d-18b7-4fa5-8a9e-ffbcfca828d8",
   "metadata": {},
   "source": [
    "## Lab assignment and assessment\n",
    "\n",
    "You are given a configuration file (<code>openssl_AC1.cnf</code>) that you will use to specify some options for the Certification Authority considered in the OpenSSL demo-CA.\n",
    "Next, you’ll be guided through several tasks you’ll have to complete. \n",
    "Lab 4 assessment will be performed with a test/quiz/exam at the end of the course."
   ]
  },
  {
   "cell_type": "markdown",
   "id": "bc38692a-a9e8-4fcc-8eb3-4014ab3c6076",
   "metadata": {},
   "source": [
    "# 0. Modules installation and imports"
   ]
  },
  {
   "cell_type": "code",
   "execution_count": 21,
   "id": "6cc827d0-6ae5-48ab-90ee-96adfc0fd5ad",
   "metadata": {},
   "outputs": [],
   "source": [
    "import base64\n",
    "\n",
    "from cryptography.hazmat.primitives.asymmetric import rsa\n",
    "from cryptography.hazmat.primitives.asymmetric import padding as asym_padding\n",
    "from cryptography.exceptions import InvalidSignature\n",
    "from cryptography.hazmat.primitives.asymmetric import utils\n",
    "from cryptography.hazmat.primitives import hashes\n",
    "from cryptography.hazmat.primitives import serialization\n",
    "from cryptography.hazmat.primitives.serialization import load_pem_private_key, load_pem_public_key\n",
    "\n",
    "from cryptography import x509\n",
    "from cryptography.x509.oid import NameOID\n",
    "from cryptography.x509 import load_pem_x509_certificate"
   ]
  },
  {
   "attachments": {},
   "cell_type": "markdown",
   "id": "d475555c-a3f2-47a9-ba7f-2639f8c7939a",
   "metadata": {},
   "source": [
    "# 1. Deploying AC1 and issuing AC1's self-signed certificate\n",
    "You are going to use the <code>OpenSSL</code> tool to deploy a demo CA. <code>OpenSSL</code> is already installed in the VM you are using and you can use <code>OpenSSL</code> command line tool through the terminal offered in JupyterLab .\n",
    "\n",
    "1) Create a folder and name it as <code>PKI</code>\n",
    "2) Open a terminal (File > New > Terminal) and go to the PKI folder by writing the command <code>cd PKI</code> (as shown below in line [0]) and press <code>Enter</code>. \n",
    "3) Next, create a new folder for AC1 (line `1`), go into this folder (line `2`) and create the infrastructe needed to deploy AC1 (lines `3`-`4`]). \n",
    "4) Place the file <code>openssl_AC1.cnf</code> that you should have downloaded from Aula Global inside the AC1 folder. WITH CARE: You may want to change some data inside the conf file (eg, the common name of the CA)  \n",
    "5) Now, you are ready to create an RSA key pair and a self-signed certificate for AC1 (line `6`). Below you can see an output similar to the one you should get. NOTE DOWN THE PASSWORD FOR THE PRIVATE KEY if you think that you may forget it (if you do not remember it, you'll have to repeat the process AGAIN if you need to use the private key)."
   ]
  },
  {
   "cell_type": "code",
   "execution_count": null,
   "id": "e39ae25c-297b-4ad3-b8d6-33f842c6afed",
   "metadata": {
    "vscode": {
     "languageId": "shellscript"
    }
   },
   "outputs": [],
   "source": [
    "cd PKI\n",
    "mkdir AC1\n",
    "cd AC1\n",
    "mkdir solicitudes crls nuevoscerts privado\n",
    "echo '01' > serial\n",
    "openssl req -x509 -newkey rsa:2048 -days 360 -out ac1cert.pem -outform PEM -config ./openssl_AC1.cnf\n",
    "# pem passphrase: pene\n",
    "\n",
    "openssl x509 -in ac1cert.pem -text -noout"
   ]
  },
  {
   "attachments": {},
   "cell_type": "markdown",
   "id": "01657cb0",
   "metadata": {},
   "source": [
    "You should get something like this:\n",
    "```\n",
    "Certificate:\n",
    "    Data:\n",
    "        Version: 3 (0x2)\n",
    "        Serial Number:\n",
    "            22:82:41:ef:ae:4a:bd:90:2e:f4:2f:e9:0a:13:1b:a9:88:f7:c7:03\n",
    "        Signature Algorithm: sha256WithRSAEncryption\n",
    "        Issuer: C = ES, ST = MADRID, O = UC3M, OU = INF, CN = AC1, emailAddress = AC1@CRIPTO.INF.UC3M.ES\n",
    "        Validity\n",
    "            Not Before: Nov 17 16:42:43 2022 GMT\n",
    "            Not After : Nov 12 16:42:43 2023 GMT\n",
    "        Subject: C = ES, ST = MADRID, O = UC3M, OU = INF, CN = AC1, emailAddress = AC1@CRIPTO.INF.UC3M.ES\n",
    "        Subject Public Key Info:\n",
    "            Public Key Algorithm: rsaEncryption\n",
    "                RSA Public-Key: (2048 bit)\n",
    "                Modulus:\n",
    "                    00:d6:16:6c:a1:c3:cd:2e:fd:07:4e:1a:76:5e:2b:\n",
    "                    df:dc:de:2c:f8:f8:9f:37:39:d1:cf:58:06:1a:33:\n",
    "                    99:92:44:8a:a8:60:b4:52:18:3d:8e:e5:41:e6:06:\n",
    "                    1a:08:42:fb:98:27:62:03:3e:29:24:f6:fc:7d:fa:\n",
    "                    02:22:bf:d3:16:48:34:1f:51:7d:14:22:9e:7a:bd:\n",
    "                    d6:6c:4b:be:b2:ee:5a:9c:1a:7f:75:12:cd:a2:64:\n",
    "                    aa:64:62:f1:23:6d:4e:07:32:d5:f9:01:42:92:1c:\n",
    "                    18:fa:13:5b:77:fa:f7:63:17:c4:44:12:ab:59:9b:\n",
    "                    0e:1c:0d:a8:e2:fd:0c:d0:16:a4:8f:40:ce:19:71:\n",
    "                    65:91:54:0f:6a:6c:ab:ee:4f:81:81:e8:3d:85:ec:\n",
    "                    97:e0:62:74:81:e1:64:ee:fb:ba:57:7e:8a:34:d7:\n",
    "                    ab:d2:23:bf:a8:05:66:96:a2:dd:31:89:6d:d3:48:\n",
    "                    56:a8:00:d4:da:1e:8d:0d:fb:bf:99:9c:d8:f9:82:\n",
    "                    03:11:88:6f:7e:39:bc:cd:76:84:f6:22:68:1c:b6:\n",
    "                    c1:a9:ec:d3:61:33:af:42:7a:75:61:d3:5a:7e:cf:\n",
    "                    b8:c0:1f:93:cb:71:ec:a1:3f:1a:6e:9d:3a:66:d0:\n",
    "                    cb:ec:be:5a:ea:78:33:79:8d:98:7e:97:98:f0:2c:\n",
    "                    9e:8f\n",
    "                Exponent: 65537 (0x10001)\n",
    "        X509v3 extensions:\n",
    "            X509v3 Subject Key Identifier: \n",
    "                64:7A:95:87:16:55:6B:89:EC:D1:6D:00:BC:6C:3D:3F:5D:EC:37:2D\n",
    "            X509v3 Authority Key Identifier: \n",
    "                keyid:64:7A:95:87:16:55:6B:89:EC:D1:6D:00:BC:6C:3D:3F:5D:EC:37:2D\n",
    "                DirName:/C=ES/ST=MADRID/O=UC3M/OU=INF/CN=AC1/emailAddress=AC1@CRIPTO.INF.UC3M.ES\n",
    "                serial:22:82:41:EF:AE:4A:BD:90:2E:F4:2F:E9:0A:13:1B:A9:88:F7:C7:03\n",
    "\n",
    "            X509v3 Basic Constraints: \n",
    "                CA:TRUE\n",
    "            X509v3 Key Usage: \n",
    "                Certificate Sign, CRL Sign\n",
    "            Netscape Cert Type: \n",
    "                SSL CA, S/MIME CA\n",
    "    Signature Algorithm: sha256WithRSAEncryption\n",
    "         6a:8e:c6:d2:bc:79:1c:14:ad:82:ef:27:ca:a6:30:22:a2:b3:\n",
    "         4c:ca:49:a9:5d:a7:cb:9b:03:ef:e4:60:ee:36:ac:15:69:37:\n",
    "         46:c4:c2:b2:69:a5:a2:d8:e0:2c:18:df:fc:26:5c:ed:25:53:\n",
    "         1f:4f:43:40:94:ed:59:45:14:3b:c0:76:6b:ba:4b:dc:5a:74:\n",
    "         b8:7f:34:0d:7c:aa:d3:01:77:28:91:23:24:2a:c4:a9:dc:cf:\n",
    "         73:d5:4b:e9:49:9a:71:a0:b7:c8:09:04:db:92:e4:10:2f:44:\n",
    "         7b:7e:0e:08:2a:10:43:d6:6c:d9:27:58:8d:ea:c2:03:d8:a8:\n",
    "         65:d5:08:b5:8b:be:80:c5:81:8c:5f:14:99:81:a9:60:32:08:\n",
    "         2d:87:7b:af:45:4c:c9:dd:7a:c1:86:4e:6c:de:23:0c:2c:77:\n",
    "         68:e9:39:a0:d6:ba:62:96:b2:b6:01:de:b4:5d:15:5f:72:c8:\n",
    "         17:a8:c3:4e:4c:8a:a2:03:5c:d2:e6:c5:20:d8:04:9f:07:bb:\n",
    "         3c:28:e3:4c:de:3e:66:80:3d:5b:aa:47:a2:00:50:3b:16:8c:\n",
    "         52:50:f4:93:92:1b:77:4f:dd:ea:d5:8c:dd:48:e8:dd:17:08:\n",
    "         ca:f4:62:4f:3a:50:23:b6:74:f3:4d:82:c9:9e:79:f4:15:5f:\n",
    "         ef:e9:84:fc\n",
    "```"
   ]
  },
  {
   "cell_type": "markdown",
   "id": "60c14afe-2ddd-47b7-b0e8-cf60c219d6ca",
   "metadata": {},
   "source": [
    "# 2. Creating the end user's keys and the Certificate Signing Request (CSR)"
   ]
  },
  {
   "attachments": {},
   "cell_type": "markdown",
   "id": "6c62c278-288d-4050-a1f9-d0cc7463708e",
   "metadata": {},
   "source": [
    "Before coding anything in Python, prepare a folder for the end user entity (here named as A). \n",
    "\n",
    "Go back to the PKI folder and create a folder for A. "
   ]
  },
  {
   "cell_type": "code",
   "execution_count": null,
   "id": "c872ef84-2239-4522-ac61-4434882cce8f",
   "metadata": {
    "vscode": {
     "languageId": "shellscript"
    }
   },
   "outputs": [],
   "source": [
    "cd ..\n",
    "mkdir A"
   ]
  },
  {
   "attachments": {},
   "cell_type": "markdown",
   "id": "53ee875a-a599-4f1f-ac7e-8283efebb387",
   "metadata": {},
   "source": [
    "Now write code in the next cell to create an RSA private key for the end user. Serialize and save the private key in a file <code>PKI/A/Akey.pem</code>.  \n",
    "\n",
    "NOTE DOWN THE PASSWORD FOR THE PRIVATE KEY if you think that you may forget it (if you do not remember it, you'll have to repeat the process AGAIN if you need to use the private key)."
   ]
  },
  {
   "cell_type": "code",
   "execution_count": 4,
   "id": "0ef72ed2-49d8-4693-baab-5be0e14daaca",
   "metadata": {},
   "outputs": [],
   "source": [
    "KEY_SIZE = 2048  # bits\n",
    "PUBLIC_EXPONENT = 65537\n",
    "PASSWORD = b\"pene\"\n",
    "\n",
    "priv_key = rsa.generate_private_key(PUBLIC_EXPONENT, KEY_SIZE)\n",
    "\n",
    "encoding = serialization.Encoding.PEM\n",
    "format = serialization.PrivateFormat.TraditionalOpenSSL\n",
    "encryption_algorithm = serialization.BestAvailableEncryption(PASSWORD)\n",
    "\n",
    "pem_priv_key = priv_key.private_bytes(encoding, format, encryption_algorithm)\n",
    "\n",
    "with open(\"PKI/A/Akey.pem\", 'wb') as pem_out: \n",
    "    pem_out.write(pem_priv_key)"
   ]
  },
  {
   "attachments": {},
   "cell_type": "markdown",
   "id": "cdfd7ce2-2094-4030-af76-74f0094caf4a",
   "metadata": {},
   "source": [
    "Now write code to create a Certificate Signing Request (CSR) for entity A. Follow the [tutorial provided](https://cryptography.io/en/latest/x509/tutorial/#creating-a-certificate-signing-request-csr) to create the CSR (remember that you should  already have created the private key). \n",
    "\n",
    "Make sure you change the COMMON NAME so it contains the NIA of the students working collaboratively in this lab (or just yours if you are working by yourself).\n",
    "\n",
    "When you follow the tutorial, notice that instead of requesting a certificate for a web server, you’ll request an end user certificate, so you’ll have to:\n",
    "- use a common name that is not a domain name (not <code>u“mysite.com”</code> )\n",
    "- do not add the <code>DNSName</code> extension\n",
    "\n",
    "Save the CSR in a file <code>PKI/A/Acsr.pem</code>."
   ]
  },
  {
   "cell_type": "code",
   "execution_count": 6,
   "id": "72f36b53-b0d8-462b-9e03-c9e3510f8550",
   "metadata": {},
   "outputs": [],
   "source": [
    "csr = x509.CertificateSigningRequestBuilder().subject_name(x509.Name([\n",
    "    # Provide various details about who we are.\n",
    "    x509.NameAttribute(NameOID.COUNTRY_NAME, u\"ES\"),\n",
    "    x509.NameAttribute(NameOID.STATE_OR_PROVINCE_NAME, u\"Madrid\"),\n",
    "    x509.NameAttribute(NameOID.LOCALITY_NAME, u\"Alcorcón\"),\n",
    "    x509.NameAttribute(NameOID.ORGANIZATION_NAME, u\"UC3M\"),\n",
    "    x509.NameAttribute(NameOID.COMMON_NAME, u\"Acsr\"),\n",
    "])).sign(load_pem_private_key(pem_priv_key, PASSWORD), hashes.SHA256())  # Sign the CSR with our private key\n",
    "\n",
    "# Write our CSR out to disk.\n",
    "with open(\"PKI/A/Acsr.pem\", \"wb\") as f:\n",
    "    f.write(csr.public_bytes(serialization.Encoding.PEM))"
   ]
  },
  {
   "attachments": {},
   "cell_type": "markdown",
   "id": "a0d27829-6cf8-4cec-a072-07fd548e1220",
   "metadata": {},
   "source": [
    "Now, using the terminal, go to A's folder and copy A's CSR in the folder <code>solicitudes</code> of AC1. \n",
    "\n",
    "Use command <code>req</code> to see the contents of the CSR."
   ]
  },
  {
   "cell_type": "code",
   "execution_count": null,
   "id": "3b14f544-6e63-4ca4-8827-274e09f34377",
   "metadata": {
    "vscode": {
     "languageId": "shellscript"
    }
   },
   "outputs": [],
   "source": [
    "cd A\n",
    "cp ./Acsr.pem ../AC1/solicitudes/\n",
    "\n",
    "openssl req -in ../AC1/solicitudes/Acsr.pem -text -noout"
   ]
  },
  {
   "attachments": {},
   "cell_type": "markdown",
   "id": "1b4cfac0",
   "metadata": {},
   "source": [
    "Here you can see an output similar to the one you should get:\n",
    "```\n",
    "Certificate Request:\n",
    "    Data:\n",
    "        Version: 1 (0x0)\n",
    "        Subject: C = ES, ST = MADRID, L = LEGANES, O = UC3M, CN = A_NAME\n",
    "        Subject Public Key Info:\n",
    "            Public Key Algorithm: rsaEncryption\n",
    "                RSA Public-Key: (2048 bit)\n",
    "                Modulus:\n",
    "                    00:e2:8f:41:35:2c:64:ee:76:8b:5b:c5:a3:d5:7f:\n",
    "                    d2:a0:01:b1:93:e3:59:7d:0b:4a:0a:2c:b8:56:c5:\n",
    "                    b0:0e:98:ec:e8:c6:d5:51:bd:e2:a8:be:c0:a9:1c:\n",
    "                    dc:00:fb:97:0b:ad:20:bb:c7:e7:48:10:c9:70:17:\n",
    "                    5d:88:f1:87:bb:36:dd:65:78:4f:9f:04:35:f7:82:\n",
    "                    25:a4:4e:63:8f:7a:c0:69:9d:6d:39:47:94:59:cb:\n",
    "                    2c:72:f1:53:dd:a6:fb:b0:37:c3:7a:ef:60:c9:96:\n",
    "                    f6:ea:45:71:bb:9c:73:fe:4f:3e:14:5f:a2:cd:d1:\n",
    "                    d2:b4:f2:5e:7b:f1:0d:ba:72:93:44:75:67:af:18:\n",
    "                    e9:bc:1f:f0:a2:92:62:4f:8a:a1:7b:83:2f:9f:56:\n",
    "                    8d:ae:6a:28:20:8d:a3:83:e7:68:b8:9e:cf:98:e5:\n",
    "                    4a:43:d0:57:db:73:29:4b:31:7a:af:4b:a2:a8:6b:\n",
    "                    fa:fe:98:d8:37:03:4c:b2:4a:f4:88:3d:06:f1:ab:\n",
    "                    b9:43:46:10:41:a1:b0:70:7d:e8:c0:ce:87:24:bf:\n",
    "                    2a:bf:11:69:d0:e0:db:02:19:d5:b5:b1:ea:70:a0:\n",
    "                    f9:26:6e:aa:fd:3e:7a:8d:5e:d4:28:e3:cf:48:00:\n",
    "                    10:c3:a4:41:c4:96:e4:11:bc:0b:b8:cb:b5:db:61:\n",
    "                    30:d7\n",
    "                Exponent: 65537 (0x10001)\n",
    "        Attributes:\n",
    "            a0:00\n",
    "    Signature Algorithm: sha256WithRSAEncryption\n",
    "         74:ec:62:3d:68:b2:b8:80:63:ac:a8:0f:67:ca:9b:58:75:87:\n",
    "         ce:cd:43:80:4c:fa:b3:0e:72:80:a7:68:99:96:f9:8e:61:cf:\n",
    "         14:e3:bc:97:50:e2:0d:6c:3c:2c:7e:26:93:07:2a:e8:1a:0f:\n",
    "         f3:4f:61:79:54:f3:4c:91:11:5f:58:f8:eb:0c:89:ff:d6:32:\n",
    "         f0:a7:a2:a7:5d:b6:94:ef:37:c1:3f:fe:4e:4c:dd:9c:59:ae:\n",
    "         7d:18:b5:3e:fc:ed:f7:e5:cd:9c:96:ea:d5:e9:d8:7a:11:2d:\n",
    "         a7:6b:6c:bb:87:14:9f:54:98:5c:08:0a:96:2e:ae:fb:39:df:\n",
    "         7c:58:da:c1:58:00:e4:89:53:d3:b0:08:46:ae:ed:39:63:54:\n",
    "         f6:f6:8d:f4:23:c3:92:62:7f:61:b7:06:c2:c0:36:d0:3f:ca:\n",
    "         50:5c:36:60:da:bc:f0:59:14:03:84:2a:e2:42:02:66:6e:03:\n",
    "         c2:8d:a5:22:d7:96:2d:3f:10:2e:17:01:c5:bb:d5:9c:52:35:\n",
    "         c9:11:f9:bc:fe:7c:71:16:95:20:19:7d:ab:f2:ca:25:0d:3c:\n",
    "         f2:4f:dc:e1:8b:d4:e6:5c:c9:e5:ee:a9:6b:13:a9:7b:b6:7c:\n",
    "         71:8f:c7:f8:86:69:d9:63:94:21:c7:26:56:0c:59:e2:cb:8c:\n",
    "         f5:69:2b:b4\n",
    "```"
   ]
  },
  {
   "cell_type": "markdown",
   "id": "6f72992d-37ae-4d50-9391-cf561a200ca4",
   "metadata": {},
   "source": [
    "# 3. Issuing the end user's certificate"
   ]
  },
  {
   "attachments": {},
   "cell_type": "markdown",
   "id": "8b0f87ab-8103-43c3-a352-e0e8d4c49ab1",
   "metadata": {},
   "source": [
    "Now go to the AC1 folder and you are going to review A's CSR and then, if everything is OK, you'll issue A's certificate. Notice that requested the pass phrase is the one protecting AC1's private key. "
   ]
  },
  {
   "cell_type": "code",
   "execution_count": null,
   "id": "be2f3598-ac83-4f23-8927-c27f93162b76",
   "metadata": {
    "vscode": {
     "languageId": "shellscript"
    }
   },
   "outputs": [],
   "source": [
    "cd ../AC1\n",
    "\n",
    "touch index.txt  # database file\n",
    "\n",
    "openssl req -in ./solicitudes/Acsr.pem -verify -text -noout -config openssl_AC1.cnf\n",
    "openssl ca -in ./solicitudes/Acsr.pem -extensions usr_cert -notext -config openssl_AC1.cnf"
   ]
  },
  {
   "attachments": {},
   "cell_type": "markdown",
   "id": "efcc4d02",
   "metadata": {},
   "source": [
    "You should get something like this:\n",
    "```\n",
    "Using configuration from openssl_AC1.cnf\n",
    "Enter pass phrase for .//privado/ca1key.pem:\n",
    "Check that the request matches the signature\n",
    "Signature ok\n",
    "Certificate Details:\n",
    "        Serial Number: 1 (0x1)\n",
    "        Validity\n",
    "            Not Before: Jan 20 09:57:20 2023 GMT\n",
    "            Not After : Jan 20 09:57:20 2024 GMT\n",
    "        Subject:\n",
    "            countryName               = ES\n",
    "            stateOrProvinceName       = Madrid\n",
    "            organizationName          = UC3M\n",
    "            commonName                = Acsr\n",
    "        X509v3 extensions:\n",
    "            X509v3 Basic Constraints:\n",
    "                CA:FALSE\n",
    "            Netscape Comment:\n",
    "                OpenSSL Generated Certificate\n",
    "            X509v3 Subject Key Identifier:\n",
    "                A4:D4:AA:1B:12:9F:EC:63:DE:C9:7F:76:53:D4:CF:5B:CE:D6:1A:AD\n",
    "            X509v3 Authority Key Identifier:\n",
    "                keyid:07:04:5B:7D:D7:A9:A2:B3:47:D1:34:C1:BB:EE:59:5D:00:41:7F:70\n",
    "                DirName:/C=ES/ST=MADRID/O=UC3M/OU=INF/CN=AC1/emailAddress=AC1@CRIPTO.INF.UC3M.ES\n",
    "                serial:3F:A5:D8:01:77:60:4E:45:C5:64:64:9C:DF:0B:79:E3:DB:80:9F:72\n",
    "\n",
    "Certificate is to be certified until Jan 20 09:57:20 2024 GMT (365 days)\n",
    "Sign the certificate? [y/n]:y\n",
    "\n",
    "\n",
    "1 out of 1 certificate requests certified, commit? [y/n]y\n",
    "Write out database with 1 new entries\n",
    "-----BEGIN CERTIFICATE-----\n",
    "MIIENTCCAx2gAwIBAgIBATANBgkqhkiG9w0BAQsFADBwMQswCQYDVQQGEwJFUzEP\n",
    "MA0GA1UECBMGTUFEUklEMQ0wCwYDVQQKEwRVQzNNMQwwCgYDVQQLEwNJTkYxDDAK\n",
    "BgNVBAMTA0FDMTElMCMGCSqGSIb3DQEJARYWQUMxQENSSVBUTy5JTkYuVUMzTS5F\n",
    "UzAeFw0yMzAxMjAwOTU3MjBaFw0yNDAxMjAwOTU3MjBaMDwxCzAJBgNVBAYTAkVT\n",
    "MQ8wDQYDVQQIDAZNYWRyaWQxDTALBgNVBAoMBFVDM00xDTALBgNVBAMMBEFjc3Iw\n",
    "ggEiMA0GCSqGSIb3DQEBAQUAA4IBDwAwggEKAoIBAQCbqweBIwh824HCFUOBd/Jd\n",
    "uk9DP+OR4pRZMyA312mKTgUdWfmjPWgWV9X7OJHSPHF6iScG7UsZSS40BKzL/OEg\n",
    "vCQGNqMfySfh67/jRPEpV78bqkGkLIURQnuTvDnuvj9E0QOFBxdJ3jJ5gI0riND4\n",
    "NGob4FdUBmAYuo+KrB7c9O+BzjVehc43yeSjf3H55d/aC56g+lk4qKcg4mi52HUf\n",
    "JiMPIxGq51UGCQ+bJstkCXIzW419zHiWjCaLgDYMiF3ZVLjJ6UNb6il52vYo31IA\n",
    "CffFLZLZM1G/a4Lq3+gM4lcYNK9eNKxtQy4lU7DSFIucKmz5u8k9vdqL90xE+uz/\n",
    "AgMBAAGjggEMMIIBCDAJBgNVHRMEAjAAMCwGCWCGSAGG+EIBDQQfFh1PcGVuU1NM\n",
    "IEdlbmVyYXRlZCBDZXJ0aWZpY2F0ZTAdBgNVHQ4EFgQUpNSqGxKf7GPeyX92U9TP\n",
    "W87WGq0wga0GA1UdIwSBpTCBooAUBwRbfdeporNH0TTBu+5ZXQBBf3ChdKRyMHAx\n",
    "CzAJBgNVBAYTAkVTMQ8wDQYDVQQIEwZNQURSSUQxDTALBgNVBAoTBFVDM00xDDAK\n",
    "BgNVBAsTA0lORjEMMAoGA1UEAxMDQUMxMSUwIwYJKoZIhvcNAQkBFhZBQzFAQ1JJ\n",
    "UFRPLklORi5VQzNNLkVTghQ/pdgBd2BORcVkZJzfC3nj24CfcjANBgkqhkiG9w0B\n",
    "AQsFAAOCAQEADuT5M163xSrKDcZoOXlrNIP7ItXwRWBO4x13efDqKml5VCW/OE+g\n",
    "an1F3IVdKzk/eY/ZcnFpm6oix6Q8AqS8eFTwnS9DqOyNLkdiv7qrBr+ke557dKch\n",
    "tfUtacmh8sIRePpvqEiqL2k47/qFIM9gIJuGHYeYJW6HJybq6MlB7tXNBaahw9Xy\n",
    "EC0U36c5HWBGV2cZEoO40n+ud/vNX2/Mc8DTgL7jl80D6qSa5JbLnVX1r9NQflgr\n",
    "5YenEtkgf7xwTAceSb+BW0gsL1OaLtaj84F8n1NUQ7pJEdaUPw5y+3GEDrvOGUGQ\n",
    "887aUOHtQug4kVHXb0fPEgs77DuC6XdNqw==\n",
    "-----END CERTIFICATE-----\n",
    "Data Base Updated\n",
    "```"
   ]
  },
  {
   "attachments": {},
   "cell_type": "markdown",
   "id": "731cc15c-2282-4728-a7ef-ef0d610a28cf",
   "metadata": {},
   "source": [
    "Finally, print the contents of the issued certificate and copy it --the file <code>nuevoscerts/01.pem</code> (or named with the corresponding serial number that you have used for A's certificate)-- to A's folder as <code>Acert.pem</code>."
   ]
  },
  {
   "cell_type": "code",
   "execution_count": null,
   "id": "4ddc36b3-1c73-48b7-ab78-366830ba8b60",
   "metadata": {
    "vscode": {
     "languageId": "shellscript"
    }
   },
   "outputs": [],
   "source": [
    "openssl x509 -in ./nuevoscerts/01.pem -text -noout\n",
    "\n",
    "cp ./nuevoscerts/01.pem ../A/Acert.pem"
   ]
  },
  {
   "attachments": {},
   "cell_type": "markdown",
   "id": "ef03d2d5",
   "metadata": {},
   "source": [
    "You should get something like this:\n",
    "```\n",
    "Certificate:\n",
    "    Data:\n",
    "        Version: 3 (0x2)\n",
    "        Serial Number: 1 (0x1)\n",
    "        Signature Algorithm: sha256WithRSAEncryption\n",
    "        Issuer: C = ES, ST = MADRID, O = UC3M, OU = INF, CN = AC1, emailAddress = AC1@CRIPTO.INF.UC3M.ES\n",
    "        Validity\n",
    "            Not Before: Nov 17 17:28:14 2022 GMT\n",
    "            Not After : Nov 17 17:28:14 2023 GMT\n",
    "        Subject: C = ES, ST = MADRID, O = UC3M, CN = A_NAME\n",
    "        Subject Public Key Info:\n",
    "            Public Key Algorithm: rsaEncryption\n",
    "                RSA Public-Key: (2048 bit)\n",
    "                Modulus:\n",
    "                    00:e2:8f:41:35:2c:64:ee:76:8b:5b:c5:a3:d5:7f:\n",
    "                    d2:a0:01:b1:93:e3:59:7d:0b:4a:0a:2c:b8:56:c5:\n",
    "                    b0:0e:98:ec:e8:c6:d5:51:bd:e2:a8:be:c0:a9:1c:\n",
    "                    dc:00:fb:97:0b:ad:20:bb:c7:e7:48:10:c9:70:17:\n",
    "                    5d:88:f1:87:bb:36:dd:65:78:4f:9f:04:35:f7:82:\n",
    "                    25:a4:4e:63:8f:7a:c0:69:9d:6d:39:47:94:59:cb:\n",
    "                    2c:72:f1:53:dd:a6:fb:b0:37:c3:7a:ef:60:c9:96:\n",
    "                    f6:ea:45:71:bb:9c:73:fe:4f:3e:14:5f:a2:cd:d1:\n",
    "                    d2:b4:f2:5e:7b:f1:0d:ba:72:93:44:75:67:af:18:\n",
    "                    e9:bc:1f:f0:a2:92:62:4f:8a:a1:7b:83:2f:9f:56:\n",
    "                    8d:ae:6a:28:20:8d:a3:83:e7:68:b8:9e:cf:98:e5:\n",
    "                    4a:43:d0:57:db:73:29:4b:31:7a:af:4b:a2:a8:6b:\n",
    "                    fa:fe:98:d8:37:03:4c:b2:4a:f4:88:3d:06:f1:ab:\n",
    "                    b9:43:46:10:41:a1:b0:70:7d:e8:c0:ce:87:24:bf:\n",
    "                    2a:bf:11:69:d0:e0:db:02:19:d5:b5:b1:ea:70:a0:\n",
    "                    f9:26:6e:aa:fd:3e:7a:8d:5e:d4:28:e3:cf:48:00:\n",
    "                    10:c3:a4:41:c4:96:e4:11:bc:0b:b8:cb:b5:db:61:\n",
    "                    30:d7\n",
    "                Exponent: 65537 (0x10001)\n",
    "        X509v3 extensions:\n",
    "            X509v3 Basic Constraints: \n",
    "                CA:FALSE\n",
    "            Netscape Comment: \n",
    "                OpenSSL Generated Certificate\n",
    "            X509v3 Subject Key Identifier: \n",
    "                D4:55:E0:24:DB:2B:2F:F2:4F:FE:A3:C9:52:99:40:DF:95:87:D8:68\n",
    "            X509v3 Authority Key Identifier: \n",
    "                keyid:64:7A:95:87:16:55:6B:89:EC:D1:6D:00:BC:6C:3D:3F:5D:EC:37:2D\n",
    "                DirName:/C=ES/ST=MADRID/O=UC3M/OU=INF/CN=AC1/emailAddress=AC1@CRIPTO.INF.UC3M.ES\n",
    "                serial:22:82:41:EF:AE:4A:BD:90:2E:F4:2F:E9:0A:13:1B:A9:88:F7:C7:03\n",
    "\n",
    "    Signature Algorithm: sha256WithRSAEncryption\n",
    "         b2:b8:70:84:f0:ea:bd:21:cb:32:65:ab:1e:49:64:5b:33:7b:\n",
    "         1f:d5:61:ba:f0:79:ab:20:59:be:c6:38:0f:79:c4:33:18:84:\n",
    "         ec:79:0a:70:54:cd:bb:7b:82:2f:ad:45:48:19:3e:3f:79:d3:\n",
    "         89:44:af:b6:fb:78:4e:1e:85:4c:13:06:02:2c:00:b3:3a:13:\n",
    "         83:dc:0a:1a:de:e0:78:97:91:29:b8:17:22:23:c9:4e:e2:5a:\n",
    "         5c:a4:21:53:49:7f:94:e5:b0:fb:82:c4:d5:83:ef:ff:37:96:\n",
    "         d3:8c:43:19:c8:8b:31:86:76:d7:f9:4a:c7:0f:e6:41:2f:d0:\n",
    "         02:f2:fb:3a:29:ac:a3:2b:b7:e2:08:da:3e:51:ff:be:12:ab:\n",
    "         4a:b8:c8:48:89:4f:62:3f:ee:af:c4:0e:4b:e4:38:5d:1e:57:\n",
    "         34:6b:fb:f7:31:74:28:ff:a0:7a:e2:f7:19:de:e9:5a:64:15:\n",
    "         81:4b:73:47:97:26:9a:14:9c:de:1e:93:43:9a:31:31:54:bd:\n",
    "         ea:c8:10:5e:a7:ff:72:d0:59:16:e0:f7:da:4b:24:f6:64:4b:\n",
    "         73:8e:84:77:f9:cf:a6:52:11:fa:81:ba:88:78:66:52:f9:dc:\n",
    "         cf:d3:d9:f9:76:c2:75:c4:91:e6:f1:f4:6d:7d:99:bb:96:d6:\n",
    "         a6:57:96:f2\n",
    "```"
   ]
  },
  {
   "cell_type": "markdown",
   "id": "d45c2345-b368-4f1a-bd53-1b22f102221f",
   "metadata": {},
   "source": [
    "# 4. Using the end user's certificate"
   ]
  },
  {
   "attachments": {},
   "cell_type": "markdown",
   "id": "2005eae3-7916-4b22-9113-616181547abb",
   "metadata": {},
   "source": [
    "Now, write code to load and unserialize A's certificate. Notice that your are provided with several auxiliary functions to do this (<code>load_pem</code> and <code>unserialize_pemcert</code>). Once you have the certificate object, print the value of some of its attributes (consult [reference provided](https://cryptography.io/en/latest/x509/reference/#x-509-certificate-object)) such as the serial number, the fingerprint, the subject, the validity period...   "
   ]
  },
  {
   "cell_type": "code",
   "execution_count": 20,
   "id": "59dbaecf-ccbc-4445-be06-37dbd05d13a8",
   "metadata": {},
   "outputs": [
    {
     "name": "stdout",
     "output_type": "stream",
     "text": [
      "version: Version.v3\n",
      "serial_number: 1\n",
      "public_key.n: 0x9bab078123087cdb81c215438177f25dba4f433fe391e29459332037d7698a4e051d59f9a33d681657d5fb3891d23c717a892706ed4b19492e3404accbfce120bc240636a31fc927e1ebbfe344f12957bf1baa41a42c8511427b93bc39eebe3f44d10385071749de3279808d2b88d0f8346a1be05754066018ba8f8aac1edcf4ef81ce355e85ce37c9e4a37f71f9e5dfda0b9ea0fa5938a8a720e268b9d8751f26230f2311aae75506090f9b26cb640972335b8d7dcc78968c268b80360c885dd954b8c9e9435bea2979daf628df520009f7c52d92d93351bf6b82eadfe80ce2571834af5e34ac6d432e2553b0d2148b9c2a6cf9bbc93dbdda8bf74c44faecff\n",
      "not_valid_before: 2023-01-20 09:57:20\n",
      "not_valid_after: 2024-01-20 09:57:20\n",
      "issuer: <Name(C=ES,ST=MADRID,O=UC3M,OU=INF,CN=AC1,1.2.840.113549.1.9.1=AC1@CRIPTO.INF.UC3M.ES)>\n",
      "signature_hash_algorithm: sha256\n",
      "signature: 0ee4f9335eb7c52aca0dc66839796b3483fb22d5f045604ee31d7779f0ea2a69795425bf384fa06a7d45dc855d2b393f798fd97271699baa22c7a43c02a4bc7854f09d2f43a8ec8d2e4762bfbaab06bfa47b9e7b74a721b5f52d69c9a1f2c21178fa6fa848aa2f6938effa8520cf60209b861d8798256e872726eae8c941eed5cd05a6a1c3d5f2102d14dfa7391d60465767191283b8d27fae77fbcd5f6fcc73c0d380bee397cd03eaa49ae496cb9d55f5afd3507e582be587a712d9207fbc704c071e49bf815b482c2f539a2ed6a3f3817c9f535443ba4911d6943f0e72fb71840ebbce194190f3ceda50e1ed42e8389151d76f47cf120b3bec3b82e9774dab\n",
      "tbs_certificate_bytes: 3082031da003020102020101300d06092a864886f70d01010b05003070310b3009060355040613024553310f300d060355040813064d4144524944310d300b060355040a13045543334d310c300a060355040b1303494e46310c300a060355040313034143313125302306092a864886f70d01090116164143314043524950544f2e494e462e5543334d2e4553301e170d3233303132303039353732305a170d3234303132303039353732305a303c310b3009060355040613024553310f300d06035504080c064d6164726964310d300b060355040a0c045543334d310d300b06035504030c044163737230820122300d06092a864886f70d01010105000382010f003082010a02820101009bab078123087cdb81c215438177f25dba4f433fe391e29459332037d7698a4e051d59f9a33d681657d5fb3891d23c717a892706ed4b19492e3404accbfce120bc240636a31fc927e1ebbfe344f12957bf1baa41a42c8511427b93bc39eebe3f44d10385071749de3279808d2b88d0f8346a1be05754066018ba8f8aac1edcf4ef81ce355e85ce37c9e4a37f71f9e5dfda0b9ea0fa5938a8a720e268b9d8751f26230f2311aae75506090f9b26cb640972335b8d7dcc78968c268b80360c885dd954b8c9e9435bea2979daf628df520009f7c52d92d93351bf6b82eadfe80ce2571834af5e34ac6d432e2553b0d2148b9c2a6cf9bbc93dbdda8bf74c44faecff0203010001a382010c3082010830090603551d1304023000302c06096086480186f842010d041f161d4f70656e53534c2047656e657261746564204365727469666963617465301d0603551d0e04160414a4d4aa1b129fec63dec97f7653d4cf5bced61aad3081ad0603551d230481a53081a2801407045b7dd7a9a2b347d134c1bbee595d00417f70a174a4723070310b3009060355040613024553310f300d060355040813064d4144524944310d300b060355040a13045543334d310c300a060355040b1303494e46310c300a060355040313034143313125302306092a864886f70d01090116164143314043524950544f2e494e462e5543334d2e455382143fa5d80177604e45c564649cdf0b79e3db809f72\n"
     ]
    }
   ],
   "source": [
    "def unserialize_pemcert(pemlines):\n",
    "    certificate = load_pem_x509_certificate(pemlines)\n",
    "    return certificate\n",
    "\n",
    "def save_pem(pem, filename): \n",
    "    with open(filename, 'wb') as pem_out: \n",
    "        pem_out.write(pem) \n",
    "\n",
    "def load_pem(filename): \n",
    "    with open(filename, 'rb') as pem_in: \n",
    "        pemlines = pem_in.read() \n",
    "        return pemlines\n",
    "\n",
    "pemlines = load_pem(\"./PKI/A/Acert.pem\")\n",
    "\n",
    "Acert = unserialize_pemcert(pemlines)\n",
    "\n",
    "print(\"version:\", Acert.version)\n",
    "print(\"serial_number:\", Acert.serial_number)\n",
    "print(\"public_key.n:\", hex(Acert.public_key().public_numbers().n))\n",
    "print(\"not_valid_before:\", Acert.not_valid_before)\n",
    "print(\"not_valid_after:\", Acert.not_valid_after)\n",
    "print(\"issuer:\", Acert.issuer)\n",
    "print(\"signature_hash_algorithm:\", Acert.signature_hash_algorithm.name)\n",
    "print(\"signature:\", Acert.signature.hex())\n",
    "print(\"tbs_certificate_bytes:\", Acert.tbs_certificate_bytes.hex())"
   ]
  },
  {
   "attachments": {},
   "cell_type": "markdown",
   "id": "63950b1a-c87e-4421-a1fc-957788cefe81",
   "metadata": {},
   "source": [
    "From now on, the public key will be inside the certificate and you can access to it with <code>Acert.public_key()</code>. "
   ]
  },
  {
   "cell_type": "markdown",
   "id": "d2a41a82-18fa-4622-b40e-ba83883e2140",
   "metadata": {
    "tags": []
   },
   "source": [
    "# 5. Encrypting a message for your teacher"
   ]
  },
  {
   "attachments": {},
   "cell_type": "markdown",
   "id": "1d9c7d8c-ae33-410d-b6a7-b724f703f834",
   "metadata": {},
   "source": [
    "Load the cert in <code>files/teachercert.pem</code> and use the public key within it to encrypt a message to your teacher. Use RSA with OAEP-SHA256 padding (parameters <code>mgf = asym_padding.MGF1(algorithm=utils.hashes.SHA256())</code>, <code>algorithm = utils.hashes.SHA256()</code>, and <code>label = None</code>). \n",
    "\n",
    "Once you have the encrypted message, encode it in base64 and save it in a file using `wb` mode (name the file `files/secret_message_from_YOUR-NAME-SURNAME.enc`)."
   ]
  },
  {
   "cell_type": "code",
   "execution_count": 22,
   "id": "149e0da9-b2e4-4fe4-a5a7-2210dd949085",
   "metadata": {},
   "outputs": [],
   "source": [
    "MESSAGE = b\"en el aeropuerto hay avione\"\n",
    "\n",
    "# load public key\n",
    "t_cert = unserialize_pemcert(load_pem(\"files/teachercert.pem\"))\n",
    "t_pub_key = t_cert.public_key()\n",
    "\n",
    "# encrypt\n",
    "padder = asym_padding.OAEP(asym_padding.MGF1(algorithm=utils.hashes.SHA256()), utils.hashes.SHA256(), label=None)\n",
    "ct = t_pub_key.encrypt(MESSAGE, padder)\n",
    "\n",
    "# save file\n",
    "with open(\"files/secret_message_from_LUIS-DANIEL-CASAIS-MEZQUIDA\", \"wb\") as f:\n",
    "    f.write(base64.b64encode(ct))"
   ]
  },
  {
   "cell_type": "markdown",
   "id": "b6f86b67-da2f-4770-9dec-616ca9632cc4",
   "metadata": {},
   "source": [
    "# 6. Signing a PDF file within Acrobat Reader"
   ]
  },
  {
   "attachments": {},
   "cell_type": "markdown",
   "id": "ddd272c5-7c32-4a93-b53b-c04a50d6e8b7",
   "metadata": {},
   "source": [
    "Next, you'll use the <code>OpenSSL</code> tool to export the end user's certificate together with its certification chain (in this case it only contains the certificate of AC1) AND the end user's private key.\n",
    "\n",
    "First, move in the terminal to A's folder, then copy AC1's certificate to A's folder and finally, use command <code>pkcs12</code> to export A's cert, AC1's cert and A's private key into a single file in PKCS12 format. You'll be asked for an 'Export Password'; this password will be used to protect the private key inside the PKCS12 file, so make sure you will be able to recall it afterwards if you do not want to repeat the process. "
   ]
  },
  {
   "cell_type": "code",
   "execution_count": null,
   "id": "28231a8e-c8c9-4041-afee-7929beced132",
   "metadata": {
    "vscode": {
     "languageId": "shellscript"
    }
   },
   "outputs": [],
   "source": [
    "cd ../A\n",
    "cp ../AC1/ac1cert.pem .\n",
    "\n",
    "# password: pene\n",
    "openssl pkcs12 -export -in Acert.pem -inkey Akey.pem -certfile ac1cert.pem -out Acert_with_sk.p12"
   ]
  },
  {
   "attachments": {},
   "cell_type": "markdown",
   "id": "2eeef50f-1be0-4820-8665-b1ae654ef3fb",
   "metadata": {},
   "source": [
    "Now, download the PKCS12 file to a computer with Adobe Reader installed. Download also the provided PDF file in Aula Global and open it within the Adobe Reader program. \n",
    "\n",
    "Search for 'Tools' or 'Herramientas' and look for the tool named 'Certificates' or 'Certificados'. Open it and select then 'Digitally Sign' or 'Firmar digitalmente'. Follow the instructions and provide the required information when requested:\n",
    "- The area where the signature's graphical mark will be placed \n",
    "- The file containing the PKCS12 certificate\n",
    "- The password protecting the private key (previously named 'Export Password') \n",
    "\n",
    "Save the signed PDF file and check the signature you've just generated. Check also that you can see in the certificates associated with the signature the data present in AC1 and A's certificates."
   ]
  },
  {
   "cell_type": "markdown",
   "id": "009a1054-1318-4982-9bcb-c1d5f4e91134",
   "metadata": {},
   "source": [
    "# 7. FNMT-RCM Certification Authority"
   ]
  },
  {
   "attachments": {},
   "cell_type": "markdown",
   "id": "5ea0e81d-fb26-4c8a-9d70-a530fe49f658",
   "metadata": {},
   "source": [
    "The organization Fábrica Nacional de Moneda y Timbre (FNMT) from the Spanish Government issues\n",
    "[private individual certificates](https://www.sede.fnmt.gob.es/en/certificados/persona-fisica). \n",
    "You may request one if you want and satisfy the requirements, although in this lab you are not requested so. \n",
    "In this lab you are requested to have a look at some documentation that a real PKI has to publish (Certification Practices Statement) and also check the AC RAIZ FNMT-RCM certificate (the root certificate) against the one that is embedded in the Firefox browser (it should be installed in the lab’s Windows computer).\n",
    "\n",
    "Access the Certification Practices Statement file in [this URL](https://www.sede.fnmt.gob.es/documents/10445900/10536309/dgpc_english.pdf).\n",
    "Have a look at the index of the file to grasp the type of information that a document of this type should contain. \n",
    "Then, check the information provided from page 14 to 17 related to the FNMT-RCM root certificate. In particular, look for the fingerprint of the certificate. \n",
    "\n",
    "On the other hand, open a Firefox browser or a Chrome browser. Open the Preferences panel in any of the browsers. Look for the Privacy and Security configuration and specifically for the the place where you can check the certificates. Search for the embbeded FNMT-RCM root certificate and view its contents. Look for the fingerprint and check that it is the same that the one specified in the Certification Practices Statement. "
   ]
  },
  {
   "cell_type": "markdown",
   "id": "35048112-31fa-49dd-9247-fc3b883103d5",
   "metadata": {},
   "source": [
    "# 8. Web server's certificates "
   ]
  },
  {
   "attachments": {},
   "cell_type": "markdown",
   "id": "d6d18be1-68b9-4c0b-8b97-bbece19cf1ab",
   "metadata": {},
   "source": [
    "Open the Mozilla Firefox browser or the Chrome web browser and access the web pages listed next. Right-click on the lock icon that\n",
    "you’ll find next to the URL to its left and click on the “Certificate” link to get more information on this\n",
    "web server certificate:\n",
    "- https://www.google.com\n",
    "- https://www.uc3m.es\n",
    "- https://stackoverflow.com/\n",
    "- https://administracion.gob.es/\n",
    "- https://www.wikipedia.org/\n",
    "\n",
    "Find out for each certificate:\n",
    "- the certified common name (and associated DNS names)\n",
    "- the validity period\n",
    "- the type and length of the certified keys\n",
    "- the key usages\n",
    "- which entity has issued each certificate (and how long the certificate chain is) \n",
    "- the type and length of the keys of the issuing authority, and \n",
    "- the validity period of the certificate of the issuing authority."
   ]
  },
  {
   "attachments": {},
   "cell_type": "markdown",
   "id": "4a19c17f-a9cf-4ea8-8549-02ed9d264806",
   "metadata": {},
   "source": [
    "Open a browser and open the following web pages:\n",
    "- https://letsencrypt.org \n",
    "- https://letsencrypt.org/getting-started/\n",
    "- https://letsencrypt.org/how-it-works/\n",
    "\n",
    "Now answer the following questions:  \n",
    "**Q:** Which is the purpose of this organization?  \n",
    "**A:** To provide encryption certificates for websites.  \n",
    "**Q:** Which are the pros of the server public key certificates issued by Let’s encrypt?  \n",
    "**A:** Adds extra security.  "
   ]
  }
 ],
 "metadata": {
  "kernelspec": {
   "display_name": "Python 3",
   "language": "python",
   "name": "python3"
  },
  "language_info": {
   "codemirror_mode": {
    "name": "ipython",
    "version": 3
   },
   "file_extension": ".py",
   "mimetype": "text/x-python",
   "name": "python",
   "nbconvert_exporter": "python",
   "pygments_lexer": "ipython3",
   "version": "3.10.8"
  },
  "vscode": {
   "interpreter": {
    "hash": "d66e01cde6072322fed9d9621623693bd38d21842437dd24de56a92444191d53"
   }
  }
 },
 "nbformat": 4,
 "nbformat_minor": 5
}
