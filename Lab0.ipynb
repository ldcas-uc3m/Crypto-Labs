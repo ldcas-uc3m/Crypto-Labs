{
 "cells": [
  {
   "cell_type": "markdown",
   "id": "f3f47f70-b98c-4630-88a2-e33b71098c60",
   "metadata": {},
   "source": [
    "# Introduction to Python for learning to program with the library cryptography"
   ]
  },
  {
   "cell_type": "markdown",
   "id": "f5d54289",
   "metadata": {},
   "source": [
    "This _beautifull_ notebook belongs to Luis Daniel Casais Mezquida & Javier Moreno."
   ]
  },
  {
   "attachments": {},
   "cell_type": "markdown",
   "id": "adfa59bb-abc9-4f68-96cc-65a4e1843e3f",
   "metadata": {},
   "source": [
    "## Writing markdown\n",
    "\n",
    "Documentation: [Markdown Cheat Sheet](https://www.markdownguide.org/cheat-sheet/)\n",
    "\n",
    "Create a new **Markdown** cell and write something using the Cheat Sheet to help you. Execute the cell to see the result."
   ]
  },
  {
   "attachments": {},
   "cell_type": "markdown",
   "id": "ed35dca1-6904-4c31-af47-789a03cab6f8",
   "metadata": {},
   "source": [
    "## Hello world!\n",
    "\n",
    "Execute the following cell containing the code that prints \"hello world!\""
   ]
  },
  {
   "cell_type": "code",
   "execution_count": null,
   "id": "b5e900a7-ab99-43e6-af72-95da191850b4",
   "metadata": {},
   "outputs": [],
   "source": [
    "print(\"hello world!\")"
   ]
  },
  {
   "cell_type": "markdown",
   "id": "e1b21b02-7ab7-4182-8532-89432e7bc6a9",
   "metadata": {},
   "source": [
    "Create a new **Code** cell and write the code to print some string of your choice "
   ]
  },
  {
   "cell_type": "code",
   "execution_count": null,
   "id": "de6bb906",
   "metadata": {},
   "outputs": [],
   "source": [
    "print(\"En el aeropuerto hay avione\")"
   ]
  },
  {
   "cell_type": "markdown",
   "id": "1e0e4eca-ecc6-4381-9a55-ba6ba8d6ba13",
   "metadata": {},
   "source": [
    "## Comments"
   ]
  },
  {
   "cell_type": "code",
   "execution_count": null,
   "id": "f0b2f6cc-749c-41d6-bdc8-bd358d70e84b",
   "metadata": {},
   "outputs": [],
   "source": [
    "# This is an inline comment\n",
    "\n",
    "print(\"hello world again!\") # This is a code line with a comment\n",
    "\n",
    "# This is a multiline\n",
    "# comment\n",
    "\n",
    "\"\"\"\n",
    "this is not really a comment \n",
    "but Python will read it as a string\n",
    " and pay no attention to it \n",
    "as far as the string is not assigned to a variable\n",
    "\"\"\""
   ]
  },
  {
   "cell_type": "markdown",
   "id": "373ae409",
   "metadata": {},
   "source": [
    "## Data types and variables"
   ]
  },
  {
   "attachments": {},
   "cell_type": "markdown",
   "id": "77f75dd1-aeb9-4634-ad37-77ba1ea91886",
   "metadata": {},
   "source": [
    "### Integers\n",
    "\n",
    "Examples of operations with integers:"
   ]
  },
  {
   "cell_type": "code",
   "execution_count": null,
   "id": "b9b17af9-cb02-4c4c-bb26-23e1970f293e",
   "metadata": {},
   "outputs": [],
   "source": [
    "2 + 3 * 6"
   ]
  },
  {
   "cell_type": "code",
   "execution_count": null,
   "id": "c86d120b-b953-420b-bb3a-adfbd32c0ae8",
   "metadata": {},
   "outputs": [],
   "source": [
    "(2 + 3) * 6"
   ]
  },
  {
   "cell_type": "code",
   "execution_count": null,
   "id": "8c974546-940e-4490-af42-cfb5d79da388",
   "metadata": {
    "tags": []
   },
   "outputs": [],
   "source": [
    "2 ** 8"
   ]
  },
  {
   "cell_type": "code",
   "execution_count": null,
   "id": "d357d506-bd83-4e8d-8ce2-e80669580db1",
   "metadata": {},
   "outputs": [],
   "source": [
    "23/7"
   ]
  },
  {
   "cell_type": "code",
   "execution_count": null,
   "id": "14812d7c-bdf2-4d74-919d-956f1e5d79de",
   "metadata": {},
   "outputs": [],
   "source": [
    "23 // 7"
   ]
  },
  {
   "cell_type": "code",
   "execution_count": null,
   "id": "43c47eb1-d89b-4ccf-a31e-c0f92fe7b001",
   "metadata": {},
   "outputs": [],
   "source": [
    "23 % 7"
   ]
  },
  {
   "cell_type": "code",
   "execution_count": null,
   "id": "25570df1-241c-49ea-9c65-27e22a258bc4",
   "metadata": {},
   "outputs": [],
   "source": [
    "(5 - 1) * ((7 + 1) / (3 - 1))"
   ]
  },
  {
   "attachments": {},
   "cell_type": "markdown",
   "id": "5dc05752-6c00-4379-a388-0f71204503ce",
   "metadata": {},
   "source": [
    "Create a new code cell and write some integer operations. Write some comment explaining the operations."
   ]
  },
  {
   "cell_type": "code",
   "execution_count": null,
   "id": "b490850c",
   "metadata": {},
   "outputs": [],
   "source": [
    "# times I've f*ed ur mum\n",
    "\"\"\"\n",
    "Two times per hour, 8 hours per day, for a year,\n",
    "minus no nut november,\n",
    "taking into account I've only \"finished\" one out of every six times (she's getting old).\n",
    "(also, it's a whole number)\n",
    "\"\"\"\n",
    "(2 * 24 * (365 - 30)) // 6"
   ]
  },
  {
   "attachments": {},
   "cell_type": "markdown",
   "id": "e9e5e494-0dc1-469b-ac78-9e145fe16206",
   "metadata": {},
   "source": [
    "### Strings\n",
    "\n",
    "Let's play with the strings a little bit. \n",
    "\n",
    "Strings can be concatenated (`+`) and replicated (`*`)."
   ]
  },
  {
   "cell_type": "code",
   "execution_count": null,
   "id": "262dfb7e-f56c-497e-9bf8-bc64ef96d946",
   "metadata": {},
   "outputs": [],
   "source": [
    "first_string = 'Hello'\n",
    "second_string = ' '\n",
    "third_string = 'Alex'\n",
    "\n",
    "all_together = first_string + second_string + third_string\n",
    "\n",
    "print(all_together)"
   ]
  },
  {
   "attachments": {},
   "cell_type": "markdown",
   "id": "b347ef4e-2a29-481d-ab46-258dd6db79be",
   "metadata": {},
   "source": [
    "You can access each character in a string."
   ]
  },
  {
   "cell_type": "code",
   "execution_count": null,
   "id": "f25684ac-2c6c-487e-b8f7-6a7f5dda8738",
   "metadata": {},
   "outputs": [],
   "source": [
    "print(first_string[0])"
   ]
  },
  {
   "cell_type": "markdown",
   "id": "f1a98f06-69f1-4646-b54e-1091630bfce1",
   "metadata": {},
   "source": [
    "## print() function"
   ]
  },
  {
   "cell_type": "code",
   "execution_count": null,
   "id": "7eb71d26-76ed-4379-b1bd-1e68080699e3",
   "metadata": {},
   "outputs": [],
   "source": [
    "print('Hello world!', all_together, '\\n\\n', all_together, 'again')"
   ]
  },
  {
   "cell_type": "code",
   "execution_count": null,
   "id": "cc5e9fc2-1160-4bbd-8408-f69ffc8c97f2",
   "metadata": {},
   "outputs": [],
   "source": [
    "print('Hello world!' + all_together + '\\n\\n' + all_together + 'again')"
   ]
  },
  {
   "cell_type": "code",
   "execution_count": null,
   "id": "a1ee52e9-006b-427e-9575-ab41dd788e1c",
   "metadata": {},
   "outputs": [],
   "source": [
    "sentence_with_singlequotationmark = \"Hi, I'd rather be in the park!\"\n",
    "print(sentence_with_singlequotationmark)"
   ]
  },
  {
   "cell_type": "code",
   "execution_count": null,
   "id": "066e23fa-2ff2-4eb4-87d9-f0e474fc092a",
   "metadata": {},
   "outputs": [],
   "source": [
    "sentence_with_doublequotationmark = 'Hi, is \"Rocky\" your name?'\n",
    "print(sentence_with_doublequotationmark)"
   ]
  },
  {
   "attachments": {},
   "cell_type": "markdown",
   "id": "49a186cc-6acd-4769-a5bf-bd3ed7a6bd34",
   "metadata": {
    "tags": []
   },
   "source": [
    "## Other interesting data types and encodings\n",
    "\n",
    "### Bytes\n",
    "\n",
    "Bytes are inmutable literals."
   ]
  },
  {
   "cell_type": "code",
   "execution_count": null,
   "id": "4d2eac68-1a36-4615-872c-757110c416dd",
   "metadata": {},
   "outputs": [],
   "source": [
    "message = 'a secret message'  # a string variable\n",
    "bytes_message = b'a secret message'  # a bytes variable\n",
    "\n",
    "print(\"message =\", message)\n",
    "print(\"bytes_message =\", bytes_message)\n",
    "\n",
    "print(type(message))\n",
    "print(type(bytes_message))"
   ]
  },
  {
   "cell_type": "code",
   "execution_count": null,
   "id": "71c2e44c-f4fd-489b-a33e-f9f1da8d4b4d",
   "metadata": {},
   "outputs": [],
   "source": [
    "bytes(message, 'utf-8')  # from string to bytes - utf-8 encoding"
   ]
  },
  {
   "attachments": {},
   "cell_type": "markdown",
   "id": "b0f4b4e6-a26e-4201-bb9f-da278dacd927",
   "metadata": {},
   "source": [
    "### Bytearrays\n",
    "\n",
    "Bytearrays are the mutable version of bytes."
   ]
  },
  {
   "cell_type": "code",
   "execution_count": null,
   "id": "27367004-5fae-41e0-b723-f0d77fc97856",
   "metadata": {},
   "outputs": [],
   "source": [
    "x = bytearray(b\"Python Bytes\")\n",
    "print(x)\n",
    "print(type(x))"
   ]
  },
  {
   "cell_type": "code",
   "execution_count": null,
   "id": "9c04200c-a403-4421-91f1-7ae10cc3d3e9",
   "metadata": {},
   "outputs": [],
   "source": [
    "y = bytes(x)\n",
    "print(y)"
   ]
  },
  {
   "cell_type": "code",
   "execution_count": null,
   "id": "d4486c61-e27f-4f56-a2fe-08522b32e971",
   "metadata": {},
   "outputs": [],
   "source": [
    "print(x[0])"
   ]
  },
  {
   "cell_type": "code",
   "execution_count": null,
   "id": "daa55208-ecfb-4010-a2ae-4c32465c97aa",
   "metadata": {},
   "outputs": [],
   "source": [
    "x.append(35)\n",
    "\n",
    "print(x)"
   ]
  },
  {
   "cell_type": "code",
   "execution_count": null,
   "id": "7a4e9f25-e34d-4517-b4b5-7c7ceebc8a30",
   "metadata": {},
   "outputs": [],
   "source": [
    "x[14:20] = b' 1234'\n",
    "\n",
    "print(x)"
   ]
  },
  {
   "attachments": {},
   "cell_type": "markdown",
   "id": "910a1989-4f57-4225-af24-b29c639af726",
   "metadata": {},
   "source": [
    "### Hexadecimal encoding\n",
    "\n",
    "Bytes and bytearrays can be encoded in a hexadecimal string."
   ]
  },
  {
   "cell_type": "code",
   "execution_count": null,
   "id": "2ff317b8-cb7f-4818-9996-9d6d0b74cec9",
   "metadata": {},
   "outputs": [],
   "source": [
    "hex_message = bytes_message.hex()\n",
    "print(hex_message)  # string containing character representation of the bytes\n",
    "print(type(hex_message))"
   ]
  },
  {
   "cell_type": "markdown",
   "id": "24f07bd4-c5a6-49bb-a39a-ae38076eba77",
   "metadata": {},
   "source": [
    "And hexadecimal strings can be converted back to bytes"
   ]
  },
  {
   "cell_type": "code",
   "execution_count": null,
   "id": "52761c09-6126-4a06-ac64-4c5564ea89ee",
   "metadata": {},
   "outputs": [],
   "source": [
    "decoded_from_hex_message = bytes.fromhex(hex_message)\n",
    "print(decoded_from_hex_message)\n",
    "print(type(decoded_from_hex_message))"
   ]
  },
  {
   "cell_type": "markdown",
   "id": "21906971-5a07-41c6-ae56-0a3c2c31e20e",
   "metadata": {},
   "source": [
    "Write a new code cell and encode the variable 'key' in hexadecimal. Print the result."
   ]
  },
  {
   "cell_type": "code",
   "execution_count": null,
   "id": "5c2ae4d6",
   "metadata": {},
   "outputs": [],
   "source": [
    "hex_key = key.hex()\n",
    "print(hex_key)"
   ]
  },
  {
   "cell_type": "markdown",
   "id": "a426b32a-5155-4c3a-84f2-4f2a73aef6c3",
   "metadata": {},
   "source": [
    "Now write in another cell code the lines that decode the key in hexadecimal back to a bytes object. Print the result and its type"
   ]
  },
  {
   "attachments": {},
   "cell_type": "markdown",
   "id": "6c85cc7e-4120-4eb2-82b2-1e4aa04e55d2",
   "metadata": {
    "tags": []
   },
   "source": [
    "### Base64 encoding\n",
    "\n",
    "Base64 is a common encoding in computer programming ([Base64 in Wikipedia](https://en.wikipedia.org/wiki/Base64))"
   ]
  },
  {
   "cell_type": "code",
   "execution_count": null,
   "id": "bca92414-45ce-4bdc-adf6-338fec103211",
   "metadata": {},
   "outputs": [],
   "source": [
    "import base64 \n",
    "\n",
    "b64_key = base64.b64encode(key)\n",
    "print(b64_key)\n",
    "print(type(b64_key))"
   ]
  },
  {
   "cell_type": "code",
   "execution_count": null,
   "id": "b2f75dc9-a582-4c8f-8db5-9ee0b43675a3",
   "metadata": {},
   "outputs": [],
   "source": [
    "print(len(key))      # length in bytes\n",
    "print(len(hex_key))  # compute len(key) * 2\n",
    "print(len(b64_key))  # compute len(key) * 8 / 6"
   ]
  },
  {
   "cell_type": "markdown",
   "id": "b1a856b7-4286-41f4-a51b-9eb24d29fc48",
   "metadata": {},
   "source": [
    "We can decode Base64 encoded bytes to simple bytes"
   ]
  },
  {
   "cell_type": "code",
   "execution_count": null,
   "id": "9e3bc232-f426-4d24-83b3-fa5b78a9ce76",
   "metadata": {},
   "outputs": [],
   "source": [
    "decoded_from_b64_key = base64.b64decode(b64_key)\n",
    "print(decoded_from_b64_key)\n",
    "print(type(decoded_from_b64_key))"
   ]
  },
  {
   "cell_type": "markdown",
   "id": "1ac22a58-a6db-4ee4-95c1-0030e4905b59",
   "metadata": {},
   "source": [
    "## Random bytes"
   ]
  },
  {
   "cell_type": "code",
   "execution_count": null,
   "id": "146731ca-5ff4-44c2-8ba5-c2f3c4c3e3fe",
   "metadata": {},
   "outputs": [],
   "source": [
    "import os \n",
    "\n",
    "print(os.urandom(16)) # create and print 16 random bytes"
   ]
  },
  {
   "cell_type": "markdown",
   "id": "ed7ee96d-a0dc-4313-b0d2-2259796d1870",
   "metadata": {},
   "source": [
    "Create a new code cell. Create a variable containing 32 random bytes. Encode the value to hexadecimal and back, and again with base64. Print every encoding and decoding. "
   ]
  },
  {
   "cell_type": "code",
   "execution_count": null,
   "id": "f6642e1e",
   "metadata": {},
   "outputs": [],
   "source": [
    "newKey = os.urandom(32)\n",
    "newHex_key = newKey.hex()\n",
    "print(newHex_key)\n",
    "new64_key = base64.b64encode(newKey)\n",
    "print(new64_key)\n",
    "\n",
    "print(bytes.fromhex(newHex_key))\n",
    "print(base64.b64decode(new64_key))"
   ]
  },
  {
   "attachments": {},
   "cell_type": "markdown",
   "id": "a51f0c00-8f0a-470e-9406-77fa73d9bd36",
   "metadata": {},
   "source": [
    "## Control flow\n",
    "\n",
    "Have a look at [Python Cheat Sheat - Control flow](https://www.pythoncheatsheet.org/cheatsheet/control-flow) and search how `if` and `for` statements work and must be written.  \n",
    "\n",
    "Create a new cell code and write code that:\n",
    "- declares two integer variables and gives them some value\n",
    "- evaluates if the first one is greater than the second one\n",
    "- prints the result in both cases (`if`-`else`)"
   ]
  },
  {
   "cell_type": "code",
   "execution_count": null,
   "id": "f2fe04a3",
   "metadata": {},
   "outputs": [],
   "source": [
    "a = 69\n",
    "b = 420\n",
    "\n",
    "if a > b:\n",
    "    print(\"pene\")\n",
    "else:\n",
    "    print(\"pene2\")"
   ]
  },
  {
   "attachments": {},
   "cell_type": "markdown",
   "id": "bce367f7-f82f-4a35-a8a4-0738989b80b6",
   "metadata": {},
   "source": [
    "Create a new cell code and write code that:\n",
    "- declares a string and gives it some value\n",
    "- prints the value of each character one by one using a `for` statement (use the `range()` function and recall that you can know the length of the string with the `len()` function"
   ]
  },
  {
   "cell_type": "code",
   "execution_count": null,
   "id": "1a681940",
   "metadata": {},
   "outputs": [],
   "source": [
    "caca = \"mucha\"\n",
    "\n",
    "for i in range(len(caca)):\n",
    "    print(caca[i])\n",
    "\n",
    "for i in caca:\n",
    "    print(i)"
   ]
  },
  {
   "attachments": {},
   "cell_type": "markdown",
   "id": "1b6c2c0d-ac7c-4fd3-8803-42cf167ad61e",
   "metadata": {},
   "source": [
    "## Functions\n",
    "\n",
    "Have a look at [Python Cheat Sheet - Functions](https://www.pythoncheatsheet.org/cheatsheet/functions). \n",
    "\n",
    "Create a new cell code and write a function that takes two integer values as parameters and returns their product. Print the result:"
   ]
  },
  {
   "cell_type": "code",
   "execution_count": null,
   "id": "554b01b5",
   "metadata": {},
   "outputs": [],
   "source": [
    "def miCarro(a, b):\n",
    "    return a * b\n",
    "\n",
    "print(miCarro(0, 1))"
   ]
  },
  {
   "attachments": {},
   "cell_type": "markdown",
   "id": "210e157d-60c5-431e-b305-de422432971d",
   "metadata": {},
   "source": [
    "Create a function that takes as parameter a (printable) string and substitutes each character for the next character in UTF-8 code. \n",
    "Tips:\n",
    "- Convert the string into bytes and from there into a bytearray \n",
    "- Modify each byte using a `for` statement (add `1`)"
   ]
  },
  {
   "cell_type": "code",
   "execution_count": null,
   "id": "542e322e",
   "metadata": {},
   "outputs": [],
   "source": [
    "# caesar cipher\n",
    "def caesar(message: str, key: int):\n",
    "    out = bytearray(b\"\")\n",
    "    for i in bytearray(bytes(message, 'utf-8')):\n",
    "        out.append(i + key)\n",
    "\n",
    "    result = out.decode()\n",
    "\n",
    "    return result\n",
    "\n",
    "a = caesar(\"help\", 1)       \n",
    "print(a)"
   ]
  }
 ],
 "metadata": {
  "kernelspec": {
   "display_name": "Python 3",
   "language": "python",
   "name": "python3"
  },
  "language_info": {
   "codemirror_mode": {
    "name": "ipython",
    "version": 3
   },
   "file_extension": ".py",
   "mimetype": "text/x-python",
   "name": "python",
   "nbconvert_exporter": "python",
   "pygments_lexer": "ipython3",
   "version": "3.10.8"
  },
  "vscode": {
   "interpreter": {
    "hash": "d66e01cde6072322fed9d9621623693bd38d21842437dd24de56a92444191d53"
   }
  }
 },
 "nbformat": 4,
 "nbformat_minor": 5
}
