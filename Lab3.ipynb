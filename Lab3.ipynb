{
 "cells": [
  {
   "attachments": {},
   "cell_type": "markdown",
   "id": "39f82091-9254-4b67-84b2-488edc90b964",
   "metadata": {},
   "source": [
    "# Notebook for Lab 3 - Asymmetric Encryption\n",
    "By Luis Daniel Casais Mezquida  \n",
    "Cryptography 22/23  \n",
    "Bachelor's degree in Applied Mathematics and Computing, grp. 121  \n",
    "Universidad Carlos III de Madrid"
   ]
  },
  {
   "cell_type": "markdown",
   "id": "bfc1c0ec-72bd-41f6-b230-83d09e70ebd9",
   "metadata": {},
   "source": [
    "## General goal\n",
    "In this lab you’ll get familiarized with programming hash functions, MAC, key derivation functions,\n",
    "authenticated encryption and signatures using pyca/cryptography library. \n",
    "\n",
    "## Specific goals\n",
    "- Hash with SHA256 and SHA512\n",
    "- MAC with HMAC and CMAC\n",
    "- Key derivation functions with Scrypt and PBKDF2\n",
    "- Authenticated encryption with Fernet and AES-GCM\n",
    "- RSA-PSS signature scheme"
   ]
  },
  {
   "attachments": {},
   "cell_type": "markdown",
   "id": "369a23bf-8a02-450a-98f2-7e8a248b4ada",
   "metadata": {},
   "source": [
    "## Modules\n",
    "Cryptography library documentation can be found [here](https://pypi.org/project/cryptography). You’ll may find useful to have these links as reference:\n",
    "- [Hash functions](https://cryptography.io/en/latest/hazmat/primitives/cryptographic-hashes/)\n",
    "- [MAC](https://cryptography.io/en/latest/hazmat/primitives/mac/)\n",
    "- [Key derivation functions](https://cryptography.io/en/latest/hazmat/primitives/key-derivation-functions/)\n",
    "- [Authenticated encryption with Fernet (Encrypt-then-MAC)](https://cryptography.io/en/latest/fernet/) (also [here](https://github.com/fernet/spec/blob/master/Spec.md))\n",
    "- [RSA signatures](https://cryptography.io/en/latest/hazmat/primitives/asymmetric/rsa/#signing)"
   ]
  },
  {
   "cell_type": "markdown",
   "id": "2fbdb0eb-1eb9-43d0-8068-69910f71ddae",
   "metadata": {},
   "source": [
    "## Lab assignment and assessment\n",
    "You are given one Python script/notebook, that contains the headers of all the functions you should develop at the end of this lab. Next, you’ll be guided through several tasks you’ll have to complete in order to do so.\n",
    "\n",
    "Lab 3 assessment will be performed with a test/quiz/exam at the end of the course (along the other lab assessments)."
   ]
  },
  {
   "cell_type": "markdown",
   "id": "4e584b4f-7a41-457d-9c24-67b483114b9b",
   "metadata": {},
   "source": [
    "# 0. Modules installation and imports"
   ]
  },
  {
   "cell_type": "code",
   "execution_count": 2,
   "id": "98ea78dc-3f4f-48b9-9bd2-d4c86c262b85",
   "metadata": {},
   "outputs": [],
   "source": [
    "import base64, os\n",
    "\n",
    "from cryptography.hazmat.primitives import hashes, hmac, cmac\n",
    "from cryptography.exceptions import InvalidSignature\n",
    "from cryptography.fernet import InvalidToken\n",
    "from cryptography.hazmat.primitives.ciphers import algorithms\n",
    "\n",
    "from cryptography.hazmat.primitives.kdf.pbkdf2 import PBKDF2HMAC\n",
    "from cryptography.hazmat.primitives.kdf.scrypt import Scrypt\n",
    "from cryptography.exceptions import InvalidKey, InvalidTag\n",
    "\n",
    "from cryptography.fernet import Fernet\n",
    "from cryptography.hazmat.primitives.ciphers.aead import AESGCM\n",
    "\n",
    "from cryptography.hazmat.primitives.asymmetric import rsa\n",
    "from cryptography.hazmat.primitives.asymmetric import padding as asym_padding\n",
    "from cryptography.hazmat.primitives.asymmetric import utils\n",
    "\n",
    "from cryptography.hazmat.primitives.serialization import load_pem_private_key, load_pem_public_key\n",
    "from cryptography.hazmat.primitives import serialization"
   ]
  },
  {
   "attachments": {},
   "cell_type": "markdown",
   "id": "02126bc7-a91c-4c08-b934-bb63f086e299",
   "metadata": {
    "tags": []
   },
   "source": [
    "# 1. Message digests (Hash functions)\n",
    "First, you’ll focus on cryptographic hash functions. A cryptographic hash function takes an arbitrary block of data and\n",
    "calculates a fixed-size bit string (a digest), such that different data results (with a high probability) in different digests.\n",
    "\n",
    "Read documentation [here](https://cryptography.io/en/latest/hazmat/primitives/cryptographic-hashes/).\n",
    "\n",
    "Notice that every time you need to compute a digest you need to create a `hash` object (if you do not do this, you’ll get\n",
    "an error)."
   ]
  },
  {
   "attachments": {},
   "cell_type": "markdown",
   "id": "cc777bcd",
   "metadata": {},
   "source": [
    "### Task 1.1 Applying SHA256 hash function\n",
    "\n",
    "Compute the hash of the given message using SHA256 algorithm. Check that you should obtain the following digest or hash value."
   ]
  },
  {
   "cell_type": "code",
   "execution_count": 27,
   "id": "ac493aa1",
   "metadata": {},
   "outputs": [],
   "source": [
    "message = b'very important software that needs its integrity checked'"
   ]
  },
  {
   "cell_type": "code",
   "execution_count": 28,
   "id": "32e2ba32-1285-455a-8073-f6d9fc82a242",
   "metadata": {
    "tags": []
   },
   "outputs": [
    {
     "name": "stdout",
     "output_type": "stream",
     "text": [
      "b'\\xb8\\r\\x9eN\\xa8\\xb6\\x9dp\\xbc\\xb6\\xd0\\xcf\\xb8\\x90;\\x99\\xee\\x96\\xe0\\xda\\xa8\\x0e5\\xa1i\\xfe\\xbe\\x9e\\xb5\\x9c\\x1a\\x8c'\n"
     ]
    }
   ],
   "source": [
    "digest = hashes.Hash(hashes.SHA256())\n",
    "digest.update(message)\n",
    "digest_value_SHA256 = digest.finalize()\n",
    "\n",
    "print(digest_value_SHA256)"
   ]
  },
  {
   "attachments": {},
   "cell_type": "markdown",
   "id": "310c2b3b-e2e7-426d-9e3c-40213c5b00ac",
   "metadata": {
    "tags": []
   },
   "source": [
    "The result should be:\n",
    "```python\n",
    "digest_value_SHA256 = b'\\xb8\\r\\x9eN\\xa8\\xb6\\x9dp\\xbc\\xb6\\xd0\\xcf\\xb8\\x90;\\x99\\xee\\x96\\xe0\\xda\\xa8\\x0e5\\xa1i\\xfe\\xbe\\x9e\\xb5\\x9c\\x1a\\x8c'\n",
    "b64_digest_value_SHA256 = b'uA2eTqi2nXC8ttDPuJA7me6W4NqoDjWhaf6+nrWcGow='\n",
    "```"
   ]
  },
  {
   "attachments": {},
   "cell_type": "markdown",
   "id": "0f641851-db76-4436-9052-433af3298b81",
   "metadata": {
    "tags": []
   },
   "source": [
    "**Q:** Which is the length of the digest?  \n",
    "\n",
    "**A:** 32B (256b)"
   ]
  },
  {
   "cell_type": "code",
   "execution_count": 16,
   "id": "a1f6bc38",
   "metadata": {},
   "outputs": [
    {
     "name": "stdout",
     "output_type": "stream",
     "text": [
      "32\n"
     ]
    }
   ],
   "source": [
    "print(len(digest_value_SHA256))"
   ]
  },
  {
   "attachments": {},
   "cell_type": "markdown",
   "id": "e5ab53eb-e23b-4a4c-893f-ac9ddca8a282",
   "metadata": {
    "tags": []
   },
   "source": [
    "### Task 1.2 Applying SHA512 hash function\n",
    "Repeat again the previous computation with the same message, but in this case, use SHA512 algorithm."
   ]
  },
  {
   "cell_type": "code",
   "execution_count": 25,
   "id": "9c7f934d",
   "metadata": {},
   "outputs": [],
   "source": [
    "message = b'very important software that needs its integrity checked'"
   ]
  },
  {
   "cell_type": "code",
   "execution_count": 26,
   "id": "c8b22c8a-aac4-4e78-8189-1aef925ea7e3",
   "metadata": {
    "tags": []
   },
   "outputs": [
    {
     "name": "stdout",
     "output_type": "stream",
     "text": [
      "b'=\\xbf\\xe6^\\x8c\\xf6\\xfd\\xae;\\x96\\xb8\\xce\\xeb\\n\\xe70\\xe5=\\x1d\\xe2D%\\xa4\\xa6P\\x81\\xae\\xdd\"\\xef\\xb7 6\\x99b\\xc1\\xb4\\xf1_E\\xce\\x08\\xd1\\xdf\\xacvG;\\xfd\\xb7\\x8a\\x89jDM?\\x9ak\\xd7\\xbf\\x0b\\x99x\\xfc'\n"
     ]
    }
   ],
   "source": [
    "digest = hashes.Hash(hashes.SHA512())\n",
    "digest.update(message)\n",
    "digest_value_SHA512 = digest.finalize()\n",
    "\n",
    "print(digest_value_SHA512)"
   ]
  },
  {
   "attachments": {},
   "cell_type": "markdown",
   "id": "3366774a-b23c-48bf-a1eb-92337ae1cb28",
   "metadata": {
    "tags": []
   },
   "source": [
    "The result should be:\n",
    "```python\n",
    "digest_value_SHA512 = b'=\\xbf\\xe6^\\x8c\\xf6\\xfd\\xae;\\x96\\xb8\\xce\\xeb\\n\\xe70\\xe5=\\x1d\\xe2D%\\xa4\\xa6P\\x81\\xae\\xdd\"\\xef\\xb7 6\\x99b\\xc1\\xb4\\xf1_E\\xce\\x08\\xd1\\xdf\\xacvG;\\xfd\\xb7\\x8a\\x89jDM?\\x9ak\\xd7\\xbf\\x0b\\x99x\\xfc'\n",
    "b64_digest_value_SHA512 = b'Pb/mXoz2/a47lrjO6wrnMOU9HeJEJaSmUIGu3SLvtyA2mWLBtPFfRc4I0d+sdkc7/beKiWpETT+aa9e/C5l4/A=='\n",
    "```"
   ]
  },
  {
   "attachments": {},
   "cell_type": "markdown",
   "id": "9d76d59d-c822-4d86-9d6c-90c1ab308b7a",
   "metadata": {},
   "source": [
    "**Q:** Which is the length of the digest?  \n",
    "\n",
    "**A:** 64B (512b)"
   ]
  },
  {
   "cell_type": "code",
   "execution_count": 14,
   "id": "b3a7a42f",
   "metadata": {},
   "outputs": [
    {
     "name": "stdout",
     "output_type": "stream",
     "text": [
      "64\n"
     ]
    }
   ],
   "source": [
    "print(len(digest_value_SHA512))"
   ]
  },
  {
   "attachments": {},
   "cell_type": "markdown",
   "id": "12ffacd4-e0cc-40a4-850c-15725d3b609f",
   "metadata": {},
   "source": [
    "### Task 1.3 Comparing outputs with 1-bit different inputs\n",
    "Check that by changing just one bit of the input, the digest is quite different. Use the following data:"
   ]
  },
  {
   "cell_type": "code",
   "execution_count": 23,
   "id": "9af1feb3",
   "metadata": {},
   "outputs": [],
   "source": [
    "data_to_hash_1 = b'abc123'\n",
    "data_to_hash_2 = b'bbc123'"
   ]
  },
  {
   "cell_type": "code",
   "execution_count": 24,
   "id": "c4282af9-ef58-4dd9-8c11-8314c15a5853",
   "metadata": {},
   "outputs": [
    {
     "name": "stdout",
     "output_type": "stream",
     "text": [
      "data 1: 616263313233\n",
      "data 2: 626263313233\n",
      "hash 1: 6ca13d52ca70c883e0f0bb101e425a89e8624de51db2d2392593af6a84118090\n",
      "hash 2: 8f983655cd9758784a83282091817945bea3fec41caa73068c23a2d68ccf382c\n"
     ]
    }
   ],
   "source": [
    "print(\"data 1:\", data_to_hash_1.hex())\n",
    "print(\"data 2:\", data_to_hash_2.hex())\n",
    "\n",
    "digest = hashes.Hash(hashes.SHA256())\n",
    "digest.update(data_to_hash_1)\n",
    "digest_value_1 = digest.finalize()\n",
    "\n",
    "digest = hashes.Hash(hashes.SHA256())\n",
    "digest.update(data_to_hash_2)\n",
    "digest_value_2 = digest.finalize()\n",
    "\n",
    "print(\"hash 1:\", digest_value_1.hex())\n",
    "print(\"hash 2:\", digest_value_2.hex())"
   ]
  },
  {
   "attachments": {},
   "cell_type": "markdown",
   "id": "755788f0-e2a6-4daf-8cf5-98fbaa56e958",
   "metadata": {},
   "source": [
    "Notice that their binary representation only differs in one bit (you can easily check it by printing their hex value (<code>data_to_hash.hex()</code>). You can also use hexadecimal representation to assess the differences in the outputs."
   ]
  },
  {
   "attachments": {},
   "cell_type": "markdown",
   "id": "61e1e3b9-6e1f-42f6-b1c2-57edda690d0f",
   "metadata": {},
   "source": [
    "# 2. Message Authentication Codes (MAC)\n",
    "\n",
    "Now you’ll generate and verify Message Authentication Codes or MACs.  \n",
    "Read the documentation [here](https://cryptography.io/en/latest/hazmat/primitives/mac/)."
   ]
  },
  {
   "attachments": {},
   "cell_type": "markdown",
   "id": "1d92c2e2-29a1-47b0-ba7e-2d863f069a64",
   "metadata": {
    "tags": []
   },
   "source": [
    "## 2.1 HASH-BASED MESSAGE AUTHENTICATION CODE (HMAC)\n",
    "\n",
    "Read the documentation [here](https://cryptography.io/en/latest/hazmat/primitives/mac/hmac/)."
   ]
  },
  {
   "attachments": {},
   "cell_type": "markdown",
   "id": "3d88e9b3",
   "metadata": {},
   "source": [
    "### Task 2.1.1 Computing an authentication tag with HMAC\n",
    "Use the HMAC algorithm (combined with the hash function SHA256) to compute the authentication tag on the given message and using the given key.\n",
    "\n",
    "Notice that if you want to use a fresh key you may use the following method provided by the library to get the size of\n",
    "the digest (in the case of HMAC it would be wise to use a key of this size): \n",
    "<code>hmac_key = os.urandom(hashes.SHA256.digest_size)</code>"
   ]
  },
  {
   "cell_type": "code",
   "execution_count": 31,
   "id": "636c68d3-22b0-4af7-aec8-45b91474d652",
   "metadata": {
    "tags": []
   },
   "outputs": [],
   "source": [
    "hmac_key = b'$\\x7f0^\\xcd\\xce?5\\xf3\\x08\\xaftq\\xfc\\x92\"D5\\xacQ\\xbbz^P\\xeej\\x15\\x83G\\xbf\\x86\\xd2'\n",
    "b64_hmac_key = b'JH8wXs3OPzXzCK90cfySIkQ1rFG7el5Q7moVg0e/htI='\n",
    "message_to_mac = b'message to mac'"
   ]
  },
  {
   "cell_type": "code",
   "execution_count": 32,
   "id": "8238b0b7",
   "metadata": {},
   "outputs": [
    {
     "name": "stdout",
     "output_type": "stream",
     "text": [
      "b'k~\\x91g=\\x1aL\\x05\\xd10\\x01\\xaat$\\xaf\\x03@\\x1dW\\xc2\\xc1\\x9a\\xe9m\\xe2\\xb6\\r\\xfce-\\x91\\xdc'\n"
     ]
    }
   ],
   "source": [
    "h = hmac.HMAC(hmac_key, hashes.SHA256())\n",
    "h.update(message_to_mac)\n",
    "hmac_auth_tag = h.finalize()\n",
    "\n",
    "print(hmac_auth_tag)"
   ]
  },
  {
   "attachments": {},
   "cell_type": "markdown",
   "id": "ac0087ec-5503-43d2-9467-3a9a73c9e34c",
   "metadata": {},
   "source": [
    "You should obtain the following authentication tag:\n",
    "```python\n",
    "hmac_auth_tag = b'k~\\x91g=\\x1aL\\x05\\xd10\\x01\\xaat$\\xaf\\x03@\\x1dW\\xc2\\xc1\\x9a\\xe9m\\xe2\\xb6\\r\\xfce-\\x91\\xdc'\n",
    "b64_hmac_auth_tag = b'a36RZz0aTAXRMAGqdCSvA0AdV8LBmult4rYN/GUtkdw='\n",
    "```"
   ]
  },
  {
   "attachments": {},
   "cell_type": "markdown",
   "id": "e124a39b-8410-4483-9b8d-d99f502c704e",
   "metadata": {
    "tags": []
   },
   "source": [
    "\n",
    "\n",
    "### Task 2.1.2 Verifying an HMAC authentication tag\n",
    "Now you’ll verify the authentication tag you have generated. We are going to capture the exception that may be raised when verification fails. You can use the following code, where we capture the exception <code>cryptography.exceptions.InvalidSignature</code>."
   ]
  },
  {
   "cell_type": "code",
   "execution_count": 56,
   "id": "13ea4060-44f3-4300-ba89-b48480ceb2d6",
   "metadata": {},
   "outputs": [],
   "source": [
    "def verifyHMACsha256(hmac_key, message_to_mac, hmac_auth_tag):\n",
    "    mac = hmac.HMAC(hmac_key, hashes.SHA256())\n",
    "    try:\n",
    "        mac.update(message_to_mac)\n",
    "        mac.verify(hmac_auth_tag)\n",
    "        print('The HMAC verification has been successful')\n",
    "    except InvalidSignature:\n",
    "        print('The HMAC verification has failed')"
   ]
  },
  {
   "cell_type": "code",
   "execution_count": 57,
   "id": "b5a99cb9",
   "metadata": {},
   "outputs": [
    {
     "name": "stdout",
     "output_type": "stream",
     "text": [
      "The HMAC verification has been successful\n"
     ]
    }
   ],
   "source": [
    "verifyHMACsha256(hmac_key, message_to_mac, hmac_auth_tag)"
   ]
  },
  {
   "attachments": {},
   "cell_type": "markdown",
   "id": "40e91a3d-7c7a-4b0a-aea4-22fdaae128f1",
   "metadata": {},
   "source": [
    "### Task 2.1.3 Failed HMAC verifications\n",
    "Check that verification fails when you modify the message, the authentication tag or both."
   ]
  },
  {
   "cell_type": "code",
   "execution_count": 58,
   "id": "f87faa24-5e54-4166-b00a-1a5acbd471a6",
   "metadata": {},
   "outputs": [
    {
     "name": "stdout",
     "output_type": "stream",
     "text": [
      "The HMAC verification has failed\n",
      "The HMAC verification has failed\n",
      "The HMAC verification has failed\n"
     ]
    }
   ],
   "source": [
    "verifyHMACsha256(hmac_key, message_to_mac + b\"a\", hmac_auth_tag)\n",
    "\n",
    "bad_hmac_auth_tag = b'k~\\x91g=\\x1aL\\x05\\xd10\\x01\\xaat$\\xaf\\x03@\\x1dW\\xc2\\xc1\\x9a\\xe9m\\xe2\\xb6\\r\\xfce-\\x91\\xd0'\n",
    "verifyHMACsha256(hmac_key, message_to_mac, bad_hmac_auth_tag)\n",
    "\n",
    "verifyHMACsha256(hmac_key, message_to_mac + b\"a\", bad_hmac_auth_tag)"
   ]
  },
  {
   "attachments": {},
   "cell_type": "markdown",
   "id": "9a05ed5e-a45d-4762-9a0d-7681fd359cc0",
   "metadata": {},
   "source": [
    "## 2.2 CIPHER-BASED MESSAGE AUTHENTICATION CODE (CMAC)\n",
    "\n",
    "Now you’ll repeat the previous tasks but, in this case, you’ll use the CMAC algorithm.\n",
    "Read the documentation [here](https://cryptography.io/en/latest/hazmat/primitives/mac/cmac/)."
   ]
  },
  {
   "cell_type": "code",
   "execution_count": 42,
   "id": "8ef96e75-22e5-42b3-89cb-97fc3c104dd8",
   "metadata": {},
   "outputs": [],
   "source": [
    "cmac_key = b'\\xf8&=\\x1a$\\xb4\\xfa\\x1a\\xe2\\xed\\xe16.\\xf9\\x8af'\n",
    "b64_cmac_key = b'+CY9GiS0+hri7eE2LvmKZg=='\n",
    "message_to_mac = b'message to mac'"
   ]
  },
  {
   "attachments": {},
   "cell_type": "markdown",
   "id": "8f338a9c",
   "metadata": {},
   "source": [
    "### Task 2.2.1 Computing an authentication tag with CMAC\n",
    "Use the CMAC algorithm (combined with AES-128 block cipher) to compute the authentication tag on the\n",
    "given message and using the given key.\n",
    "\n",
    "Notice that if you want to use a fresh key you may use the following method provided by the library to get the size of the digest (in the case of HMAC it would be wise to use a key of this size) as shown next:"
   ]
  },
  {
   "cell_type": "code",
   "execution_count": 52,
   "id": "0e2d8e39",
   "metadata": {},
   "outputs": [],
   "source": [
    "AES_128_BYTE_KEY_SIZE = algorithms.AES128.key_size\n",
    "cmac_key = b'\\x86\\x16S\\t\\x80\\xf1U\\xd28\\xb1%\\x95\\x8aMO\\xb3'"
   ]
  },
  {
   "cell_type": "code",
   "execution_count": 53,
   "id": "0e9db880",
   "metadata": {},
   "outputs": [
    {
     "name": "stdout",
     "output_type": "stream",
     "text": [
      "b'\\xd9Va\\xe4\\xaa\\x14\\xa1\\x1e:b `\\x18\\xa09E'\n"
     ]
    }
   ],
   "source": [
    "c = cmac.CMAC(algorithms.AES128(cmac_key))\n",
    "c.update(message_to_mac)\n",
    "cmac_auth_tag = c.finalize()\n",
    "\n",
    "print(cmac_auth_tag)"
   ]
  },
  {
   "attachments": {},
   "cell_type": "markdown",
   "id": "257c6bcb-0d10-474a-818b-376c1663ef62",
   "metadata": {},
   "source": [
    "Check that the results are:\n",
    "```python\n",
    "cmac_auth_tag = b'\\xd9Va\\xe4\\xaa\\x14\\xa1\\x1e:b `\\x18\\xa09E'\n",
    "b64_cmac_auth_tag = b'2VZh5KoUoR46YiBgGKA5RQ=='\n",
    "```"
   ]
  },
  {
   "attachments": {},
   "cell_type": "markdown",
   "id": "6bccb7b4-57ab-4930-87ff-c60cbf6feeed",
   "metadata": {},
   "source": [
    "### Task 2.2.2 Comparing HMAC and CMAC\n",
    "Compare the length of the tag obtained with CMAC and with HMAC with the provided parameters and configurations.\n",
    "Justify their values and provide reasons for their differences."
   ]
  },
  {
   "cell_type": "code",
   "execution_count": 54,
   "id": "20cce62b-5e47-4513-a904-e85829046102",
   "metadata": {},
   "outputs": [
    {
     "name": "stdout",
     "output_type": "stream",
     "text": [
      "hmac length: 32B\n",
      "cmac length: 16B\n"
     ]
    }
   ],
   "source": [
    "print(\"hmac length:\", len(hmac_auth_tag), \"\\bB\")\n",
    "print(\"cmac length:\", len(cmac_auth_tag), \"\\bB\")"
   ]
  },
  {
   "attachments": {},
   "cell_type": "markdown",
   "id": "0e4a5eb1",
   "metadata": {},
   "source": [
    "**A:** The length of the MAC is the length of the hash/algorithm key length used."
   ]
  },
  {
   "attachments": {},
   "cell_type": "markdown",
   "id": "9c0dbe8f-71fa-4b80-993d-06c8e01ac281",
   "metadata": {},
   "source": [
    "### Task 2.2.3 Verifying a CMAC authentication tag\n",
    "Verify the authentication tag you have generated. You may have to capture the exception <code>cryptography.exceptions.InvalidSignature</code>."
   ]
  },
  {
   "cell_type": "code",
   "execution_count": 61,
   "id": "2d110e52-c08c-4bce-98dc-fc1549c6550f",
   "metadata": {},
   "outputs": [
    {
     "name": "stdout",
     "output_type": "stream",
     "text": [
      "The CMAC verification has been successful\n"
     ]
    }
   ],
   "source": [
    "def verifyCMACaes128(cmac_key, message_to_mac, cmac_auth_tag):\n",
    "    mac = cmac.CMAC(algorithms.AES128(cmac_key))\n",
    "    try:\n",
    "        mac.update(message_to_mac)\n",
    "        mac.verify(cmac_auth_tag)\n",
    "        print('The CMAC verification has been successful')\n",
    "    except InvalidSignature:\n",
    "        print('The CMAC verification has failed')\n",
    "\n",
    "verifyCMACaes128(cmac_key, message_to_mac, cmac_auth_tag)"
   ]
  },
  {
   "attachments": {},
   "cell_type": "markdown",
   "id": "a307da94-c7cb-4faa-9c9f-795939004144",
   "metadata": {},
   "source": [
    "### Task 2.2.4 Failed CMAC verifications\n",
    "Check that verification fails when you modify the message, the authentication tag or both."
   ]
  },
  {
   "cell_type": "code",
   "execution_count": 63,
   "id": "2ea25b98-99af-4207-9a57-69eb7dca936f",
   "metadata": {},
   "outputs": [
    {
     "name": "stdout",
     "output_type": "stream",
     "text": [
      "The CMAC verification has failed\n",
      "The CMAC verification has failed\n",
      "The CMAC verification has failed\n"
     ]
    }
   ],
   "source": [
    "verifyCMACaes128(cmac_key, message_to_mac + b\"a\", cmac_auth_tag)\n",
    "\n",
    "bad_cmac_auth_tag = b'\\xd9Va\\xe4\\xaa\\x14\\xa1\\x1e:b `\\x18\\xa090'\n",
    "verifyCMACaes128(cmac_key, message_to_mac, bad_cmac_auth_tag)\n",
    "\n",
    "verifyCMACaes128(cmac_key, message_to_mac + b\"a\", bad_cmac_auth_tag)"
   ]
  },
  {
   "attachments": {},
   "cell_type": "markdown",
   "id": "f9bce0bb-6874-4439-ad9c-22f4059bc6c0",
   "metadata": {},
   "source": [
    "# 3. Key Derivation Functions (KDF)\n",
    "\n",
    "Key derivation functions derive bytes suitable for cryptographic operations from other data (like passwords) or\n",
    "entropy-rich data sources.\n",
    "\n",
    "Read the documentation [here](https://cryptography.io/en/latest/hazmat/primitives/key-derivation-functions/).\n",
    "\n",
    "Notice that these functions may have two different goals:\n",
    "- **Cryptographic key derivation**: In this case, we seek to enhance the quality of the key.\n",
    "- **Password storage**: In this case, we seek to conceal the real value of the password but at the same time increase the computational effort an adversary should have to do in order to run a brute force attack."
   ]
  },
  {
   "attachments": {},
   "cell_type": "markdown",
   "id": "401b4703-f7bd-4a71-9dd2-3129f918d933",
   "metadata": {},
   "source": [
    "## 3.1 Scrypt (Secure password storage)\n",
    "\n",
    "You’ll first use Scrypt to compute the “hash” of a password (eg, you would store this value in a server’s database,\n",
    "together with the needed additional parameters, to authenticate users by checking their passwords).\n",
    "\n",
    "Read documentation [here](Read the documentation [here](https://cryptography.io/en/latest/hazmat/primitives/key-derivation-functions/#scrypt).\n",
    "\n",
    "Notice that the salt should be randomly generated, but we provide it here so you can replicate the results."
   ]
  },
  {
   "attachments": {},
   "cell_type": "markdown",
   "id": "d7d9f357",
   "metadata": {},
   "source": [
    "### Task 3.1.1 Secure password storage with Scrypt\n",
    "Compute the “hash” of the given password using the following parameters and configurations."
   ]
  },
  {
   "cell_type": "code",
   "execution_count": 69,
   "id": "ff22475e-68b1-498c-a75d-23235b0ffbba",
   "metadata": {},
   "outputs": [],
   "source": [
    "password = b'my great password'\n",
    "salt = b'f?d\\xbc\\xf1\\x94\\xe2<\\xad\\xeb\\x11\\xa8\\xb7q\\xbc\\xeb'\n",
    "b64_salt = b'Zj9kvPGU4jyt6xGot3G86w=='\n",
    "length = 32\n",
    "n = 2**14\n",
    "r = 8\n",
    "p = 1"
   ]
  },
  {
   "cell_type": "code",
   "execution_count": 70,
   "id": "d97e195d",
   "metadata": {},
   "outputs": [
    {
     "name": "stdout",
     "output_type": "stream",
     "text": [
      "b'\\x0e\\xc6M\\xf7In\\x97\\xce\\x87\\x8c\\xce\\x06\\xceo\\xe2\\xeb\\x18\\x02*v\\xa2=c\\xfd\\x14\\xba\\xe0\\xf7 \\xc2\\xf0\\x97'\n"
     ]
    }
   ],
   "source": [
    "kdf = Scrypt(salt, length, n, r, p)\n",
    "hashed_pwd = kdf.derive(password)\n",
    "\n",
    "print(hashed_pwd)"
   ]
  },
  {
   "attachments": {},
   "cell_type": "markdown",
   "id": "c6d5bce7-8b52-4193-98d9-f71267d9f007",
   "metadata": {},
   "source": [
    "Check that the results are:\n",
    "```python\n",
    "hashed_pwd = b'\\x0e\\xc6M\\xf7In\\x97\\xce\\x87\\x8c\\xce\\x06\\xceo\\xe2\\xeb\\x18\\x02*v\\xa2=c\\xfd\\x14\\xba\\xe0\\xf7 \\xc2\\xf0\\x97' \n",
    "b64_hashed_pwd = b'DsZN90lul86HjM4Gzm/i6xgCKnaiPWP9FLrg9yDC8Jc='\n",
    "```"
   ]
  },
  {
   "attachments": {},
   "cell_type": "markdown",
   "id": "42002cac-f0d8-47cc-8400-f11da096b0b2",
   "metadata": {},
   "source": [
    "### Task 3.1.2 Password verification with Scrypt\n",
    "Now verify the password against the “hash” of the password using the same parameters and configuration."
   ]
  },
  {
   "cell_type": "code",
   "execution_count": 75,
   "id": "5023135a-213b-44f1-a5ce-e984b1497de4",
   "metadata": {},
   "outputs": [],
   "source": [
    "kdf = Scrypt(salt, length, n, r, p)\n",
    "kdf.verify(password, hashed_pwd)"
   ]
  },
  {
   "attachments": {},
   "cell_type": "markdown",
   "id": "4d5a1e56-71f7-4293-b272-5ceee1cc963b",
   "metadata": {},
   "source": [
    "### Task 3.1.3 Failed password verification with Scrypt\n",
    "Try to verify the “hashed” password against another (incorrect) password. Notice that you have to capture the\n",
    "exception <code>cryptography.exceptions.InvalidKey</code>."
   ]
  },
  {
   "cell_type": "code",
   "execution_count": 77,
   "id": "7bc4b0c6-5824-434d-90ce-fc456ef8a185",
   "metadata": {},
   "outputs": [
    {
     "name": "stdout",
     "output_type": "stream",
     "text": [
      "Verification failed\n"
     ]
    }
   ],
   "source": [
    "try:\n",
    "    kdf = Scrypt(salt = salt, length = 32, n = 2**14, r = 8, p = 1)\n",
    "    kdf.verify(password + b\"0\", hashed_pwd)\n",
    "    print(\"Verification passed\")\n",
    "except InvalidKey:\n",
    "    print(\"Verification failed\")"
   ]
  },
  {
   "attachments": {},
   "cell_type": "markdown",
   "id": "272fd9b4-51e3-4cd2-8b0b-82d40bf5f7f4",
   "metadata": {},
   "source": [
    "## 3.2 PBKDF2 (Password Based Key Derivation Function 2)\n",
    "\n",
    "Now, you’ll use PBKDF2 (combined with a SHA256 based HMAC) to derive a high-quality key from a password.\n",
    "\n",
    "Read documentation [here](https://cryptography.io/en/latest/hazmat/primitives/key-derivationfunctions/#cryptography.hazmat.primitives.kdf.pbkdf2.PBKDF2HMAC)."
   ]
  },
  {
   "attachments": {},
   "cell_type": "markdown",
   "id": "4d575b39",
   "metadata": {},
   "source": [
    "### Task 3.2.1 Generating high-quality keys from a password with PBKDF2\n",
    "Compute the derived key from the given password using the following parameters and configurations.\n",
    "\n",
    "_Note: We will not practice the verification of PBKDF2 as it is not necessary if used for generating higher quality keys. However, it can be verified similarly to Scrypt function._"
   ]
  },
  {
   "cell_type": "code",
   "execution_count": 79,
   "id": "a8cc0edf-8ba3-47d3-99fd-cdc95ace56fb",
   "metadata": {},
   "outputs": [],
   "source": [
    "pwd = b'my great password'\n",
    "salt = b'\\x00\\x10\\xe1e\\xbek\\xeeSGd\\xb5(=\\x1f\\xaft'\n",
    "b64_salt = b'ABDhZb5r7lNHZLUoPR+vdA=='\n",
    "algorithm = hashes.SHA256()\n",
    "length = 32\n",
    "iterations = 100000"
   ]
  },
  {
   "cell_type": "code",
   "execution_count": 81,
   "id": "5102911a",
   "metadata": {},
   "outputs": [
    {
     "name": "stdout",
     "output_type": "stream",
     "text": [
      "b'\\xbeW\\x06U\\xc2\\xb8\\xf8\\xdai\\xf5\\x12k\\x18\\xe8\\x82\\xdb\\xde/\\xfcnB\\xf7\\x1b\\xa6\\xe1J\\xa1\\x82\\x984+\\xe2'\n"
     ]
    }
   ],
   "source": [
    "kdf = PBKDF2HMAC(algorithm, length, salt, iterations)\n",
    "derived_key = kdf.derive(pwd)\n",
    "\n",
    "print(derived_key)"
   ]
  },
  {
   "attachments": {},
   "cell_type": "markdown",
   "id": "09d50deb-86ad-4199-842e-cd343e280de9",
   "metadata": {},
   "source": [
    "Check the results:\n",
    "```python\n",
    "derived_key = b'\\xbeW\\x06U\\xc2\\xb8\\xf8\\xdai\\xf5\\x12k\\x18\\xe8\\x82\\xdb\\xde/\\xfcnB\\xf7\\x1b\\xa6\\xe1J\\xa1\\x82\\x984+\\xe2'\n",
    "b64_derived_key = b'vlcGVcK4+Npp9RJrGOiC294v/G5C9xum4Uqhgpg0K+I='\n",
    "```"
   ]
  },
  {
   "attachments": {},
   "cell_type": "markdown",
   "id": "9b673277-d00e-41b2-b5ca-576d29acb804",
   "metadata": {},
   "source": [
    "# 4. Authenticated Encryption\n",
    "\n",
    "## 4.1 FERNET\n",
    "\n",
    "Fernet is a system for symmetric encryption/decryption, using current best practices. It also authenticates the\n",
    "message, which means that the recipient can tell if the message has been altered in any way from what was originally\n",
    "sent. Fernet is included in the cryptography library. It is implemented with AES 128 in CBC mode and SHA256\n",
    "HMAC.\n",
    "\n",
    "To encrypt and decrypt data, we will need a secret key that must be shared between anyone who needs to encrypt or\n",
    "decrypt data. It must be kept secret from anyone else, because anyone who knows the key can read and create\n",
    "encrypted messages. This means that we will need a secure mechanism to share the key. The same key can be used\n",
    "multiple times.\n",
    "\n",
    "Read documentation [here](https://cryptography.io/en/latest/fernet/) (and also [here](https://github.com/fernet/spec/blob/master/Spec.md))."
   ]
  },
  {
   "attachments": {},
   "cell_type": "markdown",
   "id": "9565cd8b",
   "metadata": {},
   "source": [
    "### Task 4.1.1 Encrypting a message with Fernet\n",
    "\n",
    "To encrypt (and authenticate) a message, we must first create a Fernet object using a previously created key. We then\n",
    "call the encrypt function, passing the data we wish to encrypt in the form of a byte array.\n",
    "\n",
    "Encrypt the given message using Fernet with the given key given.\n",
    "\n",
    "Notice that although in this lab assignment the key is provided to you, you should randomly generate new ones for\n",
    "each session.\n",
    "\n",
    "Notice also that the key and the token are coded following a variant of base64 which is safe for URL encoding:\n",
    "<code>base64URL</code>."
   ]
  },
  {
   "cell_type": "code",
   "execution_count": 83,
   "id": "c4a8c3cb-e0f8-4f99-ac03-3282e5ed040a",
   "metadata": {},
   "outputs": [],
   "source": [
    "message = b'my deep dark secret'\n",
    "fernet_key = b'jdOQiny3SqoBvqNyFUSrGSG_rYzoDoPIONR21LTRCxk='  # fernet_key = Fernet.generate_key()"
   ]
  },
  {
   "cell_type": "code",
   "execution_count": 88,
   "id": "2e98443b",
   "metadata": {},
   "outputs": [
    {
     "name": "stdout",
     "output_type": "stream",
     "text": [
      "b'gAAAAABjySvt0Z7pM5EwHoNc_SdBe5jjKbZUe6Ql4jg6EllgQc1sWkHzRfbUZN3QsUQ0JglIdN-R1XnXjwaEawoikYSqL3irLihCYQVi6hg2yyP-mI4az7s='\n"
     ]
    }
   ],
   "source": [
    "f = Fernet(fernet_key)\n",
    "fernet_token = f.encrypt(message)\n",
    "\n",
    "print(fernet_token)"
   ]
  },
  {
   "attachments": {},
   "cell_type": "markdown",
   "id": "4838924b-4951-4bb4-85c5-5c8de6023953",
   "metadata": {},
   "source": [
    "You should get something *similar* to the token shown next (notice that it should be different, as the IV, is with a high probability different). Notice that this token contains the HMAC authentication tag, several parameters (version, timestamp), the IV for CBC and the AES ciphertext:\n",
    "```python\n",
    "fernet_token = b'gAAAAABfs9hj_1geoztj4Toon--b6IKAHZtUhYAofYN5jK29l-9_1i-Gb9R6AOQqZSpTSyX8-0fIgbY8fgNUz7gmVhmAYiQ1qJS1xp0eMaZHOWrQlBTTgfA='\n",
    "```"
   ]
  },
  {
   "attachments": {},
   "cell_type": "markdown",
   "id": "acfa2701-6bda-44f6-8ee5-59fb311adc39",
   "metadata": {},
   "source": [
    "### Task 4.1.2 Decrypting a message encrypted with Fernet\n",
    "\n",
    "To decrypt (and verify) a Fernet token, you must again create a Fernet object using the same key that was used to\n",
    "encrypt (and authenticate) the data. You then have to call the decrypt function, passing to it the Fernet token in the\n",
    "form of a byte array. The function returns the decrypted original message if everything is correct.\n",
    "\n",
    "Verify the Fernet token you obtained in the previous task."
   ]
  },
  {
   "cell_type": "code",
   "execution_count": 85,
   "id": "950e1a09-0c0f-4850-84fe-67a5b2a33de1",
   "metadata": {},
   "outputs": [
    {
     "name": "stdout",
     "output_type": "stream",
     "text": [
      "b'my deep dark secret'\n"
     ]
    }
   ],
   "source": [
    "print(f.decrypt(fernet_token))"
   ]
  },
  {
   "attachments": {},
   "cell_type": "markdown",
   "id": "c4e860cb-1124-446f-8630-6aab22f962b8",
   "metadata": {},
   "source": [
    "### Task 4.1.3 Failed Fernet token verification\n",
    "\n",
    "Modify the token and check that the decryption (and verification) raises an error. It could be a good idea to capture the exception <code>cryptography.fernet.InvalidToken</code>. To make the modifications at the beginning of the Fernet token, you can use, for example, <code>corrupted_token = b'01a2' + fernet_token </code>."
   ]
  },
  {
   "cell_type": "code",
   "execution_count": 90,
   "id": "951d288f-10c0-4300-b154-916334b02046",
   "metadata": {},
   "outputs": [
    {
     "name": "stdout",
     "output_type": "stream",
     "text": [
      "Verification failed\n"
     ]
    }
   ],
   "source": [
    "corrupted_token = b'01a2' + fernet_token\n",
    "try:\n",
    "    pt = f.decrypt(corrupted_token)\n",
    "    print(\"Verification successful\")\n",
    "except InvalidToken:\n",
    "    print(\"Verification failed\")"
   ]
  },
  {
   "attachments": {},
   "cell_type": "markdown",
   "id": "a642e1f0-2db8-467f-ad1f-d3b958482088",
   "metadata": {},
   "source": [
    "## 4.2 AES-GCM\n",
    "\n",
    "Another way to implement both encryption and authentication is using an authenticated encryption operation mode.\n",
    "These modern operation modes encrypt the plaintext and also generate an authentication tag, in both cases using\n",
    "symmetric cryptography. Encryption is done with a symmetric cipher and authentication with a MAC.\n",
    "\n",
    "In this Lab you’ll use one of these special operation modes, particularly, the Galois Counter Mode (GCM).\n",
    "GCM implements what is known as authenticated encryption with additional data (AEAD). In this case data used as\n",
    "input to the algorithm is composed by two different parts:\n",
    "- plaintext: this will be the part of the input that will be encrypted and authenticated\n",
    "- associated data: this part of the input will NOT be encrypted, but will be authenticated\n",
    "\n",
    "Read the documentation of the function that already integrates AES with GCM [here](https://cryptography.io/en/latest/hazmat/primitives/aead/#cryptography.hazmat.primitives.ciphers.aead.AESGCM)."
   ]
  },
  {
   "attachments": {},
   "cell_type": "markdown",
   "id": "61dfd789",
   "metadata": {},
   "source": [
    "### Task 4.2.1 Encrypting (and authenticating) with AES-GCM\n",
    "\n",
    "Encrypt with AESGCM the following plaintext (data) and associated data (aad) using the parameters given in Code\n",
    "Snippet 12.\n",
    "\n",
    "Notice that although in this lab assignment the key is provided to you, you should randomly generate new ones each\n",
    "time you would like to use AESGCM.\n",
    "\n",
    "Notice also that the documentation of this class repeats multiple times that YOU SHOULD NEVER REUSE A NONCE\n",
    "with the same key. Doing so makes the encryption completely vulnerable."
   ]
  },
  {
   "cell_type": "code",
   "execution_count": 91,
   "id": "bfad306f-fdc9-4a90-a2bc-7900753eaaa9",
   "metadata": {},
   "outputs": [],
   "source": [
    "data = b\"my super mega secret message\"\n",
    "aad = b\"authenticated but unencrypted data\"\n",
    "aesgcm_key = b'\\x00A \\x07a\\x1c\\xa4T\\xd8N\\xa6\\x1c\\xae\\x89\\xd2\\xde'\n",
    "b64_aesgcm_key = b'AEEgB2EcpFTYTqYcronS3g=='\n",
    "aesgcm_nonce = b'&\\xa8\\xc4\\xb0\\xf6\\xbf\\xd4\\xea\\xe3UU+'\n",
    "b64_aesgcm_nonce = b'JqjEsPa/1OrjVVUr'"
   ]
  },
  {
   "cell_type": "code",
   "execution_count": 92,
   "id": "4f5cef30",
   "metadata": {},
   "outputs": [
    {
     "name": "stdout",
     "output_type": "stream",
     "text": [
      "b'\\xea\\x80\\x94\\t(\\x9e\\xda\\xcdo\\xdc\\xb7\\x048\\x8e\\xb6\\xaa6\\nZu\\xa7y\\xe0n\\xa8\\x0bv\\xcd\\xf3\\xd6\\xf9\\xec\\x85j\\xcco\\xa3\\xc2\\xa1\\xd2n\\xb5|\\x18'\n"
     ]
    }
   ],
   "source": [
    "aesgcm = AESGCM(aesgcm_key)\n",
    "ciphertext_tag = aesgcm.encrypt(aesgcm_nonce, data, aad)\n",
    "\n",
    "print(ciphertext_tag)"
   ]
  },
  {
   "attachments": {},
   "cell_type": "markdown",
   "id": "382afbeb-0dc5-493f-9286-0d184ab5cfd9",
   "metadata": {},
   "source": [
    "Check the results are:\n",
    "```python\n",
    "ciphertext_tag = b'\\xea\\x80\\x94\\t(\\x9e\\xda\\xcdo\\xdc\\xb7\\x048\\x8e\\xb6\\xaa6\\nZu\\xa7y\\xe0n\\xa8\\x0bv\\xcd\\xf3\\xd6\\xf9\\xec\\x85j\\xcco\\xa3\\xc2\\xa1\\xd2n\\xb5|\\x18'\n",
    "b64_ciphertext_tag = b'6oCUCSie2s1v3LcEOI62qjYKWnWneeBuqAt2zfPW+eyFasxvo8Kh0m61fBg='\n",
    "```"
   ]
  },
  {
   "attachments": {},
   "cell_type": "markdown",
   "id": "f9876761-40e1-4852-8a10-c8adcb8bf269",
   "metadata": {},
   "source": [
    "### Task 4.2.2 Decrypting (and verifying) an AES-GCM ciphertext (and authentication tag)\n",
    "Verify your ciphertext and tag. You should get the original plaintext."
   ]
  },
  {
   "cell_type": "code",
   "execution_count": 93,
   "id": "839a35c0-a5d3-4f76-8d74-91b2dc4404e9",
   "metadata": {},
   "outputs": [
    {
     "name": "stdout",
     "output_type": "stream",
     "text": [
      "b'my super mega secret message'\n"
     ]
    }
   ],
   "source": [
    "print(aesgcm.decrypt(aesgcm_nonce, ciphertext_tag, aad))"
   ]
  },
  {
   "attachments": {},
   "cell_type": "markdown",
   "id": "691aabc3-2f27-4e97-9c2f-3a2e8f985a75",
   "metadata": {},
   "source": [
    "### Task 4.2.3 Failed AES-GCM decryption (and authentication)\n",
    "Modify the ciphertext and check that the decryption and verification process fail. You may have to capture the\n",
    "exception <code>cryptography.exceptions.InvalidTag</code>."
   ]
  },
  {
   "cell_type": "code",
   "execution_count": 95,
   "id": "110a4691-f949-4377-97e0-2973b748d2e8",
   "metadata": {},
   "outputs": [
    {
     "name": "stdout",
     "output_type": "stream",
     "text": [
      "Verification failed\n"
     ]
    }
   ],
   "source": [
    "corrupted_tag = b'01a2' + ciphertext_tag\n",
    "try:\n",
    "    pt = aesgcm.decrypt(aesgcm_nonce, corrupted_tag, aad)\n",
    "    print(\"Verification successful\")\n",
    "except InvalidTag:\n",
    "    print(\"Verification failed\")"
   ]
  },
  {
   "attachments": {},
   "cell_type": "markdown",
   "id": "58b0b01d-5058-4a5f-94b3-a09ed375bb74",
   "metadata": {},
   "source": [
    "# 5. RSA Signatures\n",
    "\n",
    "## 5.1 RSA SIGNATURE GENERATION (SIGNING)\n",
    "\n",
    "A digital signature is a byte-like object that allows verifying the authenticity of digital messages or documents. Digital\n",
    "signatures schemes use asymmetric cryptography. In this Lab you’ll use RSA signature generation and verification\n",
    "functions.\n",
    "\n",
    "Read the documentation [here](https://cryptography.io/en/latest/hazmat/primitives/asymmetric/rsa/#signing)."
   ]
  },
  {
   "attachments": {},
   "cell_type": "markdown",
   "id": "e889de09-ade2-48fe-948d-fd56f82fdd40",
   "metadata": {},
   "source": [
    "### Task 5.1.1 Reading the contents of a file\n",
    "Create a file <code>files/payload.dat</code> within the Lab environment. Write something (ascii) in the file. Save it.\n",
    "\n",
    "Now you can read its contents (as binary data) with the following code:"
   ]
  },
  {
   "cell_type": "code",
   "execution_count": 108,
   "id": "c9df1bb0-fd2f-4531-891e-e28f6b204998",
   "metadata": {},
   "outputs": [],
   "source": [
    "with open('files/payload.dat', 'rb') as f:\n",
    "    payload = f.read()"
   ]
  },
  {
   "attachments": {},
   "cell_type": "markdown",
   "id": "470ff62c-68f9-4cd5-8ff2-4784a49dbb39",
   "metadata": {},
   "source": [
    "Retrieve the content of the file (by reading it) and print it with Python."
   ]
  },
  {
   "cell_type": "code",
   "execution_count": 109,
   "id": "08697d3f-3152-43b3-b4d0-c35329ce1ede",
   "metadata": {},
   "outputs": [
    {
     "name": "stdout",
     "output_type": "stream",
     "text": [
      "b'en el aeropuerto hay avione'\n"
     ]
    }
   ],
   "source": [
    "with open('files/payload.dat', 'rb') as f:\n",
    "    payload = f.read()\n",
    "\n",
    "print(payload)"
   ]
  },
  {
   "attachments": {},
   "cell_type": "markdown",
   "id": "4f83b307-d02e-4c63-8651-10acb3caa0e0",
   "metadata": {},
   "source": [
    "### Task 5.1.2 Signing with RSA-PSS\n",
    "\n",
    "To perform the signature, you may use one of the asymmetric keys generated previously in Lab2 or generate a\n",
    "new keypair. Which one do you have to use to generate the signature, the public or the private one? Check the\n",
    "library documentation to answer this question or review lecture materials!\n",
    "\n",
    "Sign the contents of the file <code>files/payload.txt</code>. Use PSS padding and SHA256 hash. For PSS padding, use the parameters given next."
   ]
  },
  {
   "cell_type": "code",
   "execution_count": 100,
   "id": "74292602-10ab-4afa-9570-8021061cfd02",
   "metadata": {},
   "outputs": [],
   "source": [
    "mgf = asym_padding.MGF1(hashes.SHA256())\n",
    "salt_length = asym_padding.PSS.MAX_LENGTH"
   ]
  },
  {
   "cell_type": "code",
   "execution_count": 105,
   "id": "316a8d2c",
   "metadata": {},
   "outputs": [
    {
     "name": "stdout",
     "output_type": "stream",
     "text": [
      "b'\\x98\\x1e\\xee\\x106?\\x17qL2\"\\x8f\\xf2%&\\xa1\\r\\xc9=\\x9f1\\xd7\\x0bM\\xf9\\x1b\\x8fvr\\x11\\x119\\xef\\xa8\\x03t\\xf9/\\x00\\xc8\\xafJpi\\xcf)Es\\xb3 \\x91\\xfd|\\x1f\\xc8Hb\\xc3\\x1e\\xb5`b\\xa9\\xe1\\xcd4e\\x02*\\xb2\\x93\\x81\\xd1\\x93\\xae\\xa1,rT\\x01\\x06\\xe7\\x14\\xb2U\\xb5\\'8wp\\xcd2m:\\xee\\xd9\\x951\\xd6\\x196{\\x83\\xe1\\xed\\xe9\\xc7\\xd6b\\xbc$\\xc8\\xb8\\x90\\\\e\\xea\\n\\xcf\\x18aq\\xff\\xbfj\\x19(m\\xcf\\xe1=!kz\\xc9Y\\xf9o\\xcfi\\xa9\\x86H\\xe7T\\xc1\\x05\\x87.\\x1d&r\\xa7\\xe9\\xb99\\xb1J\\x06\\x07\\xf2=w\\xee\\xff\\xb9\\xabiG\\x11e \\xb4\\xf4ix\\xd8\\xc7\\xfeUTY\\x0e\\xd1\\xd8#l\\x89\\xde\\xff$\\xe80\\xe8\\xf3\\xbc\\x08=]4G\\xed\\xd9`\\xff\\x04h\\x11#>\\xeb\\xed\\xaa}r\\xc9\\xbd\\xd2\\xdb\\xfa\\xeba\\xbb\\x99\\xc7*\\xaa\\xe6\\xef\\x08\\x1d\\x1c[\\x06\\xf3S\\xad%:\\x935s\\x82\\xe98\\xbb\\xdc\\xc1\\xe8\\xf8\\xc9\\xa5\\xad\\xbeH\\x85' <class 'bytes'>\n"
     ]
    }
   ],
   "source": [
    "# load the keys\n",
    "PASSWORD = b\"pene\"\n",
    "\n",
    "with open(\"files/priv_key.pem\", 'rb') as pem_in: \n",
    "    priv_key = load_pem_private_key(pem_in.read(), PASSWORD)\n",
    "    \n",
    "with open(\"files/pub_key.pem\", 'rb') as pem_in: \n",
    "    pub_key = load_pem_public_key(pem_in.read())\n",
    "\n",
    "# signing\n",
    "signature = priv_key.sign(payload, asym_padding.PSS(mgf, salt_length), hashes.SHA256())\n",
    "\n",
    "print(signature, type(signature))\n"
   ]
  },
  {
   "attachments": {},
   "cell_type": "markdown",
   "id": "26280d27-530f-471d-b8e8-801fec1e2222",
   "metadata": {},
   "source": [
    "### Task 5.1.3 Saving data to a file\n",
    "After generating the signature, save it in <code>files/signature.sig</code>."
   ]
  },
  {
   "cell_type": "code",
   "execution_count": 103,
   "id": "1c4fb85b-1f6f-495d-b0df-2766d92abd05",
   "metadata": {},
   "outputs": [],
   "source": [
    "with open('files/signature.sig', 'wb') as f:\n",
    "    f.write(signature)"
   ]
  },
  {
   "attachments": {},
   "cell_type": "markdown",
   "id": "651425e3-8c30-4c48-8f63-d9061523becf",
   "metadata": {},
   "source": [
    "Have a look at the contents of this file using the IDE you are using (or a simple text editor like NotePad++ or similar).\n",
    "If you do not like what you see, encode the data before saving with base64 encoding or in hexadecimal."
   ]
  },
  {
   "cell_type": "code",
   "execution_count": 114,
   "id": "477fbe3f",
   "metadata": {},
   "outputs": [],
   "source": [
    "with open('files/signature_hex.sig', 'w') as f:\n",
    "    f.write(signature.hex())"
   ]
  },
  {
   "attachments": {},
   "cell_type": "markdown",
   "id": "420c1ce6-6ca0-420b-93ea-2d8ae9141808",
   "metadata": {},
   "source": [
    "## 5.2 RSA SIGNATURE VERIFICATION\n",
    "\n",
    "To verify the document signed in the previous section it is necessary that you use the corresponding key, and the\n",
    "contents of the files <code>payload.dat</code> and <code>signature.sig</code>. If you encoded the signature, remember to decode it before the verification.\n",
    "\n",
    "Read the documentation [here](https://cryptography.io/en/latest/hazmat/primitives/asymmetric/rsa/#verification)."
   ]
  },
  {
   "attachments": {},
   "cell_type": "markdown",
   "id": "b7dc5f7f-b650-4433-a2e9-ca5d20e6427d",
   "metadata": {},
   "source": [
    "### Task 5.2.1 Verifying an RSA-PSS signature\n",
    "\n",
    "First, make sure you know the key you should use, the public or the private one?\n",
    "\n",
    "Write the code needed to verify the previous signature using the same algorithm parameters. Note that it may raise\n",
    "the exception <code>cryptography.exceptions.InvalidSignature</code> if the signature isn’t valid."
   ]
  },
  {
   "cell_type": "code",
   "execution_count": 115,
   "id": "0d56052f",
   "metadata": {},
   "outputs": [],
   "source": [
    "# read files\n",
    "with open('files/payload.dat', 'rb') as f:\n",
    "    payload = f.read()\n",
    "with open('files/signature.sig', 'rb') as f:\n",
    "    signature = f.read()\n",
    "\n",
    "# verify (w/ public key)\n",
    "\n",
    "pub_key.verify(signature, payload, asym_padding.PSS(mgf, salt_length), hashes.SHA256())"
   ]
  },
  {
   "attachments": {},
   "cell_type": "markdown",
   "id": "3c98084e-3e1c-40f5-857b-5f70c2a011cc",
   "metadata": {},
   "source": [
    "### Task 5.2.2 Failed RSA-PSS signature verification\n",
    "\n",
    "Sign the document again and before verifying it:\n",
    "- Check that the generated signature is different\n",
    "- Change some character within the contents of <code>payload.txt</code> and check that the verification fails."
   ]
  },
  {
   "cell_type": "code",
   "execution_count": 117,
   "id": "0f0f46eb",
   "metadata": {},
   "outputs": [
    {
     "name": "stdout",
     "output_type": "stream",
     "text": [
      "Verification failed\n"
     ]
    }
   ],
   "source": [
    "corrupted_payload = payload + b\"0\"\n",
    "\n",
    "try:\n",
    "    pub_key.verify(corrupted_payload, payload, asym_padding.PSS(mgf, salt_length), hashes.SHA256())\n",
    "    print(\"Verification successful\")\n",
    "except InvalidSignature:\n",
    "    print(\"Verification failed\")"
   ]
  }
 ],
 "metadata": {
  "kernelspec": {
   "display_name": "Python 3",
   "language": "python",
   "name": "python3"
  },
  "language_info": {
   "codemirror_mode": {
    "name": "ipython",
    "version": 3
   },
   "file_extension": ".py",
   "mimetype": "text/x-python",
   "name": "python",
   "nbconvert_exporter": "python",
   "pygments_lexer": "ipython3",
   "version": "3.10.8"
  },
  "vscode": {
   "interpreter": {
    "hash": "d66e01cde6072322fed9d9621623693bd38d21842437dd24de56a92444191d53"
   }
  }
 },
 "nbformat": 4,
 "nbformat_minor": 5
}
